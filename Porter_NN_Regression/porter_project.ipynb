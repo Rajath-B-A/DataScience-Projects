{
  "cells": [
    {
      "cell_type": "markdown",
      "metadata": {
        "id": "OAwljYN1jE2i"
      },
      "source": [
        "# PORTER : Neural Network Regression\n",
        "\n",
        "Problem Statement\n",
        "\n",
        "Porter works with a wide range of restaurants for delivering their items directly to the people.\n",
        "Porter has a number of delivery partners available for delivering the food, from various restaurants and wants to get an estimated delivery time that it can provide the customers on the basis of what they are ordering, from where and also the delivery partners.\n",
        "Using the  data train a NN regression model that will do the delivery time estimation, based on all the features."
      ]
    },
    {
      "cell_type": "code",
      "execution_count": null,
      "metadata": {
        "id": "ACL33xxVjE2t"
      },
      "outputs": [],
      "source": [
        "import pandas as pd\n",
        "import numpy as np\n",
        "import matplotlib.pyplot as plt\n",
        "import seaborn as sns\n",
        "import os"
      ]
    },
    {
      "cell_type": "code",
      "execution_count": null,
      "metadata": {
        "id": "eOsgWBXbjE2v"
      },
      "outputs": [],
      "source": [
        "import warnings\n",
        "warnings.filterwarnings('ignore')"
      ]
    },
    {
      "cell_type": "markdown",
      "metadata": {
        "id": "OGRmr5aAjE2w"
      },
      "source": [
        "### Importing the dataset"
      ]
    },
    {
      "cell_type": "code",
      "execution_count": null,
      "metadata": {
        "colab": {
          "base_uri": "https://localhost:8080/"
        },
        "id": "QyPrHQCtjGbP",
        "outputId": "4e9778dd-e576-4b10-a8e9-862e93903a74"
      },
      "outputs": [
        {
          "output_type": "stream",
          "name": "stdout",
          "text": [
            "Downloading...\n",
            "From: https://drive.google.com/uc?id=1Foo7f8l2VfbMHfCyx5_lWx9JM-a5pKQC\n",
            "To: /content/dataset.csv\n",
            "\r  0% 0.00/23.8M [00:00<?, ?B/s]\r 64% 15.2M/23.8M [00:00<00:00, 148MB/s]\r100% 23.8M/23.8M [00:00<00:00, 171MB/s]\n"
          ]
        }
      ],
      "source": [
        "!gdown 1Foo7f8l2VfbMHfCyx5_lWx9JM-a5pKQC"
      ]
    },
    {
      "cell_type": "code",
      "execution_count": null,
      "metadata": {
        "id": "J8uq5f-BjE2x"
      },
      "outputs": [],
      "source": [
        "data = pd.read_csv('dataset.csv')"
      ]
    },
    {
      "cell_type": "code",
      "execution_count": null,
      "metadata": {
        "colab": {
          "base_uri": "https://localhost:8080/",
          "height": 313
        },
        "id": "9QEN8E-ljE2x",
        "outputId": "df084f0c-1ea9-4aa9-c925-273ddb10ed65"
      },
      "outputs": [
        {
          "output_type": "execute_result",
          "data": {
            "text/plain": [
              "   market_id           created_at actual_delivery_time  \\\n",
              "0        1.0  2015-02-06 22:24:17  2015-02-06 23:27:16   \n",
              "1        2.0  2015-02-10 21:49:25  2015-02-10 22:56:29   \n",
              "2        3.0  2015-01-22 20:39:28  2015-01-22 21:09:09   \n",
              "3        3.0  2015-02-03 21:21:45  2015-02-03 22:13:00   \n",
              "4        3.0  2015-02-15 02:40:36  2015-02-15 03:20:26   \n",
              "\n",
              "                           store_id store_primary_category  order_protocol  \\\n",
              "0  df263d996281d984952c07998dc54358               american             1.0   \n",
              "1  f0ade77b43923b38237db569b016ba25                mexican             2.0   \n",
              "2  f0ade77b43923b38237db569b016ba25                    NaN             1.0   \n",
              "3  f0ade77b43923b38237db569b016ba25                    NaN             1.0   \n",
              "4  f0ade77b43923b38237db569b016ba25                    NaN             1.0   \n",
              "\n",
              "   total_items  subtotal  num_distinct_items  min_item_price  max_item_price  \\\n",
              "0            4      3441                   4             557            1239   \n",
              "1            1      1900                   1            1400            1400   \n",
              "2            1      1900                   1            1900            1900   \n",
              "3            6      6900                   5             600            1800   \n",
              "4            3      3900                   3            1100            1600   \n",
              "\n",
              "   total_onshift_partners  total_busy_partners  total_outstanding_orders  \n",
              "0                    33.0                 14.0                      21.0  \n",
              "1                     1.0                  2.0                       2.0  \n",
              "2                     1.0                  0.0                       0.0  \n",
              "3                     1.0                  1.0                       2.0  \n",
              "4                     6.0                  6.0                       9.0  "
            ],
            "text/html": [
              "\n",
              "  <div id=\"df-ad11734d-5d63-48fd-94d1-250eea35c875\" class=\"colab-df-container\">\n",
              "    <div>\n",
              "<style scoped>\n",
              "    .dataframe tbody tr th:only-of-type {\n",
              "        vertical-align: middle;\n",
              "    }\n",
              "\n",
              "    .dataframe tbody tr th {\n",
              "        vertical-align: top;\n",
              "    }\n",
              "\n",
              "    .dataframe thead th {\n",
              "        text-align: right;\n",
              "    }\n",
              "</style>\n",
              "<table border=\"1\" class=\"dataframe\">\n",
              "  <thead>\n",
              "    <tr style=\"text-align: right;\">\n",
              "      <th></th>\n",
              "      <th>market_id</th>\n",
              "      <th>created_at</th>\n",
              "      <th>actual_delivery_time</th>\n",
              "      <th>store_id</th>\n",
              "      <th>store_primary_category</th>\n",
              "      <th>order_protocol</th>\n",
              "      <th>total_items</th>\n",
              "      <th>subtotal</th>\n",
              "      <th>num_distinct_items</th>\n",
              "      <th>min_item_price</th>\n",
              "      <th>max_item_price</th>\n",
              "      <th>total_onshift_partners</th>\n",
              "      <th>total_busy_partners</th>\n",
              "      <th>total_outstanding_orders</th>\n",
              "    </tr>\n",
              "  </thead>\n",
              "  <tbody>\n",
              "    <tr>\n",
              "      <th>0</th>\n",
              "      <td>1.0</td>\n",
              "      <td>2015-02-06 22:24:17</td>\n",
              "      <td>2015-02-06 23:27:16</td>\n",
              "      <td>df263d996281d984952c07998dc54358</td>\n",
              "      <td>american</td>\n",
              "      <td>1.0</td>\n",
              "      <td>4</td>\n",
              "      <td>3441</td>\n",
              "      <td>4</td>\n",
              "      <td>557</td>\n",
              "      <td>1239</td>\n",
              "      <td>33.0</td>\n",
              "      <td>14.0</td>\n",
              "      <td>21.0</td>\n",
              "    </tr>\n",
              "    <tr>\n",
              "      <th>1</th>\n",
              "      <td>2.0</td>\n",
              "      <td>2015-02-10 21:49:25</td>\n",
              "      <td>2015-02-10 22:56:29</td>\n",
              "      <td>f0ade77b43923b38237db569b016ba25</td>\n",
              "      <td>mexican</td>\n",
              "      <td>2.0</td>\n",
              "      <td>1</td>\n",
              "      <td>1900</td>\n",
              "      <td>1</td>\n",
              "      <td>1400</td>\n",
              "      <td>1400</td>\n",
              "      <td>1.0</td>\n",
              "      <td>2.0</td>\n",
              "      <td>2.0</td>\n",
              "    </tr>\n",
              "    <tr>\n",
              "      <th>2</th>\n",
              "      <td>3.0</td>\n",
              "      <td>2015-01-22 20:39:28</td>\n",
              "      <td>2015-01-22 21:09:09</td>\n",
              "      <td>f0ade77b43923b38237db569b016ba25</td>\n",
              "      <td>NaN</td>\n",
              "      <td>1.0</td>\n",
              "      <td>1</td>\n",
              "      <td>1900</td>\n",
              "      <td>1</td>\n",
              "      <td>1900</td>\n",
              "      <td>1900</td>\n",
              "      <td>1.0</td>\n",
              "      <td>0.0</td>\n",
              "      <td>0.0</td>\n",
              "    </tr>\n",
              "    <tr>\n",
              "      <th>3</th>\n",
              "      <td>3.0</td>\n",
              "      <td>2015-02-03 21:21:45</td>\n",
              "      <td>2015-02-03 22:13:00</td>\n",
              "      <td>f0ade77b43923b38237db569b016ba25</td>\n",
              "      <td>NaN</td>\n",
              "      <td>1.0</td>\n",
              "      <td>6</td>\n",
              "      <td>6900</td>\n",
              "      <td>5</td>\n",
              "      <td>600</td>\n",
              "      <td>1800</td>\n",
              "      <td>1.0</td>\n",
              "      <td>1.0</td>\n",
              "      <td>2.0</td>\n",
              "    </tr>\n",
              "    <tr>\n",
              "      <th>4</th>\n",
              "      <td>3.0</td>\n",
              "      <td>2015-02-15 02:40:36</td>\n",
              "      <td>2015-02-15 03:20:26</td>\n",
              "      <td>f0ade77b43923b38237db569b016ba25</td>\n",
              "      <td>NaN</td>\n",
              "      <td>1.0</td>\n",
              "      <td>3</td>\n",
              "      <td>3900</td>\n",
              "      <td>3</td>\n",
              "      <td>1100</td>\n",
              "      <td>1600</td>\n",
              "      <td>6.0</td>\n",
              "      <td>6.0</td>\n",
              "      <td>9.0</td>\n",
              "    </tr>\n",
              "  </tbody>\n",
              "</table>\n",
              "</div>\n",
              "    <div class=\"colab-df-buttons\">\n",
              "\n",
              "  <div class=\"colab-df-container\">\n",
              "    <button class=\"colab-df-convert\" onclick=\"convertToInteractive('df-ad11734d-5d63-48fd-94d1-250eea35c875')\"\n",
              "            title=\"Convert this dataframe to an interactive table.\"\n",
              "            style=\"display:none;\">\n",
              "\n",
              "  <svg xmlns=\"http://www.w3.org/2000/svg\" height=\"24px\" viewBox=\"0 -960 960 960\">\n",
              "    <path d=\"M120-120v-720h720v720H120Zm60-500h600v-160H180v160Zm220 220h160v-160H400v160Zm0 220h160v-160H400v160ZM180-400h160v-160H180v160Zm440 0h160v-160H620v160ZM180-180h160v-160H180v160Zm440 0h160v-160H620v160Z\"/>\n",
              "  </svg>\n",
              "    </button>\n",
              "\n",
              "  <style>\n",
              "    .colab-df-container {\n",
              "      display:flex;\n",
              "      gap: 12px;\n",
              "    }\n",
              "\n",
              "    .colab-df-convert {\n",
              "      background-color: #E8F0FE;\n",
              "      border: none;\n",
              "      border-radius: 50%;\n",
              "      cursor: pointer;\n",
              "      display: none;\n",
              "      fill: #1967D2;\n",
              "      height: 32px;\n",
              "      padding: 0 0 0 0;\n",
              "      width: 32px;\n",
              "    }\n",
              "\n",
              "    .colab-df-convert:hover {\n",
              "      background-color: #E2EBFA;\n",
              "      box-shadow: 0px 1px 2px rgba(60, 64, 67, 0.3), 0px 1px 3px 1px rgba(60, 64, 67, 0.15);\n",
              "      fill: #174EA6;\n",
              "    }\n",
              "\n",
              "    .colab-df-buttons div {\n",
              "      margin-bottom: 4px;\n",
              "    }\n",
              "\n",
              "    [theme=dark] .colab-df-convert {\n",
              "      background-color: #3B4455;\n",
              "      fill: #D2E3FC;\n",
              "    }\n",
              "\n",
              "    [theme=dark] .colab-df-convert:hover {\n",
              "      background-color: #434B5C;\n",
              "      box-shadow: 0px 1px 3px 1px rgba(0, 0, 0, 0.15);\n",
              "      filter: drop-shadow(0px 1px 2px rgba(0, 0, 0, 0.3));\n",
              "      fill: #FFFFFF;\n",
              "    }\n",
              "  </style>\n",
              "\n",
              "    <script>\n",
              "      const buttonEl =\n",
              "        document.querySelector('#df-ad11734d-5d63-48fd-94d1-250eea35c875 button.colab-df-convert');\n",
              "      buttonEl.style.display =\n",
              "        google.colab.kernel.accessAllowed ? 'block' : 'none';\n",
              "\n",
              "      async function convertToInteractive(key) {\n",
              "        const element = document.querySelector('#df-ad11734d-5d63-48fd-94d1-250eea35c875');\n",
              "        const dataTable =\n",
              "          await google.colab.kernel.invokeFunction('convertToInteractive',\n",
              "                                                    [key], {});\n",
              "        if (!dataTable) return;\n",
              "\n",
              "        const docLinkHtml = 'Like what you see? Visit the ' +\n",
              "          '<a target=\"_blank\" href=https://colab.research.google.com/notebooks/data_table.ipynb>data table notebook</a>'\n",
              "          + ' to learn more about interactive tables.';\n",
              "        element.innerHTML = '';\n",
              "        dataTable['output_type'] = 'display_data';\n",
              "        await google.colab.output.renderOutput(dataTable, element);\n",
              "        const docLink = document.createElement('div');\n",
              "        docLink.innerHTML = docLinkHtml;\n",
              "        element.appendChild(docLink);\n",
              "      }\n",
              "    </script>\n",
              "  </div>\n",
              "\n",
              "\n",
              "<div id=\"df-596e3740-1e10-4872-b028-eb7b397b2792\">\n",
              "  <button class=\"colab-df-quickchart\" onclick=\"quickchart('df-596e3740-1e10-4872-b028-eb7b397b2792')\"\n",
              "            title=\"Suggest charts\"\n",
              "            style=\"display:none;\">\n",
              "\n",
              "<svg xmlns=\"http://www.w3.org/2000/svg\" height=\"24px\"viewBox=\"0 0 24 24\"\n",
              "     width=\"24px\">\n",
              "    <g>\n",
              "        <path d=\"M19 3H5c-1.1 0-2 .9-2 2v14c0 1.1.9 2 2 2h14c1.1 0 2-.9 2-2V5c0-1.1-.9-2-2-2zM9 17H7v-7h2v7zm4 0h-2V7h2v10zm4 0h-2v-4h2v4z\"/>\n",
              "    </g>\n",
              "</svg>\n",
              "  </button>\n",
              "\n",
              "<style>\n",
              "  .colab-df-quickchart {\n",
              "      --bg-color: #E8F0FE;\n",
              "      --fill-color: #1967D2;\n",
              "      --hover-bg-color: #E2EBFA;\n",
              "      --hover-fill-color: #174EA6;\n",
              "      --disabled-fill-color: #AAA;\n",
              "      --disabled-bg-color: #DDD;\n",
              "  }\n",
              "\n",
              "  [theme=dark] .colab-df-quickchart {\n",
              "      --bg-color: #3B4455;\n",
              "      --fill-color: #D2E3FC;\n",
              "      --hover-bg-color: #434B5C;\n",
              "      --hover-fill-color: #FFFFFF;\n",
              "      --disabled-bg-color: #3B4455;\n",
              "      --disabled-fill-color: #666;\n",
              "  }\n",
              "\n",
              "  .colab-df-quickchart {\n",
              "    background-color: var(--bg-color);\n",
              "    border: none;\n",
              "    border-radius: 50%;\n",
              "    cursor: pointer;\n",
              "    display: none;\n",
              "    fill: var(--fill-color);\n",
              "    height: 32px;\n",
              "    padding: 0;\n",
              "    width: 32px;\n",
              "  }\n",
              "\n",
              "  .colab-df-quickchart:hover {\n",
              "    background-color: var(--hover-bg-color);\n",
              "    box-shadow: 0 1px 2px rgba(60, 64, 67, 0.3), 0 1px 3px 1px rgba(60, 64, 67, 0.15);\n",
              "    fill: var(--button-hover-fill-color);\n",
              "  }\n",
              "\n",
              "  .colab-df-quickchart-complete:disabled,\n",
              "  .colab-df-quickchart-complete:disabled:hover {\n",
              "    background-color: var(--disabled-bg-color);\n",
              "    fill: var(--disabled-fill-color);\n",
              "    box-shadow: none;\n",
              "  }\n",
              "\n",
              "  .colab-df-spinner {\n",
              "    border: 2px solid var(--fill-color);\n",
              "    border-color: transparent;\n",
              "    border-bottom-color: var(--fill-color);\n",
              "    animation:\n",
              "      spin 1s steps(1) infinite;\n",
              "  }\n",
              "\n",
              "  @keyframes spin {\n",
              "    0% {\n",
              "      border-color: transparent;\n",
              "      border-bottom-color: var(--fill-color);\n",
              "      border-left-color: var(--fill-color);\n",
              "    }\n",
              "    20% {\n",
              "      border-color: transparent;\n",
              "      border-left-color: var(--fill-color);\n",
              "      border-top-color: var(--fill-color);\n",
              "    }\n",
              "    30% {\n",
              "      border-color: transparent;\n",
              "      border-left-color: var(--fill-color);\n",
              "      border-top-color: var(--fill-color);\n",
              "      border-right-color: var(--fill-color);\n",
              "    }\n",
              "    40% {\n",
              "      border-color: transparent;\n",
              "      border-right-color: var(--fill-color);\n",
              "      border-top-color: var(--fill-color);\n",
              "    }\n",
              "    60% {\n",
              "      border-color: transparent;\n",
              "      border-right-color: var(--fill-color);\n",
              "    }\n",
              "    80% {\n",
              "      border-color: transparent;\n",
              "      border-right-color: var(--fill-color);\n",
              "      border-bottom-color: var(--fill-color);\n",
              "    }\n",
              "    90% {\n",
              "      border-color: transparent;\n",
              "      border-bottom-color: var(--fill-color);\n",
              "    }\n",
              "  }\n",
              "</style>\n",
              "\n",
              "  <script>\n",
              "    async function quickchart(key) {\n",
              "      const quickchartButtonEl =\n",
              "        document.querySelector('#' + key + ' button');\n",
              "      quickchartButtonEl.disabled = true;  // To prevent multiple clicks.\n",
              "      quickchartButtonEl.classList.add('colab-df-spinner');\n",
              "      try {\n",
              "        const charts = await google.colab.kernel.invokeFunction(\n",
              "            'suggestCharts', [key], {});\n",
              "      } catch (error) {\n",
              "        console.error('Error during call to suggestCharts:', error);\n",
              "      }\n",
              "      quickchartButtonEl.classList.remove('colab-df-spinner');\n",
              "      quickchartButtonEl.classList.add('colab-df-quickchart-complete');\n",
              "    }\n",
              "    (() => {\n",
              "      let quickchartButtonEl =\n",
              "        document.querySelector('#df-596e3740-1e10-4872-b028-eb7b397b2792 button');\n",
              "      quickchartButtonEl.style.display =\n",
              "        google.colab.kernel.accessAllowed ? 'block' : 'none';\n",
              "    })();\n",
              "  </script>\n",
              "</div>\n",
              "\n",
              "    </div>\n",
              "  </div>\n"
            ],
            "application/vnd.google.colaboratory.intrinsic+json": {
              "type": "dataframe",
              "variable_name": "data"
            }
          },
          "metadata": {},
          "execution_count": 95
        }
      ],
      "source": [
        "data.head()"
      ]
    },
    {
      "cell_type": "markdown",
      "metadata": {
        "id": "OijsBP3rjE2z"
      },
      "source": [
        "Data Fields\n",
        "\n",
        "* market_id : integer id for the market where the restaurant lies\n",
        "* created_at : the timestamp at which the order was placed\n",
        "* actual_delivery_time : the timestamp when the order was delivered\n",
        "* store_primary_category : category for the restaurant\n",
        "* order_protocol : integer code value for order protocol(how the order was placed ie: through porter, call to restaurant, pre booked, third part etc)\n",
        "* total_items subtotal : final price of the order\n",
        "* num_distinct_items : the number of distinct items in the order\n",
        "* min_item_price : price of the cheapest item in the order\n",
        "* max_item_price : price of the costliest item in order\n",
        "* total_onshift_partners : number of delivery partners on duty at the time order was placed\n",
        "* total_busy_partners : number of delivery partners attending to other tasks\n",
        "* total_outstanding_orders : total number of orders to be fulfilled at the moment"
      ]
    },
    {
      "cell_type": "code",
      "execution_count": null,
      "metadata": {
        "colab": {
          "base_uri": "https://localhost:8080/"
        },
        "id": "b8ihIhVOjE20",
        "outputId": "d098a031-b8f3-4cba-ee93-907cf016f9a9"
      },
      "outputs": [
        {
          "output_type": "stream",
          "name": "stdout",
          "text": [
            "<class 'pandas.core.frame.DataFrame'>\n",
            "RangeIndex: 197428 entries, 0 to 197427\n",
            "Data columns (total 14 columns):\n",
            " #   Column                    Non-Null Count   Dtype  \n",
            "---  ------                    --------------   -----  \n",
            " 0   market_id                 196441 non-null  float64\n",
            " 1   created_at                197428 non-null  object \n",
            " 2   actual_delivery_time      197421 non-null  object \n",
            " 3   store_id                  197428 non-null  object \n",
            " 4   store_primary_category    192668 non-null  object \n",
            " 5   order_protocol            196433 non-null  float64\n",
            " 6   total_items               197428 non-null  int64  \n",
            " 7   subtotal                  197428 non-null  int64  \n",
            " 8   num_distinct_items        197428 non-null  int64  \n",
            " 9   min_item_price            197428 non-null  int64  \n",
            " 10  max_item_price            197428 non-null  int64  \n",
            " 11  total_onshift_partners    181166 non-null  float64\n",
            " 12  total_busy_partners       181166 non-null  float64\n",
            " 13  total_outstanding_orders  181166 non-null  float64\n",
            "dtypes: float64(5), int64(5), object(4)\n",
            "memory usage: 21.1+ MB\n"
          ]
        }
      ],
      "source": [
        "data.info()"
      ]
    },
    {
      "cell_type": "code",
      "execution_count": null,
      "metadata": {
        "colab": {
          "base_uri": "https://localhost:8080/",
          "height": 320
        },
        "id": "gs-pocdWjE21",
        "outputId": "1c85b068-639f-47b7-8a74-d0e259ecbda9"
      },
      "outputs": [
        {
          "output_type": "execute_result",
          "data": {
            "text/plain": [
              "           market_id  order_protocol    total_items       subtotal  \\\n",
              "count  196441.000000   196433.000000  197428.000000  197428.000000   \n",
              "mean        2.978706        2.882352       3.196391    2682.331402   \n",
              "std         1.524867        1.503771       2.666546    1823.093688   \n",
              "min         1.000000        1.000000       1.000000       0.000000   \n",
              "25%         2.000000        1.000000       2.000000    1400.000000   \n",
              "50%         3.000000        3.000000       3.000000    2200.000000   \n",
              "75%         4.000000        4.000000       4.000000    3395.000000   \n",
              "max         6.000000        7.000000     411.000000   27100.000000   \n",
              "\n",
              "       num_distinct_items  min_item_price  max_item_price  \\\n",
              "count       197428.000000   197428.000000   197428.000000   \n",
              "mean             2.670791      686.218470     1159.588630   \n",
              "std              1.630255      522.038648      558.411377   \n",
              "min              1.000000      -86.000000        0.000000   \n",
              "25%              1.000000      299.000000      800.000000   \n",
              "50%              2.000000      595.000000     1095.000000   \n",
              "75%              3.000000      949.000000     1395.000000   \n",
              "max             20.000000    14700.000000    14700.000000   \n",
              "\n",
              "       total_onshift_partners  total_busy_partners  total_outstanding_orders  \n",
              "count           181166.000000        181166.000000             181166.000000  \n",
              "mean                44.808093            41.739747                 58.050065  \n",
              "std                 34.526783            32.145733                 52.661830  \n",
              "min                 -4.000000            -5.000000                 -6.000000  \n",
              "25%                 17.000000            15.000000                 17.000000  \n",
              "50%                 37.000000            34.000000                 41.000000  \n",
              "75%                 65.000000            62.000000                 85.000000  \n",
              "max                171.000000           154.000000                285.000000  "
            ],
            "text/html": [
              "\n",
              "  <div id=\"df-b90f3f12-d8dc-4d82-b8c9-c99790b7ac1f\" class=\"colab-df-container\">\n",
              "    <div>\n",
              "<style scoped>\n",
              "    .dataframe tbody tr th:only-of-type {\n",
              "        vertical-align: middle;\n",
              "    }\n",
              "\n",
              "    .dataframe tbody tr th {\n",
              "        vertical-align: top;\n",
              "    }\n",
              "\n",
              "    .dataframe thead th {\n",
              "        text-align: right;\n",
              "    }\n",
              "</style>\n",
              "<table border=\"1\" class=\"dataframe\">\n",
              "  <thead>\n",
              "    <tr style=\"text-align: right;\">\n",
              "      <th></th>\n",
              "      <th>market_id</th>\n",
              "      <th>order_protocol</th>\n",
              "      <th>total_items</th>\n",
              "      <th>subtotal</th>\n",
              "      <th>num_distinct_items</th>\n",
              "      <th>min_item_price</th>\n",
              "      <th>max_item_price</th>\n",
              "      <th>total_onshift_partners</th>\n",
              "      <th>total_busy_partners</th>\n",
              "      <th>total_outstanding_orders</th>\n",
              "    </tr>\n",
              "  </thead>\n",
              "  <tbody>\n",
              "    <tr>\n",
              "      <th>count</th>\n",
              "      <td>196441.000000</td>\n",
              "      <td>196433.000000</td>\n",
              "      <td>197428.000000</td>\n",
              "      <td>197428.000000</td>\n",
              "      <td>197428.000000</td>\n",
              "      <td>197428.000000</td>\n",
              "      <td>197428.000000</td>\n",
              "      <td>181166.000000</td>\n",
              "      <td>181166.000000</td>\n",
              "      <td>181166.000000</td>\n",
              "    </tr>\n",
              "    <tr>\n",
              "      <th>mean</th>\n",
              "      <td>2.978706</td>\n",
              "      <td>2.882352</td>\n",
              "      <td>3.196391</td>\n",
              "      <td>2682.331402</td>\n",
              "      <td>2.670791</td>\n",
              "      <td>686.218470</td>\n",
              "      <td>1159.588630</td>\n",
              "      <td>44.808093</td>\n",
              "      <td>41.739747</td>\n",
              "      <td>58.050065</td>\n",
              "    </tr>\n",
              "    <tr>\n",
              "      <th>std</th>\n",
              "      <td>1.524867</td>\n",
              "      <td>1.503771</td>\n",
              "      <td>2.666546</td>\n",
              "      <td>1823.093688</td>\n",
              "      <td>1.630255</td>\n",
              "      <td>522.038648</td>\n",
              "      <td>558.411377</td>\n",
              "      <td>34.526783</td>\n",
              "      <td>32.145733</td>\n",
              "      <td>52.661830</td>\n",
              "    </tr>\n",
              "    <tr>\n",
              "      <th>min</th>\n",
              "      <td>1.000000</td>\n",
              "      <td>1.000000</td>\n",
              "      <td>1.000000</td>\n",
              "      <td>0.000000</td>\n",
              "      <td>1.000000</td>\n",
              "      <td>-86.000000</td>\n",
              "      <td>0.000000</td>\n",
              "      <td>-4.000000</td>\n",
              "      <td>-5.000000</td>\n",
              "      <td>-6.000000</td>\n",
              "    </tr>\n",
              "    <tr>\n",
              "      <th>25%</th>\n",
              "      <td>2.000000</td>\n",
              "      <td>1.000000</td>\n",
              "      <td>2.000000</td>\n",
              "      <td>1400.000000</td>\n",
              "      <td>1.000000</td>\n",
              "      <td>299.000000</td>\n",
              "      <td>800.000000</td>\n",
              "      <td>17.000000</td>\n",
              "      <td>15.000000</td>\n",
              "      <td>17.000000</td>\n",
              "    </tr>\n",
              "    <tr>\n",
              "      <th>50%</th>\n",
              "      <td>3.000000</td>\n",
              "      <td>3.000000</td>\n",
              "      <td>3.000000</td>\n",
              "      <td>2200.000000</td>\n",
              "      <td>2.000000</td>\n",
              "      <td>595.000000</td>\n",
              "      <td>1095.000000</td>\n",
              "      <td>37.000000</td>\n",
              "      <td>34.000000</td>\n",
              "      <td>41.000000</td>\n",
              "    </tr>\n",
              "    <tr>\n",
              "      <th>75%</th>\n",
              "      <td>4.000000</td>\n",
              "      <td>4.000000</td>\n",
              "      <td>4.000000</td>\n",
              "      <td>3395.000000</td>\n",
              "      <td>3.000000</td>\n",
              "      <td>949.000000</td>\n",
              "      <td>1395.000000</td>\n",
              "      <td>65.000000</td>\n",
              "      <td>62.000000</td>\n",
              "      <td>85.000000</td>\n",
              "    </tr>\n",
              "    <tr>\n",
              "      <th>max</th>\n",
              "      <td>6.000000</td>\n",
              "      <td>7.000000</td>\n",
              "      <td>411.000000</td>\n",
              "      <td>27100.000000</td>\n",
              "      <td>20.000000</td>\n",
              "      <td>14700.000000</td>\n",
              "      <td>14700.000000</td>\n",
              "      <td>171.000000</td>\n",
              "      <td>154.000000</td>\n",
              "      <td>285.000000</td>\n",
              "    </tr>\n",
              "  </tbody>\n",
              "</table>\n",
              "</div>\n",
              "    <div class=\"colab-df-buttons\">\n",
              "\n",
              "  <div class=\"colab-df-container\">\n",
              "    <button class=\"colab-df-convert\" onclick=\"convertToInteractive('df-b90f3f12-d8dc-4d82-b8c9-c99790b7ac1f')\"\n",
              "            title=\"Convert this dataframe to an interactive table.\"\n",
              "            style=\"display:none;\">\n",
              "\n",
              "  <svg xmlns=\"http://www.w3.org/2000/svg\" height=\"24px\" viewBox=\"0 -960 960 960\">\n",
              "    <path d=\"M120-120v-720h720v720H120Zm60-500h600v-160H180v160Zm220 220h160v-160H400v160Zm0 220h160v-160H400v160ZM180-400h160v-160H180v160Zm440 0h160v-160H620v160ZM180-180h160v-160H180v160Zm440 0h160v-160H620v160Z\"/>\n",
              "  </svg>\n",
              "    </button>\n",
              "\n",
              "  <style>\n",
              "    .colab-df-container {\n",
              "      display:flex;\n",
              "      gap: 12px;\n",
              "    }\n",
              "\n",
              "    .colab-df-convert {\n",
              "      background-color: #E8F0FE;\n",
              "      border: none;\n",
              "      border-radius: 50%;\n",
              "      cursor: pointer;\n",
              "      display: none;\n",
              "      fill: #1967D2;\n",
              "      height: 32px;\n",
              "      padding: 0 0 0 0;\n",
              "      width: 32px;\n",
              "    }\n",
              "\n",
              "    .colab-df-convert:hover {\n",
              "      background-color: #E2EBFA;\n",
              "      box-shadow: 0px 1px 2px rgba(60, 64, 67, 0.3), 0px 1px 3px 1px rgba(60, 64, 67, 0.15);\n",
              "      fill: #174EA6;\n",
              "    }\n",
              "\n",
              "    .colab-df-buttons div {\n",
              "      margin-bottom: 4px;\n",
              "    }\n",
              "\n",
              "    [theme=dark] .colab-df-convert {\n",
              "      background-color: #3B4455;\n",
              "      fill: #D2E3FC;\n",
              "    }\n",
              "\n",
              "    [theme=dark] .colab-df-convert:hover {\n",
              "      background-color: #434B5C;\n",
              "      box-shadow: 0px 1px 3px 1px rgba(0, 0, 0, 0.15);\n",
              "      filter: drop-shadow(0px 1px 2px rgba(0, 0, 0, 0.3));\n",
              "      fill: #FFFFFF;\n",
              "    }\n",
              "  </style>\n",
              "\n",
              "    <script>\n",
              "      const buttonEl =\n",
              "        document.querySelector('#df-b90f3f12-d8dc-4d82-b8c9-c99790b7ac1f button.colab-df-convert');\n",
              "      buttonEl.style.display =\n",
              "        google.colab.kernel.accessAllowed ? 'block' : 'none';\n",
              "\n",
              "      async function convertToInteractive(key) {\n",
              "        const element = document.querySelector('#df-b90f3f12-d8dc-4d82-b8c9-c99790b7ac1f');\n",
              "        const dataTable =\n",
              "          await google.colab.kernel.invokeFunction('convertToInteractive',\n",
              "                                                    [key], {});\n",
              "        if (!dataTable) return;\n",
              "\n",
              "        const docLinkHtml = 'Like what you see? Visit the ' +\n",
              "          '<a target=\"_blank\" href=https://colab.research.google.com/notebooks/data_table.ipynb>data table notebook</a>'\n",
              "          + ' to learn more about interactive tables.';\n",
              "        element.innerHTML = '';\n",
              "        dataTable['output_type'] = 'display_data';\n",
              "        await google.colab.output.renderOutput(dataTable, element);\n",
              "        const docLink = document.createElement('div');\n",
              "        docLink.innerHTML = docLinkHtml;\n",
              "        element.appendChild(docLink);\n",
              "      }\n",
              "    </script>\n",
              "  </div>\n",
              "\n",
              "\n",
              "<div id=\"df-b4ec38a4-6569-49e7-8051-2f51c7a05f1a\">\n",
              "  <button class=\"colab-df-quickchart\" onclick=\"quickchart('df-b4ec38a4-6569-49e7-8051-2f51c7a05f1a')\"\n",
              "            title=\"Suggest charts\"\n",
              "            style=\"display:none;\">\n",
              "\n",
              "<svg xmlns=\"http://www.w3.org/2000/svg\" height=\"24px\"viewBox=\"0 0 24 24\"\n",
              "     width=\"24px\">\n",
              "    <g>\n",
              "        <path d=\"M19 3H5c-1.1 0-2 .9-2 2v14c0 1.1.9 2 2 2h14c1.1 0 2-.9 2-2V5c0-1.1-.9-2-2-2zM9 17H7v-7h2v7zm4 0h-2V7h2v10zm4 0h-2v-4h2v4z\"/>\n",
              "    </g>\n",
              "</svg>\n",
              "  </button>\n",
              "\n",
              "<style>\n",
              "  .colab-df-quickchart {\n",
              "      --bg-color: #E8F0FE;\n",
              "      --fill-color: #1967D2;\n",
              "      --hover-bg-color: #E2EBFA;\n",
              "      --hover-fill-color: #174EA6;\n",
              "      --disabled-fill-color: #AAA;\n",
              "      --disabled-bg-color: #DDD;\n",
              "  }\n",
              "\n",
              "  [theme=dark] .colab-df-quickchart {\n",
              "      --bg-color: #3B4455;\n",
              "      --fill-color: #D2E3FC;\n",
              "      --hover-bg-color: #434B5C;\n",
              "      --hover-fill-color: #FFFFFF;\n",
              "      --disabled-bg-color: #3B4455;\n",
              "      --disabled-fill-color: #666;\n",
              "  }\n",
              "\n",
              "  .colab-df-quickchart {\n",
              "    background-color: var(--bg-color);\n",
              "    border: none;\n",
              "    border-radius: 50%;\n",
              "    cursor: pointer;\n",
              "    display: none;\n",
              "    fill: var(--fill-color);\n",
              "    height: 32px;\n",
              "    padding: 0;\n",
              "    width: 32px;\n",
              "  }\n",
              "\n",
              "  .colab-df-quickchart:hover {\n",
              "    background-color: var(--hover-bg-color);\n",
              "    box-shadow: 0 1px 2px rgba(60, 64, 67, 0.3), 0 1px 3px 1px rgba(60, 64, 67, 0.15);\n",
              "    fill: var(--button-hover-fill-color);\n",
              "  }\n",
              "\n",
              "  .colab-df-quickchart-complete:disabled,\n",
              "  .colab-df-quickchart-complete:disabled:hover {\n",
              "    background-color: var(--disabled-bg-color);\n",
              "    fill: var(--disabled-fill-color);\n",
              "    box-shadow: none;\n",
              "  }\n",
              "\n",
              "  .colab-df-spinner {\n",
              "    border: 2px solid var(--fill-color);\n",
              "    border-color: transparent;\n",
              "    border-bottom-color: var(--fill-color);\n",
              "    animation:\n",
              "      spin 1s steps(1) infinite;\n",
              "  }\n",
              "\n",
              "  @keyframes spin {\n",
              "    0% {\n",
              "      border-color: transparent;\n",
              "      border-bottom-color: var(--fill-color);\n",
              "      border-left-color: var(--fill-color);\n",
              "    }\n",
              "    20% {\n",
              "      border-color: transparent;\n",
              "      border-left-color: var(--fill-color);\n",
              "      border-top-color: var(--fill-color);\n",
              "    }\n",
              "    30% {\n",
              "      border-color: transparent;\n",
              "      border-left-color: var(--fill-color);\n",
              "      border-top-color: var(--fill-color);\n",
              "      border-right-color: var(--fill-color);\n",
              "    }\n",
              "    40% {\n",
              "      border-color: transparent;\n",
              "      border-right-color: var(--fill-color);\n",
              "      border-top-color: var(--fill-color);\n",
              "    }\n",
              "    60% {\n",
              "      border-color: transparent;\n",
              "      border-right-color: var(--fill-color);\n",
              "    }\n",
              "    80% {\n",
              "      border-color: transparent;\n",
              "      border-right-color: var(--fill-color);\n",
              "      border-bottom-color: var(--fill-color);\n",
              "    }\n",
              "    90% {\n",
              "      border-color: transparent;\n",
              "      border-bottom-color: var(--fill-color);\n",
              "    }\n",
              "  }\n",
              "</style>\n",
              "\n",
              "  <script>\n",
              "    async function quickchart(key) {\n",
              "      const quickchartButtonEl =\n",
              "        document.querySelector('#' + key + ' button');\n",
              "      quickchartButtonEl.disabled = true;  // To prevent multiple clicks.\n",
              "      quickchartButtonEl.classList.add('colab-df-spinner');\n",
              "      try {\n",
              "        const charts = await google.colab.kernel.invokeFunction(\n",
              "            'suggestCharts', [key], {});\n",
              "      } catch (error) {\n",
              "        console.error('Error during call to suggestCharts:', error);\n",
              "      }\n",
              "      quickchartButtonEl.classList.remove('colab-df-spinner');\n",
              "      quickchartButtonEl.classList.add('colab-df-quickchart-complete');\n",
              "    }\n",
              "    (() => {\n",
              "      let quickchartButtonEl =\n",
              "        document.querySelector('#df-b4ec38a4-6569-49e7-8051-2f51c7a05f1a button');\n",
              "      quickchartButtonEl.style.display =\n",
              "        google.colab.kernel.accessAllowed ? 'block' : 'none';\n",
              "    })();\n",
              "  </script>\n",
              "</div>\n",
              "\n",
              "    </div>\n",
              "  </div>\n"
            ],
            "application/vnd.google.colaboratory.intrinsic+json": {
              "type": "dataframe",
              "summary": "{\n  \"name\": \"data\",\n  \"rows\": 8,\n  \"fields\": [\n    {\n      \"column\": \"market_id\",\n      \"properties\": {\n        \"dtype\": \"number\",\n        \"std\": 69451.34603235079,\n        \"min\": 1.0,\n        \"max\": 196441.0,\n        \"num_unique_values\": 8,\n        \"samples\": [\n          2.978706074597462,\n          3.0,\n          196441.0\n        ],\n        \"semantic_type\": \"\",\n        \"description\": \"\"\n      }\n    },\n    {\n      \"column\": \"order_protocol\",\n      \"properties\": {\n        \"dtype\": \"number\",\n        \"std\": 69448.5235476843,\n        \"min\": 1.0,\n        \"max\": 196433.0,\n        \"num_unique_values\": 7,\n        \"samples\": [\n          196433.0,\n          2.8823517433425137,\n          4.0\n        ],\n        \"semantic_type\": \"\",\n        \"description\": \"\"\n      }\n    },\n    {\n      \"column\": \"total_items\",\n      \"properties\": {\n        \"dtype\": \"number\",\n        \"std\": 69779.92527927404,\n        \"min\": 1.0,\n        \"max\": 197428.0,\n        \"num_unique_values\": 8,\n        \"samples\": [\n          3.196390582896043,\n          3.0,\n          197428.0\n        ],\n        \"semantic_type\": \"\",\n        \"description\": \"\"\n      }\n    },\n    {\n      \"column\": \"subtotal\",\n      \"properties\": {\n        \"dtype\": \"number\",\n        \"std\": 68428.68300026412,\n        \"min\": 0.0,\n        \"max\": 197428.0,\n        \"num_unique_values\": 8,\n        \"samples\": [\n          2682.331401827502,\n          2200.0,\n          197428.0\n        ],\n        \"semantic_type\": \"\",\n        \"description\": \"\"\n      }\n    },\n    {\n      \"column\": \"num_distinct_items\",\n      \"properties\": {\n        \"dtype\": \"number\",\n        \"std\": 69799.75814792675,\n        \"min\": 1.0,\n        \"max\": 197428.0,\n        \"num_unique_values\": 7,\n        \"samples\": [\n          197428.0,\n          2.6707913771096297,\n          3.0\n        ],\n        \"semantic_type\": \"\",\n        \"description\": \"\"\n      }\n    },\n    {\n      \"column\": \"min_item_price\",\n      \"properties\": {\n        \"dtype\": \"number\",\n        \"std\": 69088.82623113973,\n        \"min\": -86.0,\n        \"max\": 197428.0,\n        \"num_unique_values\": 8,\n        \"samples\": [\n          686.2184695180015,\n          595.0,\n          197428.0\n        ],\n        \"semantic_type\": \"\",\n        \"description\": \"\"\n      }\n    },\n    {\n      \"column\": \"max_item_price\",\n      \"properties\": {\n        \"dtype\": \"number\",\n        \"std\": 68978.09320015658,\n        \"min\": 0.0,\n        \"max\": 197428.0,\n        \"num_unique_values\": 8,\n        \"samples\": [\n          1159.5886297789573,\n          1095.0,\n          197428.0\n        ],\n        \"semantic_type\": \"\",\n        \"description\": \"\"\n      }\n    },\n    {\n      \"column\": \"total_onshift_partners\",\n      \"properties\": {\n        \"dtype\": \"number\",\n        \"std\": 64033.422861038154,\n        \"min\": -4.0,\n        \"max\": 181166.0,\n        \"num_unique_values\": 8,\n        \"samples\": [\n          44.808093130057514,\n          37.0,\n          181166.0\n        ],\n        \"semantic_type\": \"\",\n        \"description\": \"\"\n      }\n    },\n    {\n      \"column\": \"total_busy_partners\",\n      \"properties\": {\n        \"dtype\": \"number\",\n        \"std\": 64035.00743891357,\n        \"min\": -5.0,\n        \"max\": 181166.0,\n        \"num_unique_values\": 8,\n        \"samples\": [\n          41.739746972389966,\n          34.0,\n          181166.0\n        ],\n        \"semantic_type\": \"\",\n        \"description\": \"\"\n      }\n    },\n    {\n      \"column\": \"total_outstanding_orders\",\n      \"properties\": {\n        \"dtype\": \"number\",\n        \"std\": 64025.01008762904,\n        \"min\": -6.0,\n        \"max\": 181166.0,\n        \"num_unique_values\": 8,\n        \"samples\": [\n          58.0500645816544,\n          41.0,\n          181166.0\n        ],\n        \"semantic_type\": \"\",\n        \"description\": \"\"\n      }\n    }\n  ]\n}"
            }
          },
          "metadata": {},
          "execution_count": 97
        }
      ],
      "source": [
        "data.describe()"
      ]
    },
    {
      "cell_type": "code",
      "execution_count": null,
      "metadata": {
        "colab": {
          "base_uri": "https://localhost:8080/",
          "height": 489
        },
        "id": "kZaspI4ajE22",
        "outputId": "33a7c300-39f5-406f-dc7b-bffb0a8ef029"
      },
      "outputs": [
        {
          "output_type": "execute_result",
          "data": {
            "text/plain": [
              "store_primary_category\n",
              "american             19399\n",
              "pizza                17321\n",
              "mexican              17099\n",
              "burger               10958\n",
              "sandwich             10060\n",
              "                     ...  \n",
              "lebanese                 9\n",
              "belgian                  2\n",
              "indonesian               2\n",
              "chocolate                1\n",
              "alcohol-plus-food        1\n",
              "Name: count, Length: 74, dtype: int64"
            ],
            "text/html": [
              "<div>\n",
              "<style scoped>\n",
              "    .dataframe tbody tr th:only-of-type {\n",
              "        vertical-align: middle;\n",
              "    }\n",
              "\n",
              "    .dataframe tbody tr th {\n",
              "        vertical-align: top;\n",
              "    }\n",
              "\n",
              "    .dataframe thead th {\n",
              "        text-align: right;\n",
              "    }\n",
              "</style>\n",
              "<table border=\"1\" class=\"dataframe\">\n",
              "  <thead>\n",
              "    <tr style=\"text-align: right;\">\n",
              "      <th></th>\n",
              "      <th>count</th>\n",
              "    </tr>\n",
              "    <tr>\n",
              "      <th>store_primary_category</th>\n",
              "      <th></th>\n",
              "    </tr>\n",
              "  </thead>\n",
              "  <tbody>\n",
              "    <tr>\n",
              "      <th>american</th>\n",
              "      <td>19399</td>\n",
              "    </tr>\n",
              "    <tr>\n",
              "      <th>pizza</th>\n",
              "      <td>17321</td>\n",
              "    </tr>\n",
              "    <tr>\n",
              "      <th>mexican</th>\n",
              "      <td>17099</td>\n",
              "    </tr>\n",
              "    <tr>\n",
              "      <th>burger</th>\n",
              "      <td>10958</td>\n",
              "    </tr>\n",
              "    <tr>\n",
              "      <th>sandwich</th>\n",
              "      <td>10060</td>\n",
              "    </tr>\n",
              "    <tr>\n",
              "      <th>...</th>\n",
              "      <td>...</td>\n",
              "    </tr>\n",
              "    <tr>\n",
              "      <th>lebanese</th>\n",
              "      <td>9</td>\n",
              "    </tr>\n",
              "    <tr>\n",
              "      <th>belgian</th>\n",
              "      <td>2</td>\n",
              "    </tr>\n",
              "    <tr>\n",
              "      <th>indonesian</th>\n",
              "      <td>2</td>\n",
              "    </tr>\n",
              "    <tr>\n",
              "      <th>chocolate</th>\n",
              "      <td>1</td>\n",
              "    </tr>\n",
              "    <tr>\n",
              "      <th>alcohol-plus-food</th>\n",
              "      <td>1</td>\n",
              "    </tr>\n",
              "  </tbody>\n",
              "</table>\n",
              "<p>74 rows × 1 columns</p>\n",
              "</div><br><label><b>dtype:</b> int64</label>"
            ]
          },
          "metadata": {},
          "execution_count": 98
        }
      ],
      "source": [
        "data['store_primary_category'].value_counts()"
      ]
    },
    {
      "cell_type": "code",
      "execution_count": null,
      "metadata": {
        "colab": {
          "base_uri": "https://localhost:8080/",
          "height": 523
        },
        "id": "1HZTCBJJjE23",
        "outputId": "a532dd14-307a-446c-9f5e-c4a534685ada"
      },
      "outputs": [
        {
          "output_type": "execute_result",
          "data": {
            "text/plain": [
              "market_id                     987\n",
              "created_at                      0\n",
              "actual_delivery_time            7\n",
              "store_id                        0\n",
              "store_primary_category       4760\n",
              "order_protocol                995\n",
              "total_items                     0\n",
              "subtotal                        0\n",
              "num_distinct_items              0\n",
              "min_item_price                  0\n",
              "max_item_price                  0\n",
              "total_onshift_partners      16262\n",
              "total_busy_partners         16262\n",
              "total_outstanding_orders    16262\n",
              "dtype: int64"
            ],
            "text/html": [
              "<div>\n",
              "<style scoped>\n",
              "    .dataframe tbody tr th:only-of-type {\n",
              "        vertical-align: middle;\n",
              "    }\n",
              "\n",
              "    .dataframe tbody tr th {\n",
              "        vertical-align: top;\n",
              "    }\n",
              "\n",
              "    .dataframe thead th {\n",
              "        text-align: right;\n",
              "    }\n",
              "</style>\n",
              "<table border=\"1\" class=\"dataframe\">\n",
              "  <thead>\n",
              "    <tr style=\"text-align: right;\">\n",
              "      <th></th>\n",
              "      <th>0</th>\n",
              "    </tr>\n",
              "  </thead>\n",
              "  <tbody>\n",
              "    <tr>\n",
              "      <th>market_id</th>\n",
              "      <td>987</td>\n",
              "    </tr>\n",
              "    <tr>\n",
              "      <th>created_at</th>\n",
              "      <td>0</td>\n",
              "    </tr>\n",
              "    <tr>\n",
              "      <th>actual_delivery_time</th>\n",
              "      <td>7</td>\n",
              "    </tr>\n",
              "    <tr>\n",
              "      <th>store_id</th>\n",
              "      <td>0</td>\n",
              "    </tr>\n",
              "    <tr>\n",
              "      <th>store_primary_category</th>\n",
              "      <td>4760</td>\n",
              "    </tr>\n",
              "    <tr>\n",
              "      <th>order_protocol</th>\n",
              "      <td>995</td>\n",
              "    </tr>\n",
              "    <tr>\n",
              "      <th>total_items</th>\n",
              "      <td>0</td>\n",
              "    </tr>\n",
              "    <tr>\n",
              "      <th>subtotal</th>\n",
              "      <td>0</td>\n",
              "    </tr>\n",
              "    <tr>\n",
              "      <th>num_distinct_items</th>\n",
              "      <td>0</td>\n",
              "    </tr>\n",
              "    <tr>\n",
              "      <th>min_item_price</th>\n",
              "      <td>0</td>\n",
              "    </tr>\n",
              "    <tr>\n",
              "      <th>max_item_price</th>\n",
              "      <td>0</td>\n",
              "    </tr>\n",
              "    <tr>\n",
              "      <th>total_onshift_partners</th>\n",
              "      <td>16262</td>\n",
              "    </tr>\n",
              "    <tr>\n",
              "      <th>total_busy_partners</th>\n",
              "      <td>16262</td>\n",
              "    </tr>\n",
              "    <tr>\n",
              "      <th>total_outstanding_orders</th>\n",
              "      <td>16262</td>\n",
              "    </tr>\n",
              "  </tbody>\n",
              "</table>\n",
              "</div><br><label><b>dtype:</b> int64</label>"
            ]
          },
          "metadata": {},
          "execution_count": 99
        }
      ],
      "source": [
        "data.isnull().sum()"
      ]
    },
    {
      "cell_type": "code",
      "execution_count": null,
      "metadata": {
        "colab": {
          "base_uri": "https://localhost:8080/",
          "height": 410
        },
        "id": "dX1ApB4_jE24",
        "outputId": "b369eeca-531f-42ab-b504-f4eeaf46fc6d"
      },
      "outputs": [
        {
          "output_type": "execute_result",
          "data": {
            "text/plain": [
              "        market_id           created_at actual_delivery_time  \\\n",
              "109           3.0  2015-02-10 21:51:54                  NaN   \n",
              "7670          2.0  2015-02-08 02:54:42                  NaN   \n",
              "78511         4.0  2015-02-15 02:15:45                  NaN   \n",
              "115982        4.0  2015-02-16 01:52:49                  NaN   \n",
              "140635        2.0  2015-02-15 02:21:42                  NaN   \n",
              "158967        2.0  2015-02-01 01:21:29                  NaN   \n",
              "170416        5.0  2015-02-01 01:36:33                  NaN   \n",
              "\n",
              "                                store_id store_primary_category  \\\n",
              "109     da353f402faf6cf475d4abd1450b0882               sandwich   \n",
              "7670    140f6969d5213fd0ece03148e62e461e               japanese   \n",
              "78511   1f0e3dad99908345f7439f8ffabdffc4               catering   \n",
              "115982  b92894e4589f652dc3116cb3a8c48c08                  pizza   \n",
              "140635  0d73a25092e5c1c9769a9f3255caa65a                dessert   \n",
              "158967  faacbcd5bf1d018912c116bf2783e9a1                mexican   \n",
              "170416  6c7a107981f9c2a0ed55efce297bd1e2                   fast   \n",
              "\n",
              "        order_protocol  total_items  subtotal  num_distinct_items  \\\n",
              "109                3.0            1      1125                   1   \n",
              "7670               2.0            4      2860                   3   \n",
              "78511              1.0            9      5050                   6   \n",
              "115982             3.0            2      2094                   2   \n",
              "140635             1.0            3      4210                   3   \n",
              "158967             5.0            5      3447                   3   \n",
              "170416             4.0            3       982                   3   \n",
              "\n",
              "        min_item_price  max_item_price  total_onshift_partners  \\\n",
              "109                975             975                     7.0   \n",
              "7670               390             690                   131.0   \n",
              "78511              375            1125                    91.0   \n",
              "115982             599            1195                    53.0   \n",
              "140635             865            1850                   123.0   \n",
              "158967             225            1349                    90.0   \n",
              "170416             165             575                    41.0   \n",
              "\n",
              "        total_busy_partners  total_outstanding_orders  \n",
              "109                     5.0                       4.0  \n",
              "7670                  123.0                     197.0  \n",
              "78511                  75.0                     167.0  \n",
              "115982                 53.0                     102.0  \n",
              "140635                 91.0                     176.0  \n",
              "158967                 88.0                     109.0  \n",
              "170416                 31.0                      31.0  "
            ],
            "text/html": [
              "\n",
              "  <div id=\"df-39a2e08b-6f47-45ef-b520-be0a13aced8a\" class=\"colab-df-container\">\n",
              "    <div>\n",
              "<style scoped>\n",
              "    .dataframe tbody tr th:only-of-type {\n",
              "        vertical-align: middle;\n",
              "    }\n",
              "\n",
              "    .dataframe tbody tr th {\n",
              "        vertical-align: top;\n",
              "    }\n",
              "\n",
              "    .dataframe thead th {\n",
              "        text-align: right;\n",
              "    }\n",
              "</style>\n",
              "<table border=\"1\" class=\"dataframe\">\n",
              "  <thead>\n",
              "    <tr style=\"text-align: right;\">\n",
              "      <th></th>\n",
              "      <th>market_id</th>\n",
              "      <th>created_at</th>\n",
              "      <th>actual_delivery_time</th>\n",
              "      <th>store_id</th>\n",
              "      <th>store_primary_category</th>\n",
              "      <th>order_protocol</th>\n",
              "      <th>total_items</th>\n",
              "      <th>subtotal</th>\n",
              "      <th>num_distinct_items</th>\n",
              "      <th>min_item_price</th>\n",
              "      <th>max_item_price</th>\n",
              "      <th>total_onshift_partners</th>\n",
              "      <th>total_busy_partners</th>\n",
              "      <th>total_outstanding_orders</th>\n",
              "    </tr>\n",
              "  </thead>\n",
              "  <tbody>\n",
              "    <tr>\n",
              "      <th>109</th>\n",
              "      <td>3.0</td>\n",
              "      <td>2015-02-10 21:51:54</td>\n",
              "      <td>NaN</td>\n",
              "      <td>da353f402faf6cf475d4abd1450b0882</td>\n",
              "      <td>sandwich</td>\n",
              "      <td>3.0</td>\n",
              "      <td>1</td>\n",
              "      <td>1125</td>\n",
              "      <td>1</td>\n",
              "      <td>975</td>\n",
              "      <td>975</td>\n",
              "      <td>7.0</td>\n",
              "      <td>5.0</td>\n",
              "      <td>4.0</td>\n",
              "    </tr>\n",
              "    <tr>\n",
              "      <th>7670</th>\n",
              "      <td>2.0</td>\n",
              "      <td>2015-02-08 02:54:42</td>\n",
              "      <td>NaN</td>\n",
              "      <td>140f6969d5213fd0ece03148e62e461e</td>\n",
              "      <td>japanese</td>\n",
              "      <td>2.0</td>\n",
              "      <td>4</td>\n",
              "      <td>2860</td>\n",
              "      <td>3</td>\n",
              "      <td>390</td>\n",
              "      <td>690</td>\n",
              "      <td>131.0</td>\n",
              "      <td>123.0</td>\n",
              "      <td>197.0</td>\n",
              "    </tr>\n",
              "    <tr>\n",
              "      <th>78511</th>\n",
              "      <td>4.0</td>\n",
              "      <td>2015-02-15 02:15:45</td>\n",
              "      <td>NaN</td>\n",
              "      <td>1f0e3dad99908345f7439f8ffabdffc4</td>\n",
              "      <td>catering</td>\n",
              "      <td>1.0</td>\n",
              "      <td>9</td>\n",
              "      <td>5050</td>\n",
              "      <td>6</td>\n",
              "      <td>375</td>\n",
              "      <td>1125</td>\n",
              "      <td>91.0</td>\n",
              "      <td>75.0</td>\n",
              "      <td>167.0</td>\n",
              "    </tr>\n",
              "    <tr>\n",
              "      <th>115982</th>\n",
              "      <td>4.0</td>\n",
              "      <td>2015-02-16 01:52:49</td>\n",
              "      <td>NaN</td>\n",
              "      <td>b92894e4589f652dc3116cb3a8c48c08</td>\n",
              "      <td>pizza</td>\n",
              "      <td>3.0</td>\n",
              "      <td>2</td>\n",
              "      <td>2094</td>\n",
              "      <td>2</td>\n",
              "      <td>599</td>\n",
              "      <td>1195</td>\n",
              "      <td>53.0</td>\n",
              "      <td>53.0</td>\n",
              "      <td>102.0</td>\n",
              "    </tr>\n",
              "    <tr>\n",
              "      <th>140635</th>\n",
              "      <td>2.0</td>\n",
              "      <td>2015-02-15 02:21:42</td>\n",
              "      <td>NaN</td>\n",
              "      <td>0d73a25092e5c1c9769a9f3255caa65a</td>\n",
              "      <td>dessert</td>\n",
              "      <td>1.0</td>\n",
              "      <td>3</td>\n",
              "      <td>4210</td>\n",
              "      <td>3</td>\n",
              "      <td>865</td>\n",
              "      <td>1850</td>\n",
              "      <td>123.0</td>\n",
              "      <td>91.0</td>\n",
              "      <td>176.0</td>\n",
              "    </tr>\n",
              "    <tr>\n",
              "      <th>158967</th>\n",
              "      <td>2.0</td>\n",
              "      <td>2015-02-01 01:21:29</td>\n",
              "      <td>NaN</td>\n",
              "      <td>faacbcd5bf1d018912c116bf2783e9a1</td>\n",
              "      <td>mexican</td>\n",
              "      <td>5.0</td>\n",
              "      <td>5</td>\n",
              "      <td>3447</td>\n",
              "      <td>3</td>\n",
              "      <td>225</td>\n",
              "      <td>1349</td>\n",
              "      <td>90.0</td>\n",
              "      <td>88.0</td>\n",
              "      <td>109.0</td>\n",
              "    </tr>\n",
              "    <tr>\n",
              "      <th>170416</th>\n",
              "      <td>5.0</td>\n",
              "      <td>2015-02-01 01:36:33</td>\n",
              "      <td>NaN</td>\n",
              "      <td>6c7a107981f9c2a0ed55efce297bd1e2</td>\n",
              "      <td>fast</td>\n",
              "      <td>4.0</td>\n",
              "      <td>3</td>\n",
              "      <td>982</td>\n",
              "      <td>3</td>\n",
              "      <td>165</td>\n",
              "      <td>575</td>\n",
              "      <td>41.0</td>\n",
              "      <td>31.0</td>\n",
              "      <td>31.0</td>\n",
              "    </tr>\n",
              "  </tbody>\n",
              "</table>\n",
              "</div>\n",
              "    <div class=\"colab-df-buttons\">\n",
              "\n",
              "  <div class=\"colab-df-container\">\n",
              "    <button class=\"colab-df-convert\" onclick=\"convertToInteractive('df-39a2e08b-6f47-45ef-b520-be0a13aced8a')\"\n",
              "            title=\"Convert this dataframe to an interactive table.\"\n",
              "            style=\"display:none;\">\n",
              "\n",
              "  <svg xmlns=\"http://www.w3.org/2000/svg\" height=\"24px\" viewBox=\"0 -960 960 960\">\n",
              "    <path d=\"M120-120v-720h720v720H120Zm60-500h600v-160H180v160Zm220 220h160v-160H400v160Zm0 220h160v-160H400v160ZM180-400h160v-160H180v160Zm440 0h160v-160H620v160ZM180-180h160v-160H180v160Zm440 0h160v-160H620v160Z\"/>\n",
              "  </svg>\n",
              "    </button>\n",
              "\n",
              "  <style>\n",
              "    .colab-df-container {\n",
              "      display:flex;\n",
              "      gap: 12px;\n",
              "    }\n",
              "\n",
              "    .colab-df-convert {\n",
              "      background-color: #E8F0FE;\n",
              "      border: none;\n",
              "      border-radius: 50%;\n",
              "      cursor: pointer;\n",
              "      display: none;\n",
              "      fill: #1967D2;\n",
              "      height: 32px;\n",
              "      padding: 0 0 0 0;\n",
              "      width: 32px;\n",
              "    }\n",
              "\n",
              "    .colab-df-convert:hover {\n",
              "      background-color: #E2EBFA;\n",
              "      box-shadow: 0px 1px 2px rgba(60, 64, 67, 0.3), 0px 1px 3px 1px rgba(60, 64, 67, 0.15);\n",
              "      fill: #174EA6;\n",
              "    }\n",
              "\n",
              "    .colab-df-buttons div {\n",
              "      margin-bottom: 4px;\n",
              "    }\n",
              "\n",
              "    [theme=dark] .colab-df-convert {\n",
              "      background-color: #3B4455;\n",
              "      fill: #D2E3FC;\n",
              "    }\n",
              "\n",
              "    [theme=dark] .colab-df-convert:hover {\n",
              "      background-color: #434B5C;\n",
              "      box-shadow: 0px 1px 3px 1px rgba(0, 0, 0, 0.15);\n",
              "      filter: drop-shadow(0px 1px 2px rgba(0, 0, 0, 0.3));\n",
              "      fill: #FFFFFF;\n",
              "    }\n",
              "  </style>\n",
              "\n",
              "    <script>\n",
              "      const buttonEl =\n",
              "        document.querySelector('#df-39a2e08b-6f47-45ef-b520-be0a13aced8a button.colab-df-convert');\n",
              "      buttonEl.style.display =\n",
              "        google.colab.kernel.accessAllowed ? 'block' : 'none';\n",
              "\n",
              "      async function convertToInteractive(key) {\n",
              "        const element = document.querySelector('#df-39a2e08b-6f47-45ef-b520-be0a13aced8a');\n",
              "        const dataTable =\n",
              "          await google.colab.kernel.invokeFunction('convertToInteractive',\n",
              "                                                    [key], {});\n",
              "        if (!dataTable) return;\n",
              "\n",
              "        const docLinkHtml = 'Like what you see? Visit the ' +\n",
              "          '<a target=\"_blank\" href=https://colab.research.google.com/notebooks/data_table.ipynb>data table notebook</a>'\n",
              "          + ' to learn more about interactive tables.';\n",
              "        element.innerHTML = '';\n",
              "        dataTable['output_type'] = 'display_data';\n",
              "        await google.colab.output.renderOutput(dataTable, element);\n",
              "        const docLink = document.createElement('div');\n",
              "        docLink.innerHTML = docLinkHtml;\n",
              "        element.appendChild(docLink);\n",
              "      }\n",
              "    </script>\n",
              "  </div>\n",
              "\n",
              "\n",
              "<div id=\"df-a3e620c5-e6be-4b82-b3d8-d883efec6e21\">\n",
              "  <button class=\"colab-df-quickchart\" onclick=\"quickchart('df-a3e620c5-e6be-4b82-b3d8-d883efec6e21')\"\n",
              "            title=\"Suggest charts\"\n",
              "            style=\"display:none;\">\n",
              "\n",
              "<svg xmlns=\"http://www.w3.org/2000/svg\" height=\"24px\"viewBox=\"0 0 24 24\"\n",
              "     width=\"24px\">\n",
              "    <g>\n",
              "        <path d=\"M19 3H5c-1.1 0-2 .9-2 2v14c0 1.1.9 2 2 2h14c1.1 0 2-.9 2-2V5c0-1.1-.9-2-2-2zM9 17H7v-7h2v7zm4 0h-2V7h2v10zm4 0h-2v-4h2v4z\"/>\n",
              "    </g>\n",
              "</svg>\n",
              "  </button>\n",
              "\n",
              "<style>\n",
              "  .colab-df-quickchart {\n",
              "      --bg-color: #E8F0FE;\n",
              "      --fill-color: #1967D2;\n",
              "      --hover-bg-color: #E2EBFA;\n",
              "      --hover-fill-color: #174EA6;\n",
              "      --disabled-fill-color: #AAA;\n",
              "      --disabled-bg-color: #DDD;\n",
              "  }\n",
              "\n",
              "  [theme=dark] .colab-df-quickchart {\n",
              "      --bg-color: #3B4455;\n",
              "      --fill-color: #D2E3FC;\n",
              "      --hover-bg-color: #434B5C;\n",
              "      --hover-fill-color: #FFFFFF;\n",
              "      --disabled-bg-color: #3B4455;\n",
              "      --disabled-fill-color: #666;\n",
              "  }\n",
              "\n",
              "  .colab-df-quickchart {\n",
              "    background-color: var(--bg-color);\n",
              "    border: none;\n",
              "    border-radius: 50%;\n",
              "    cursor: pointer;\n",
              "    display: none;\n",
              "    fill: var(--fill-color);\n",
              "    height: 32px;\n",
              "    padding: 0;\n",
              "    width: 32px;\n",
              "  }\n",
              "\n",
              "  .colab-df-quickchart:hover {\n",
              "    background-color: var(--hover-bg-color);\n",
              "    box-shadow: 0 1px 2px rgba(60, 64, 67, 0.3), 0 1px 3px 1px rgba(60, 64, 67, 0.15);\n",
              "    fill: var(--button-hover-fill-color);\n",
              "  }\n",
              "\n",
              "  .colab-df-quickchart-complete:disabled,\n",
              "  .colab-df-quickchart-complete:disabled:hover {\n",
              "    background-color: var(--disabled-bg-color);\n",
              "    fill: var(--disabled-fill-color);\n",
              "    box-shadow: none;\n",
              "  }\n",
              "\n",
              "  .colab-df-spinner {\n",
              "    border: 2px solid var(--fill-color);\n",
              "    border-color: transparent;\n",
              "    border-bottom-color: var(--fill-color);\n",
              "    animation:\n",
              "      spin 1s steps(1) infinite;\n",
              "  }\n",
              "\n",
              "  @keyframes spin {\n",
              "    0% {\n",
              "      border-color: transparent;\n",
              "      border-bottom-color: var(--fill-color);\n",
              "      border-left-color: var(--fill-color);\n",
              "    }\n",
              "    20% {\n",
              "      border-color: transparent;\n",
              "      border-left-color: var(--fill-color);\n",
              "      border-top-color: var(--fill-color);\n",
              "    }\n",
              "    30% {\n",
              "      border-color: transparent;\n",
              "      border-left-color: var(--fill-color);\n",
              "      border-top-color: var(--fill-color);\n",
              "      border-right-color: var(--fill-color);\n",
              "    }\n",
              "    40% {\n",
              "      border-color: transparent;\n",
              "      border-right-color: var(--fill-color);\n",
              "      border-top-color: var(--fill-color);\n",
              "    }\n",
              "    60% {\n",
              "      border-color: transparent;\n",
              "      border-right-color: var(--fill-color);\n",
              "    }\n",
              "    80% {\n",
              "      border-color: transparent;\n",
              "      border-right-color: var(--fill-color);\n",
              "      border-bottom-color: var(--fill-color);\n",
              "    }\n",
              "    90% {\n",
              "      border-color: transparent;\n",
              "      border-bottom-color: var(--fill-color);\n",
              "    }\n",
              "  }\n",
              "</style>\n",
              "\n",
              "  <script>\n",
              "    async function quickchart(key) {\n",
              "      const quickchartButtonEl =\n",
              "        document.querySelector('#' + key + ' button');\n",
              "      quickchartButtonEl.disabled = true;  // To prevent multiple clicks.\n",
              "      quickchartButtonEl.classList.add('colab-df-spinner');\n",
              "      try {\n",
              "        const charts = await google.colab.kernel.invokeFunction(\n",
              "            'suggestCharts', [key], {});\n",
              "      } catch (error) {\n",
              "        console.error('Error during call to suggestCharts:', error);\n",
              "      }\n",
              "      quickchartButtonEl.classList.remove('colab-df-spinner');\n",
              "      quickchartButtonEl.classList.add('colab-df-quickchart-complete');\n",
              "    }\n",
              "    (() => {\n",
              "      let quickchartButtonEl =\n",
              "        document.querySelector('#df-a3e620c5-e6be-4b82-b3d8-d883efec6e21 button');\n",
              "      quickchartButtonEl.style.display =\n",
              "        google.colab.kernel.accessAllowed ? 'block' : 'none';\n",
              "    })();\n",
              "  </script>\n",
              "</div>\n",
              "\n",
              "    </div>\n",
              "  </div>\n"
            ],
            "application/vnd.google.colaboratory.intrinsic+json": {
              "type": "dataframe",
              "repr_error": "0"
            }
          },
          "metadata": {},
          "execution_count": 100
        }
      ],
      "source": [
        "data[data['actual_delivery_time'].isnull()]"
      ]
    },
    {
      "cell_type": "code",
      "execution_count": null,
      "metadata": {
        "colab": {
          "base_uri": "https://localhost:8080/",
          "height": 617
        },
        "id": "0bnRHE36jE25",
        "outputId": "ed862a4e-5a3c-489e-89fa-79ea236370a3"
      },
      "outputs": [
        {
          "output_type": "execute_result",
          "data": {
            "text/plain": [
              "        market_id           created_at actual_delivery_time  \\\n",
              "160           6.0  2015-02-06 01:11:56  2015-02-06 01:42:51   \n",
              "161           6.0  2015-02-14 02:07:47  2015-02-14 03:17:37   \n",
              "162           6.0  2015-01-31 21:58:30  2015-01-31 22:55:32   \n",
              "163           6.0  2015-02-08 03:28:59  2015-02-08 05:32:11   \n",
              "164           6.0  2015-01-23 19:29:17  2015-01-23 20:25:25   \n",
              "...           ...                  ...                  ...   \n",
              "197196        3.0  2015-02-10 19:55:29  2015-02-10 20:33:13   \n",
              "197197        3.0  2015-02-06 03:05:38  2015-02-06 03:58:16   \n",
              "197198        3.0  2015-01-23 03:57:56  2015-01-23 04:43:17   \n",
              "197199        3.0  2015-01-24 03:15:41  2015-01-24 04:04:19   \n",
              "197421        1.0  2015-01-30 03:35:01  2015-01-30 04:42:19   \n",
              "\n",
              "                                store_id store_primary_category  \\\n",
              "160     45d38ce7f5231602e24a2103a0300ae6              breakfast   \n",
              "161     45d38ce7f5231602e24a2103a0300ae6              breakfast   \n",
              "162     45d38ce7f5231602e24a2103a0300ae6              breakfast   \n",
              "163     45d38ce7f5231602e24a2103a0300ae6              breakfast   \n",
              "164     45d38ce7f5231602e24a2103a0300ae6              breakfast   \n",
              "...                                  ...                    ...   \n",
              "197196  084afd913ab1e6ea58b8ca73f6cb41a6                 indian   \n",
              "197197  084afd913ab1e6ea58b8ca73f6cb41a6                 indian   \n",
              "197198  084afd913ab1e6ea58b8ca73f6cb41a6                 indian   \n",
              "197199  084afd913ab1e6ea58b8ca73f6cb41a6                 indian   \n",
              "197421  a914ecef9c12ffdb9bede64bb703d877                   fast   \n",
              "\n",
              "        order_protocol  total_items  subtotal  num_distinct_items  \\\n",
              "160                2.0            2       575                   2   \n",
              "161                2.0            5      1415                   3   \n",
              "162                2.0            1       650                   1   \n",
              "163                2.0            5      1550                   5   \n",
              "164                2.0            6      1110                   5   \n",
              "...                ...          ...       ...                 ...   \n",
              "197196             2.0            3      1792                   3   \n",
              "197197             2.0            8      2923                   5   \n",
              "197198             2.0            3      3297                   3   \n",
              "197199             2.0            4      2776                   4   \n",
              "197421             4.0            2       979                   2   \n",
              "\n",
              "        min_item_price  max_item_price  total_onshift_partners  \\\n",
              "160                225             350                     NaN   \n",
              "161                185             675                     NaN   \n",
              "162                650             650                     NaN   \n",
              "163                225             700                     NaN   \n",
              "164                185             185                     NaN   \n",
              "...                ...             ...                     ...   \n",
              "197196             163            1177                     NaN   \n",
              "197197              50            1199                     NaN   \n",
              "197198             799            1299                     NaN   \n",
              "197199             179            1099                     NaN   \n",
              "197421             145             339                     NaN   \n",
              "\n",
              "        total_busy_partners  total_outstanding_orders  \n",
              "160                     NaN                       NaN  \n",
              "161                     NaN                       NaN  \n",
              "162                     NaN                       NaN  \n",
              "163                     NaN                       NaN  \n",
              "164                     NaN                       NaN  \n",
              "...                     ...                       ...  \n",
              "197196                  NaN                       NaN  \n",
              "197197                  NaN                       NaN  \n",
              "197198                  NaN                       NaN  \n",
              "197199                  NaN                       NaN  \n",
              "197421                  NaN                       NaN  \n",
              "\n",
              "[16262 rows x 14 columns]"
            ],
            "text/html": [
              "\n",
              "  <div id=\"df-945e3788-75d2-42a1-9269-c78574c74a63\" class=\"colab-df-container\">\n",
              "    <div>\n",
              "<style scoped>\n",
              "    .dataframe tbody tr th:only-of-type {\n",
              "        vertical-align: middle;\n",
              "    }\n",
              "\n",
              "    .dataframe tbody tr th {\n",
              "        vertical-align: top;\n",
              "    }\n",
              "\n",
              "    .dataframe thead th {\n",
              "        text-align: right;\n",
              "    }\n",
              "</style>\n",
              "<table border=\"1\" class=\"dataframe\">\n",
              "  <thead>\n",
              "    <tr style=\"text-align: right;\">\n",
              "      <th></th>\n",
              "      <th>market_id</th>\n",
              "      <th>created_at</th>\n",
              "      <th>actual_delivery_time</th>\n",
              "      <th>store_id</th>\n",
              "      <th>store_primary_category</th>\n",
              "      <th>order_protocol</th>\n",
              "      <th>total_items</th>\n",
              "      <th>subtotal</th>\n",
              "      <th>num_distinct_items</th>\n",
              "      <th>min_item_price</th>\n",
              "      <th>max_item_price</th>\n",
              "      <th>total_onshift_partners</th>\n",
              "      <th>total_busy_partners</th>\n",
              "      <th>total_outstanding_orders</th>\n",
              "    </tr>\n",
              "  </thead>\n",
              "  <tbody>\n",
              "    <tr>\n",
              "      <th>160</th>\n",
              "      <td>6.0</td>\n",
              "      <td>2015-02-06 01:11:56</td>\n",
              "      <td>2015-02-06 01:42:51</td>\n",
              "      <td>45d38ce7f5231602e24a2103a0300ae6</td>\n",
              "      <td>breakfast</td>\n",
              "      <td>2.0</td>\n",
              "      <td>2</td>\n",
              "      <td>575</td>\n",
              "      <td>2</td>\n",
              "      <td>225</td>\n",
              "      <td>350</td>\n",
              "      <td>NaN</td>\n",
              "      <td>NaN</td>\n",
              "      <td>NaN</td>\n",
              "    </tr>\n",
              "    <tr>\n",
              "      <th>161</th>\n",
              "      <td>6.0</td>\n",
              "      <td>2015-02-14 02:07:47</td>\n",
              "      <td>2015-02-14 03:17:37</td>\n",
              "      <td>45d38ce7f5231602e24a2103a0300ae6</td>\n",
              "      <td>breakfast</td>\n",
              "      <td>2.0</td>\n",
              "      <td>5</td>\n",
              "      <td>1415</td>\n",
              "      <td>3</td>\n",
              "      <td>185</td>\n",
              "      <td>675</td>\n",
              "      <td>NaN</td>\n",
              "      <td>NaN</td>\n",
              "      <td>NaN</td>\n",
              "    </tr>\n",
              "    <tr>\n",
              "      <th>162</th>\n",
              "      <td>6.0</td>\n",
              "      <td>2015-01-31 21:58:30</td>\n",
              "      <td>2015-01-31 22:55:32</td>\n",
              "      <td>45d38ce7f5231602e24a2103a0300ae6</td>\n",
              "      <td>breakfast</td>\n",
              "      <td>2.0</td>\n",
              "      <td>1</td>\n",
              "      <td>650</td>\n",
              "      <td>1</td>\n",
              "      <td>650</td>\n",
              "      <td>650</td>\n",
              "      <td>NaN</td>\n",
              "      <td>NaN</td>\n",
              "      <td>NaN</td>\n",
              "    </tr>\n",
              "    <tr>\n",
              "      <th>163</th>\n",
              "      <td>6.0</td>\n",
              "      <td>2015-02-08 03:28:59</td>\n",
              "      <td>2015-02-08 05:32:11</td>\n",
              "      <td>45d38ce7f5231602e24a2103a0300ae6</td>\n",
              "      <td>breakfast</td>\n",
              "      <td>2.0</td>\n",
              "      <td>5</td>\n",
              "      <td>1550</td>\n",
              "      <td>5</td>\n",
              "      <td>225</td>\n",
              "      <td>700</td>\n",
              "      <td>NaN</td>\n",
              "      <td>NaN</td>\n",
              "      <td>NaN</td>\n",
              "    </tr>\n",
              "    <tr>\n",
              "      <th>164</th>\n",
              "      <td>6.0</td>\n",
              "      <td>2015-01-23 19:29:17</td>\n",
              "      <td>2015-01-23 20:25:25</td>\n",
              "      <td>45d38ce7f5231602e24a2103a0300ae6</td>\n",
              "      <td>breakfast</td>\n",
              "      <td>2.0</td>\n",
              "      <td>6</td>\n",
              "      <td>1110</td>\n",
              "      <td>5</td>\n",
              "      <td>185</td>\n",
              "      <td>185</td>\n",
              "      <td>NaN</td>\n",
              "      <td>NaN</td>\n",
              "      <td>NaN</td>\n",
              "    </tr>\n",
              "    <tr>\n",
              "      <th>...</th>\n",
              "      <td>...</td>\n",
              "      <td>...</td>\n",
              "      <td>...</td>\n",
              "      <td>...</td>\n",
              "      <td>...</td>\n",
              "      <td>...</td>\n",
              "      <td>...</td>\n",
              "      <td>...</td>\n",
              "      <td>...</td>\n",
              "      <td>...</td>\n",
              "      <td>...</td>\n",
              "      <td>...</td>\n",
              "      <td>...</td>\n",
              "      <td>...</td>\n",
              "    </tr>\n",
              "    <tr>\n",
              "      <th>197196</th>\n",
              "      <td>3.0</td>\n",
              "      <td>2015-02-10 19:55:29</td>\n",
              "      <td>2015-02-10 20:33:13</td>\n",
              "      <td>084afd913ab1e6ea58b8ca73f6cb41a6</td>\n",
              "      <td>indian</td>\n",
              "      <td>2.0</td>\n",
              "      <td>3</td>\n",
              "      <td>1792</td>\n",
              "      <td>3</td>\n",
              "      <td>163</td>\n",
              "      <td>1177</td>\n",
              "      <td>NaN</td>\n",
              "      <td>NaN</td>\n",
              "      <td>NaN</td>\n",
              "    </tr>\n",
              "    <tr>\n",
              "      <th>197197</th>\n",
              "      <td>3.0</td>\n",
              "      <td>2015-02-06 03:05:38</td>\n",
              "      <td>2015-02-06 03:58:16</td>\n",
              "      <td>084afd913ab1e6ea58b8ca73f6cb41a6</td>\n",
              "      <td>indian</td>\n",
              "      <td>2.0</td>\n",
              "      <td>8</td>\n",
              "      <td>2923</td>\n",
              "      <td>5</td>\n",
              "      <td>50</td>\n",
              "      <td>1199</td>\n",
              "      <td>NaN</td>\n",
              "      <td>NaN</td>\n",
              "      <td>NaN</td>\n",
              "    </tr>\n",
              "    <tr>\n",
              "      <th>197198</th>\n",
              "      <td>3.0</td>\n",
              "      <td>2015-01-23 03:57:56</td>\n",
              "      <td>2015-01-23 04:43:17</td>\n",
              "      <td>084afd913ab1e6ea58b8ca73f6cb41a6</td>\n",
              "      <td>indian</td>\n",
              "      <td>2.0</td>\n",
              "      <td>3</td>\n",
              "      <td>3297</td>\n",
              "      <td>3</td>\n",
              "      <td>799</td>\n",
              "      <td>1299</td>\n",
              "      <td>NaN</td>\n",
              "      <td>NaN</td>\n",
              "      <td>NaN</td>\n",
              "    </tr>\n",
              "    <tr>\n",
              "      <th>197199</th>\n",
              "      <td>3.0</td>\n",
              "      <td>2015-01-24 03:15:41</td>\n",
              "      <td>2015-01-24 04:04:19</td>\n",
              "      <td>084afd913ab1e6ea58b8ca73f6cb41a6</td>\n",
              "      <td>indian</td>\n",
              "      <td>2.0</td>\n",
              "      <td>4</td>\n",
              "      <td>2776</td>\n",
              "      <td>4</td>\n",
              "      <td>179</td>\n",
              "      <td>1099</td>\n",
              "      <td>NaN</td>\n",
              "      <td>NaN</td>\n",
              "      <td>NaN</td>\n",
              "    </tr>\n",
              "    <tr>\n",
              "      <th>197421</th>\n",
              "      <td>1.0</td>\n",
              "      <td>2015-01-30 03:35:01</td>\n",
              "      <td>2015-01-30 04:42:19</td>\n",
              "      <td>a914ecef9c12ffdb9bede64bb703d877</td>\n",
              "      <td>fast</td>\n",
              "      <td>4.0</td>\n",
              "      <td>2</td>\n",
              "      <td>979</td>\n",
              "      <td>2</td>\n",
              "      <td>145</td>\n",
              "      <td>339</td>\n",
              "      <td>NaN</td>\n",
              "      <td>NaN</td>\n",
              "      <td>NaN</td>\n",
              "    </tr>\n",
              "  </tbody>\n",
              "</table>\n",
              "<p>16262 rows × 14 columns</p>\n",
              "</div>\n",
              "    <div class=\"colab-df-buttons\">\n",
              "\n",
              "  <div class=\"colab-df-container\">\n",
              "    <button class=\"colab-df-convert\" onclick=\"convertToInteractive('df-945e3788-75d2-42a1-9269-c78574c74a63')\"\n",
              "            title=\"Convert this dataframe to an interactive table.\"\n",
              "            style=\"display:none;\">\n",
              "\n",
              "  <svg xmlns=\"http://www.w3.org/2000/svg\" height=\"24px\" viewBox=\"0 -960 960 960\">\n",
              "    <path d=\"M120-120v-720h720v720H120Zm60-500h600v-160H180v160Zm220 220h160v-160H400v160Zm0 220h160v-160H400v160ZM180-400h160v-160H180v160Zm440 0h160v-160H620v160ZM180-180h160v-160H180v160Zm440 0h160v-160H620v160Z\"/>\n",
              "  </svg>\n",
              "    </button>\n",
              "\n",
              "  <style>\n",
              "    .colab-df-container {\n",
              "      display:flex;\n",
              "      gap: 12px;\n",
              "    }\n",
              "\n",
              "    .colab-df-convert {\n",
              "      background-color: #E8F0FE;\n",
              "      border: none;\n",
              "      border-radius: 50%;\n",
              "      cursor: pointer;\n",
              "      display: none;\n",
              "      fill: #1967D2;\n",
              "      height: 32px;\n",
              "      padding: 0 0 0 0;\n",
              "      width: 32px;\n",
              "    }\n",
              "\n",
              "    .colab-df-convert:hover {\n",
              "      background-color: #E2EBFA;\n",
              "      box-shadow: 0px 1px 2px rgba(60, 64, 67, 0.3), 0px 1px 3px 1px rgba(60, 64, 67, 0.15);\n",
              "      fill: #174EA6;\n",
              "    }\n",
              "\n",
              "    .colab-df-buttons div {\n",
              "      margin-bottom: 4px;\n",
              "    }\n",
              "\n",
              "    [theme=dark] .colab-df-convert {\n",
              "      background-color: #3B4455;\n",
              "      fill: #D2E3FC;\n",
              "    }\n",
              "\n",
              "    [theme=dark] .colab-df-convert:hover {\n",
              "      background-color: #434B5C;\n",
              "      box-shadow: 0px 1px 3px 1px rgba(0, 0, 0, 0.15);\n",
              "      filter: drop-shadow(0px 1px 2px rgba(0, 0, 0, 0.3));\n",
              "      fill: #FFFFFF;\n",
              "    }\n",
              "  </style>\n",
              "\n",
              "    <script>\n",
              "      const buttonEl =\n",
              "        document.querySelector('#df-945e3788-75d2-42a1-9269-c78574c74a63 button.colab-df-convert');\n",
              "      buttonEl.style.display =\n",
              "        google.colab.kernel.accessAllowed ? 'block' : 'none';\n",
              "\n",
              "      async function convertToInteractive(key) {\n",
              "        const element = document.querySelector('#df-945e3788-75d2-42a1-9269-c78574c74a63');\n",
              "        const dataTable =\n",
              "          await google.colab.kernel.invokeFunction('convertToInteractive',\n",
              "                                                    [key], {});\n",
              "        if (!dataTable) return;\n",
              "\n",
              "        const docLinkHtml = 'Like what you see? Visit the ' +\n",
              "          '<a target=\"_blank\" href=https://colab.research.google.com/notebooks/data_table.ipynb>data table notebook</a>'\n",
              "          + ' to learn more about interactive tables.';\n",
              "        element.innerHTML = '';\n",
              "        dataTable['output_type'] = 'display_data';\n",
              "        await google.colab.output.renderOutput(dataTable, element);\n",
              "        const docLink = document.createElement('div');\n",
              "        docLink.innerHTML = docLinkHtml;\n",
              "        element.appendChild(docLink);\n",
              "      }\n",
              "    </script>\n",
              "  </div>\n",
              "\n",
              "\n",
              "<div id=\"df-871aaa4e-aea7-43d4-8d85-27ef7155bcb0\">\n",
              "  <button class=\"colab-df-quickchart\" onclick=\"quickchart('df-871aaa4e-aea7-43d4-8d85-27ef7155bcb0')\"\n",
              "            title=\"Suggest charts\"\n",
              "            style=\"display:none;\">\n",
              "\n",
              "<svg xmlns=\"http://www.w3.org/2000/svg\" height=\"24px\"viewBox=\"0 0 24 24\"\n",
              "     width=\"24px\">\n",
              "    <g>\n",
              "        <path d=\"M19 3H5c-1.1 0-2 .9-2 2v14c0 1.1.9 2 2 2h14c1.1 0 2-.9 2-2V5c0-1.1-.9-2-2-2zM9 17H7v-7h2v7zm4 0h-2V7h2v10zm4 0h-2v-4h2v4z\"/>\n",
              "    </g>\n",
              "</svg>\n",
              "  </button>\n",
              "\n",
              "<style>\n",
              "  .colab-df-quickchart {\n",
              "      --bg-color: #E8F0FE;\n",
              "      --fill-color: #1967D2;\n",
              "      --hover-bg-color: #E2EBFA;\n",
              "      --hover-fill-color: #174EA6;\n",
              "      --disabled-fill-color: #AAA;\n",
              "      --disabled-bg-color: #DDD;\n",
              "  }\n",
              "\n",
              "  [theme=dark] .colab-df-quickchart {\n",
              "      --bg-color: #3B4455;\n",
              "      --fill-color: #D2E3FC;\n",
              "      --hover-bg-color: #434B5C;\n",
              "      --hover-fill-color: #FFFFFF;\n",
              "      --disabled-bg-color: #3B4455;\n",
              "      --disabled-fill-color: #666;\n",
              "  }\n",
              "\n",
              "  .colab-df-quickchart {\n",
              "    background-color: var(--bg-color);\n",
              "    border: none;\n",
              "    border-radius: 50%;\n",
              "    cursor: pointer;\n",
              "    display: none;\n",
              "    fill: var(--fill-color);\n",
              "    height: 32px;\n",
              "    padding: 0;\n",
              "    width: 32px;\n",
              "  }\n",
              "\n",
              "  .colab-df-quickchart:hover {\n",
              "    background-color: var(--hover-bg-color);\n",
              "    box-shadow: 0 1px 2px rgba(60, 64, 67, 0.3), 0 1px 3px 1px rgba(60, 64, 67, 0.15);\n",
              "    fill: var(--button-hover-fill-color);\n",
              "  }\n",
              "\n",
              "  .colab-df-quickchart-complete:disabled,\n",
              "  .colab-df-quickchart-complete:disabled:hover {\n",
              "    background-color: var(--disabled-bg-color);\n",
              "    fill: var(--disabled-fill-color);\n",
              "    box-shadow: none;\n",
              "  }\n",
              "\n",
              "  .colab-df-spinner {\n",
              "    border: 2px solid var(--fill-color);\n",
              "    border-color: transparent;\n",
              "    border-bottom-color: var(--fill-color);\n",
              "    animation:\n",
              "      spin 1s steps(1) infinite;\n",
              "  }\n",
              "\n",
              "  @keyframes spin {\n",
              "    0% {\n",
              "      border-color: transparent;\n",
              "      border-bottom-color: var(--fill-color);\n",
              "      border-left-color: var(--fill-color);\n",
              "    }\n",
              "    20% {\n",
              "      border-color: transparent;\n",
              "      border-left-color: var(--fill-color);\n",
              "      border-top-color: var(--fill-color);\n",
              "    }\n",
              "    30% {\n",
              "      border-color: transparent;\n",
              "      border-left-color: var(--fill-color);\n",
              "      border-top-color: var(--fill-color);\n",
              "      border-right-color: var(--fill-color);\n",
              "    }\n",
              "    40% {\n",
              "      border-color: transparent;\n",
              "      border-right-color: var(--fill-color);\n",
              "      border-top-color: var(--fill-color);\n",
              "    }\n",
              "    60% {\n",
              "      border-color: transparent;\n",
              "      border-right-color: var(--fill-color);\n",
              "    }\n",
              "    80% {\n",
              "      border-color: transparent;\n",
              "      border-right-color: var(--fill-color);\n",
              "      border-bottom-color: var(--fill-color);\n",
              "    }\n",
              "    90% {\n",
              "      border-color: transparent;\n",
              "      border-bottom-color: var(--fill-color);\n",
              "    }\n",
              "  }\n",
              "</style>\n",
              "\n",
              "  <script>\n",
              "    async function quickchart(key) {\n",
              "      const quickchartButtonEl =\n",
              "        document.querySelector('#' + key + ' button');\n",
              "      quickchartButtonEl.disabled = true;  // To prevent multiple clicks.\n",
              "      quickchartButtonEl.classList.add('colab-df-spinner');\n",
              "      try {\n",
              "        const charts = await google.colab.kernel.invokeFunction(\n",
              "            'suggestCharts', [key], {});\n",
              "      } catch (error) {\n",
              "        console.error('Error during call to suggestCharts:', error);\n",
              "      }\n",
              "      quickchartButtonEl.classList.remove('colab-df-spinner');\n",
              "      quickchartButtonEl.classList.add('colab-df-quickchart-complete');\n",
              "    }\n",
              "    (() => {\n",
              "      let quickchartButtonEl =\n",
              "        document.querySelector('#df-871aaa4e-aea7-43d4-8d85-27ef7155bcb0 button');\n",
              "      quickchartButtonEl.style.display =\n",
              "        google.colab.kernel.accessAllowed ? 'block' : 'none';\n",
              "    })();\n",
              "  </script>\n",
              "</div>\n",
              "\n",
              "    </div>\n",
              "  </div>\n"
            ],
            "application/vnd.google.colaboratory.intrinsic+json": {
              "type": "dataframe",
              "repr_error": "0"
            }
          },
          "metadata": {},
          "execution_count": 101
        }
      ],
      "source": [
        "data[data['total_onshift_partners'].isnull()]"
      ]
    },
    {
      "cell_type": "markdown",
      "metadata": {
        "id": "e2nZnuy4jE25"
      },
      "source": [
        "Removing the NAN's"
      ]
    },
    {
      "cell_type": "code",
      "execution_count": null,
      "metadata": {
        "id": "2L7XXEGVjE26"
      },
      "outputs": [],
      "source": [
        "data.dropna(subset=[\n",
        "    'total_onshift_partners',\n",
        "    'total_busy_partners',\n",
        "    'total_outstanding_orders',\n",
        "    'market_id',\n",
        "    'actual_delivery_time',\n",
        "    'order_protocol',\n",
        "    'store_primary_category'\n",
        "], inplace=True)\n"
      ]
    },
    {
      "cell_type": "code",
      "execution_count": null,
      "metadata": {
        "colab": {
          "base_uri": "https://localhost:8080/",
          "height": 523
        },
        "id": "9agoZuTnjE26",
        "outputId": "20e1a0c8-3a95-432b-8efd-9ac33847a23e"
      },
      "outputs": [
        {
          "output_type": "execute_result",
          "data": {
            "text/plain": [
              "market_id                   0\n",
              "created_at                  0\n",
              "actual_delivery_time        0\n",
              "store_id                    0\n",
              "store_primary_category      0\n",
              "order_protocol              0\n",
              "total_items                 0\n",
              "subtotal                    0\n",
              "num_distinct_items          0\n",
              "min_item_price              0\n",
              "max_item_price              0\n",
              "total_onshift_partners      0\n",
              "total_busy_partners         0\n",
              "total_outstanding_orders    0\n",
              "dtype: int64"
            ],
            "text/html": [
              "<div>\n",
              "<style scoped>\n",
              "    .dataframe tbody tr th:only-of-type {\n",
              "        vertical-align: middle;\n",
              "    }\n",
              "\n",
              "    .dataframe tbody tr th {\n",
              "        vertical-align: top;\n",
              "    }\n",
              "\n",
              "    .dataframe thead th {\n",
              "        text-align: right;\n",
              "    }\n",
              "</style>\n",
              "<table border=\"1\" class=\"dataframe\">\n",
              "  <thead>\n",
              "    <tr style=\"text-align: right;\">\n",
              "      <th></th>\n",
              "      <th>0</th>\n",
              "    </tr>\n",
              "  </thead>\n",
              "  <tbody>\n",
              "    <tr>\n",
              "      <th>market_id</th>\n",
              "      <td>0</td>\n",
              "    </tr>\n",
              "    <tr>\n",
              "      <th>created_at</th>\n",
              "      <td>0</td>\n",
              "    </tr>\n",
              "    <tr>\n",
              "      <th>actual_delivery_time</th>\n",
              "      <td>0</td>\n",
              "    </tr>\n",
              "    <tr>\n",
              "      <th>store_id</th>\n",
              "      <td>0</td>\n",
              "    </tr>\n",
              "    <tr>\n",
              "      <th>store_primary_category</th>\n",
              "      <td>0</td>\n",
              "    </tr>\n",
              "    <tr>\n",
              "      <th>order_protocol</th>\n",
              "      <td>0</td>\n",
              "    </tr>\n",
              "    <tr>\n",
              "      <th>total_items</th>\n",
              "      <td>0</td>\n",
              "    </tr>\n",
              "    <tr>\n",
              "      <th>subtotal</th>\n",
              "      <td>0</td>\n",
              "    </tr>\n",
              "    <tr>\n",
              "      <th>num_distinct_items</th>\n",
              "      <td>0</td>\n",
              "    </tr>\n",
              "    <tr>\n",
              "      <th>min_item_price</th>\n",
              "      <td>0</td>\n",
              "    </tr>\n",
              "    <tr>\n",
              "      <th>max_item_price</th>\n",
              "      <td>0</td>\n",
              "    </tr>\n",
              "    <tr>\n",
              "      <th>total_onshift_partners</th>\n",
              "      <td>0</td>\n",
              "    </tr>\n",
              "    <tr>\n",
              "      <th>total_busy_partners</th>\n",
              "      <td>0</td>\n",
              "    </tr>\n",
              "    <tr>\n",
              "      <th>total_outstanding_orders</th>\n",
              "      <td>0</td>\n",
              "    </tr>\n",
              "  </tbody>\n",
              "</table>\n",
              "</div><br><label><b>dtype:</b> int64</label>"
            ]
          },
          "metadata": {},
          "execution_count": 103
        }
      ],
      "source": [
        "data.isna().sum()"
      ]
    },
    {
      "cell_type": "code",
      "execution_count": null,
      "metadata": {
        "id": "jo9SU8mkjE26"
      },
      "outputs": [],
      "source": [
        "# #Filling store_primary_category,market_id,order_protocol with the mode of the column\n",
        "# data['store_primary_category'].fillna(data['store_primary_category'].mode()[0], inplace=True)\n",
        "# data['market_id'].fillna(data['market_id'].mode()[0], inplace=True)\n",
        "# data['order_protocol'].fillna(data['order_protocol'].mode()[0], inplace=True)"
      ]
    },
    {
      "cell_type": "code",
      "execution_count": null,
      "metadata": {
        "colab": {
          "base_uri": "https://localhost:8080/"
        },
        "id": "URKsJ0AUy9iw",
        "outputId": "5f857343-4a30-4622-e4a7-853fd4120232"
      },
      "outputs": [
        {
          "output_type": "stream",
          "name": "stdout",
          "text": [
            "<class 'pandas.core.frame.DataFrame'>\n",
            "Index: 176248 entries, 0 to 197427\n",
            "Data columns (total 14 columns):\n",
            " #   Column                    Non-Null Count   Dtype  \n",
            "---  ------                    --------------   -----  \n",
            " 0   market_id                 176248 non-null  float64\n",
            " 1   created_at                176248 non-null  object \n",
            " 2   actual_delivery_time      176248 non-null  object \n",
            " 3   store_id                  176248 non-null  object \n",
            " 4   store_primary_category    176248 non-null  object \n",
            " 5   order_protocol            176248 non-null  float64\n",
            " 6   total_items               176248 non-null  int64  \n",
            " 7   subtotal                  176248 non-null  int64  \n",
            " 8   num_distinct_items        176248 non-null  int64  \n",
            " 9   min_item_price            176248 non-null  int64  \n",
            " 10  max_item_price            176248 non-null  int64  \n",
            " 11  total_onshift_partners    176248 non-null  float64\n",
            " 12  total_busy_partners       176248 non-null  float64\n",
            " 13  total_outstanding_orders  176248 non-null  float64\n",
            "dtypes: float64(5), int64(5), object(4)\n",
            "memory usage: 20.2+ MB\n"
          ]
        }
      ],
      "source": [
        "data.info()"
      ]
    },
    {
      "cell_type": "markdown",
      "metadata": {
        "id": "zEzVmW6vjE26"
      },
      "source": [
        "Feature Engineering"
      ]
    },
    {
      "cell_type": "code",
      "execution_count": null,
      "metadata": {
        "id": "rcs2wAq6jE26"
      },
      "outputs": [],
      "source": [
        "data['actual_delivery_time']=pd.to_datetime(data['actual_delivery_time'])\n",
        "data['created_at']=pd.to_datetime(data['created_at'])"
      ]
    },
    {
      "cell_type": "code",
      "execution_count": null,
      "metadata": {
        "id": "Hbb5PNAEjE27"
      },
      "outputs": [],
      "source": [
        "#Fill missing values in actual_delivery_time with the mean of the column\n",
        "# data['actual_delivery_time'].interpolate(method='linear',inplace=True)"
      ]
    },
    {
      "cell_type": "code",
      "source": [
        "data['price'] = data['subtotal']* data['total_items']"
      ],
      "metadata": {
        "id": "RWay1C1cb2af"
      },
      "execution_count": null,
      "outputs": []
    },
    {
      "cell_type": "code",
      "execution_count": null,
      "metadata": {
        "id": "33q1VeCRjE29"
      },
      "outputs": [],
      "source": [
        "original_categories = data['store_primary_category'].astype('category').cat.categories\n",
        "\n",
        "# Encoding the store type column\n",
        "data['store_primary_category'] = data['store_primary_category'].astype('category').cat.codes"
      ]
    },
    {
      "cell_type": "code",
      "execution_count": null,
      "metadata": {
        "id": "iBTjn_fvErJE"
      },
      "outputs": [],
      "source": [
        "#knn imputation\n",
        "# from sklearn.impute import KNNImputer\n",
        "# imputer = KNNImputer(missing_values=np.nan,n_neighbors=5)\n",
        "# cols = ['store_primary_category', 'market_id', 'order_protocol']\n",
        "\n",
        "# data[cols] = imputer.fit_transform(data[cols])"
      ]
    },
    {
      "cell_type": "code",
      "execution_count": null,
      "metadata": {
        "id": "nJMzFAxajE27"
      },
      "outputs": [],
      "source": [
        "data['target'] = (data['actual_delivery_time']-data['created_at']).dt.total_seconds()/60\n",
        "data['hour_of_order'] = data['created_at'].dt.hour\n",
        "data['dayofweek_of_order'] = data['created_at'].dt.dayofweek"
      ]
    },
    {
      "cell_type": "code",
      "execution_count": null,
      "metadata": {
        "colab": {
          "base_uri": "https://localhost:8080/",
          "height": 241
        },
        "id": "pfrOKluzjE27",
        "outputId": "648785f1-e551-4a8b-e0d6-5767b1ee44c4"
      },
      "outputs": [
        {
          "output_type": "execute_result",
          "data": {
            "text/plain": [
              "0     62.983333\n",
              "1     67.066667\n",
              "8     26.433333\n",
              "14    37.883333\n",
              "15    49.800000\n",
              "Name: target, dtype: float64"
            ],
            "text/html": [
              "<div>\n",
              "<style scoped>\n",
              "    .dataframe tbody tr th:only-of-type {\n",
              "        vertical-align: middle;\n",
              "    }\n",
              "\n",
              "    .dataframe tbody tr th {\n",
              "        vertical-align: top;\n",
              "    }\n",
              "\n",
              "    .dataframe thead th {\n",
              "        text-align: right;\n",
              "    }\n",
              "</style>\n",
              "<table border=\"1\" class=\"dataframe\">\n",
              "  <thead>\n",
              "    <tr style=\"text-align: right;\">\n",
              "      <th></th>\n",
              "      <th>target</th>\n",
              "    </tr>\n",
              "  </thead>\n",
              "  <tbody>\n",
              "    <tr>\n",
              "      <th>0</th>\n",
              "      <td>62.983333</td>\n",
              "    </tr>\n",
              "    <tr>\n",
              "      <th>1</th>\n",
              "      <td>67.066667</td>\n",
              "    </tr>\n",
              "    <tr>\n",
              "      <th>8</th>\n",
              "      <td>26.433333</td>\n",
              "    </tr>\n",
              "    <tr>\n",
              "      <th>14</th>\n",
              "      <td>37.883333</td>\n",
              "    </tr>\n",
              "    <tr>\n",
              "      <th>15</th>\n",
              "      <td>49.800000</td>\n",
              "    </tr>\n",
              "  </tbody>\n",
              "</table>\n",
              "</div><br><label><b>dtype:</b> float64</label>"
            ]
          },
          "metadata": {},
          "execution_count": 112
        }
      ],
      "source": [
        "data.target.head()"
      ]
    },
    {
      "cell_type": "code",
      "execution_count": null,
      "metadata": {
        "colab": {
          "base_uri": "https://localhost:8080/",
          "height": 206
        },
        "id": "t49mSUXljE28",
        "outputId": "a02a13c6-02cd-49ad-8d7f-816b89908442"
      },
      "outputs": [
        {
          "output_type": "execute_result",
          "data": {
            "text/plain": [
              "       target  hour_of_order  dayofweek_of_order\n",
              "0   62.983333             22                   4\n",
              "1   67.066667             21                   1\n",
              "8   26.433333              0                   0\n",
              "14  37.883333              3                   3\n",
              "15  49.800000              2                   1"
            ],
            "text/html": [
              "\n",
              "  <div id=\"df-36db4f3e-6af4-4421-baae-14d7e4bf1e06\" class=\"colab-df-container\">\n",
              "    <div>\n",
              "<style scoped>\n",
              "    .dataframe tbody tr th:only-of-type {\n",
              "        vertical-align: middle;\n",
              "    }\n",
              "\n",
              "    .dataframe tbody tr th {\n",
              "        vertical-align: top;\n",
              "    }\n",
              "\n",
              "    .dataframe thead th {\n",
              "        text-align: right;\n",
              "    }\n",
              "</style>\n",
              "<table border=\"1\" class=\"dataframe\">\n",
              "  <thead>\n",
              "    <tr style=\"text-align: right;\">\n",
              "      <th></th>\n",
              "      <th>target</th>\n",
              "      <th>hour_of_order</th>\n",
              "      <th>dayofweek_of_order</th>\n",
              "    </tr>\n",
              "  </thead>\n",
              "  <tbody>\n",
              "    <tr>\n",
              "      <th>0</th>\n",
              "      <td>62.983333</td>\n",
              "      <td>22</td>\n",
              "      <td>4</td>\n",
              "    </tr>\n",
              "    <tr>\n",
              "      <th>1</th>\n",
              "      <td>67.066667</td>\n",
              "      <td>21</td>\n",
              "      <td>1</td>\n",
              "    </tr>\n",
              "    <tr>\n",
              "      <th>8</th>\n",
              "      <td>26.433333</td>\n",
              "      <td>0</td>\n",
              "      <td>0</td>\n",
              "    </tr>\n",
              "    <tr>\n",
              "      <th>14</th>\n",
              "      <td>37.883333</td>\n",
              "      <td>3</td>\n",
              "      <td>3</td>\n",
              "    </tr>\n",
              "    <tr>\n",
              "      <th>15</th>\n",
              "      <td>49.800000</td>\n",
              "      <td>2</td>\n",
              "      <td>1</td>\n",
              "    </tr>\n",
              "  </tbody>\n",
              "</table>\n",
              "</div>\n",
              "    <div class=\"colab-df-buttons\">\n",
              "\n",
              "  <div class=\"colab-df-container\">\n",
              "    <button class=\"colab-df-convert\" onclick=\"convertToInteractive('df-36db4f3e-6af4-4421-baae-14d7e4bf1e06')\"\n",
              "            title=\"Convert this dataframe to an interactive table.\"\n",
              "            style=\"display:none;\">\n",
              "\n",
              "  <svg xmlns=\"http://www.w3.org/2000/svg\" height=\"24px\" viewBox=\"0 -960 960 960\">\n",
              "    <path d=\"M120-120v-720h720v720H120Zm60-500h600v-160H180v160Zm220 220h160v-160H400v160Zm0 220h160v-160H400v160ZM180-400h160v-160H180v160Zm440 0h160v-160H620v160ZM180-180h160v-160H180v160Zm440 0h160v-160H620v160Z\"/>\n",
              "  </svg>\n",
              "    </button>\n",
              "\n",
              "  <style>\n",
              "    .colab-df-container {\n",
              "      display:flex;\n",
              "      gap: 12px;\n",
              "    }\n",
              "\n",
              "    .colab-df-convert {\n",
              "      background-color: #E8F0FE;\n",
              "      border: none;\n",
              "      border-radius: 50%;\n",
              "      cursor: pointer;\n",
              "      display: none;\n",
              "      fill: #1967D2;\n",
              "      height: 32px;\n",
              "      padding: 0 0 0 0;\n",
              "      width: 32px;\n",
              "    }\n",
              "\n",
              "    .colab-df-convert:hover {\n",
              "      background-color: #E2EBFA;\n",
              "      box-shadow: 0px 1px 2px rgba(60, 64, 67, 0.3), 0px 1px 3px 1px rgba(60, 64, 67, 0.15);\n",
              "      fill: #174EA6;\n",
              "    }\n",
              "\n",
              "    .colab-df-buttons div {\n",
              "      margin-bottom: 4px;\n",
              "    }\n",
              "\n",
              "    [theme=dark] .colab-df-convert {\n",
              "      background-color: #3B4455;\n",
              "      fill: #D2E3FC;\n",
              "    }\n",
              "\n",
              "    [theme=dark] .colab-df-convert:hover {\n",
              "      background-color: #434B5C;\n",
              "      box-shadow: 0px 1px 3px 1px rgba(0, 0, 0, 0.15);\n",
              "      filter: drop-shadow(0px 1px 2px rgba(0, 0, 0, 0.3));\n",
              "      fill: #FFFFFF;\n",
              "    }\n",
              "  </style>\n",
              "\n",
              "    <script>\n",
              "      const buttonEl =\n",
              "        document.querySelector('#df-36db4f3e-6af4-4421-baae-14d7e4bf1e06 button.colab-df-convert');\n",
              "      buttonEl.style.display =\n",
              "        google.colab.kernel.accessAllowed ? 'block' : 'none';\n",
              "\n",
              "      async function convertToInteractive(key) {\n",
              "        const element = document.querySelector('#df-36db4f3e-6af4-4421-baae-14d7e4bf1e06');\n",
              "        const dataTable =\n",
              "          await google.colab.kernel.invokeFunction('convertToInteractive',\n",
              "                                                    [key], {});\n",
              "        if (!dataTable) return;\n",
              "\n",
              "        const docLinkHtml = 'Like what you see? Visit the ' +\n",
              "          '<a target=\"_blank\" href=https://colab.research.google.com/notebooks/data_table.ipynb>data table notebook</a>'\n",
              "          + ' to learn more about interactive tables.';\n",
              "        element.innerHTML = '';\n",
              "        dataTable['output_type'] = 'display_data';\n",
              "        await google.colab.output.renderOutput(dataTable, element);\n",
              "        const docLink = document.createElement('div');\n",
              "        docLink.innerHTML = docLinkHtml;\n",
              "        element.appendChild(docLink);\n",
              "      }\n",
              "    </script>\n",
              "  </div>\n",
              "\n",
              "\n",
              "<div id=\"df-dec658f6-9772-473c-afe0-19f2c851c5f4\">\n",
              "  <button class=\"colab-df-quickchart\" onclick=\"quickchart('df-dec658f6-9772-473c-afe0-19f2c851c5f4')\"\n",
              "            title=\"Suggest charts\"\n",
              "            style=\"display:none;\">\n",
              "\n",
              "<svg xmlns=\"http://www.w3.org/2000/svg\" height=\"24px\"viewBox=\"0 0 24 24\"\n",
              "     width=\"24px\">\n",
              "    <g>\n",
              "        <path d=\"M19 3H5c-1.1 0-2 .9-2 2v14c0 1.1.9 2 2 2h14c1.1 0 2-.9 2-2V5c0-1.1-.9-2-2-2zM9 17H7v-7h2v7zm4 0h-2V7h2v10zm4 0h-2v-4h2v4z\"/>\n",
              "    </g>\n",
              "</svg>\n",
              "  </button>\n",
              "\n",
              "<style>\n",
              "  .colab-df-quickchart {\n",
              "      --bg-color: #E8F0FE;\n",
              "      --fill-color: #1967D2;\n",
              "      --hover-bg-color: #E2EBFA;\n",
              "      --hover-fill-color: #174EA6;\n",
              "      --disabled-fill-color: #AAA;\n",
              "      --disabled-bg-color: #DDD;\n",
              "  }\n",
              "\n",
              "  [theme=dark] .colab-df-quickchart {\n",
              "      --bg-color: #3B4455;\n",
              "      --fill-color: #D2E3FC;\n",
              "      --hover-bg-color: #434B5C;\n",
              "      --hover-fill-color: #FFFFFF;\n",
              "      --disabled-bg-color: #3B4455;\n",
              "      --disabled-fill-color: #666;\n",
              "  }\n",
              "\n",
              "  .colab-df-quickchart {\n",
              "    background-color: var(--bg-color);\n",
              "    border: none;\n",
              "    border-radius: 50%;\n",
              "    cursor: pointer;\n",
              "    display: none;\n",
              "    fill: var(--fill-color);\n",
              "    height: 32px;\n",
              "    padding: 0;\n",
              "    width: 32px;\n",
              "  }\n",
              "\n",
              "  .colab-df-quickchart:hover {\n",
              "    background-color: var(--hover-bg-color);\n",
              "    box-shadow: 0 1px 2px rgba(60, 64, 67, 0.3), 0 1px 3px 1px rgba(60, 64, 67, 0.15);\n",
              "    fill: var(--button-hover-fill-color);\n",
              "  }\n",
              "\n",
              "  .colab-df-quickchart-complete:disabled,\n",
              "  .colab-df-quickchart-complete:disabled:hover {\n",
              "    background-color: var(--disabled-bg-color);\n",
              "    fill: var(--disabled-fill-color);\n",
              "    box-shadow: none;\n",
              "  }\n",
              "\n",
              "  .colab-df-spinner {\n",
              "    border: 2px solid var(--fill-color);\n",
              "    border-color: transparent;\n",
              "    border-bottom-color: var(--fill-color);\n",
              "    animation:\n",
              "      spin 1s steps(1) infinite;\n",
              "  }\n",
              "\n",
              "  @keyframes spin {\n",
              "    0% {\n",
              "      border-color: transparent;\n",
              "      border-bottom-color: var(--fill-color);\n",
              "      border-left-color: var(--fill-color);\n",
              "    }\n",
              "    20% {\n",
              "      border-color: transparent;\n",
              "      border-left-color: var(--fill-color);\n",
              "      border-top-color: var(--fill-color);\n",
              "    }\n",
              "    30% {\n",
              "      border-color: transparent;\n",
              "      border-left-color: var(--fill-color);\n",
              "      border-top-color: var(--fill-color);\n",
              "      border-right-color: var(--fill-color);\n",
              "    }\n",
              "    40% {\n",
              "      border-color: transparent;\n",
              "      border-right-color: var(--fill-color);\n",
              "      border-top-color: var(--fill-color);\n",
              "    }\n",
              "    60% {\n",
              "      border-color: transparent;\n",
              "      border-right-color: var(--fill-color);\n",
              "    }\n",
              "    80% {\n",
              "      border-color: transparent;\n",
              "      border-right-color: var(--fill-color);\n",
              "      border-bottom-color: var(--fill-color);\n",
              "    }\n",
              "    90% {\n",
              "      border-color: transparent;\n",
              "      border-bottom-color: var(--fill-color);\n",
              "    }\n",
              "  }\n",
              "</style>\n",
              "\n",
              "  <script>\n",
              "    async function quickchart(key) {\n",
              "      const quickchartButtonEl =\n",
              "        document.querySelector('#' + key + ' button');\n",
              "      quickchartButtonEl.disabled = true;  // To prevent multiple clicks.\n",
              "      quickchartButtonEl.classList.add('colab-df-spinner');\n",
              "      try {\n",
              "        const charts = await google.colab.kernel.invokeFunction(\n",
              "            'suggestCharts', [key], {});\n",
              "      } catch (error) {\n",
              "        console.error('Error during call to suggestCharts:', error);\n",
              "      }\n",
              "      quickchartButtonEl.classList.remove('colab-df-spinner');\n",
              "      quickchartButtonEl.classList.add('colab-df-quickchart-complete');\n",
              "    }\n",
              "    (() => {\n",
              "      let quickchartButtonEl =\n",
              "        document.querySelector('#df-dec658f6-9772-473c-afe0-19f2c851c5f4 button');\n",
              "      quickchartButtonEl.style.display =\n",
              "        google.colab.kernel.accessAllowed ? 'block' : 'none';\n",
              "    })();\n",
              "  </script>\n",
              "</div>\n",
              "\n",
              "    </div>\n",
              "  </div>\n"
            ],
            "application/vnd.google.colaboratory.intrinsic+json": {
              "type": "dataframe",
              "summary": "{\n  \"name\": \"data[['target','hour_of_order','dayofweek_of_order']]\",\n  \"rows\": 5,\n  \"fields\": [\n    {\n      \"column\": \"target\",\n      \"properties\": {\n        \"dtype\": \"number\",\n        \"std\": 16.994660109052553,\n        \"min\": 26.433333333333334,\n        \"max\": 67.06666666666666,\n        \"num_unique_values\": 5,\n        \"samples\": [\n          67.06666666666666,\n          49.8,\n          26.433333333333334\n        ],\n        \"semantic_type\": \"\",\n        \"description\": \"\"\n      }\n    },\n    {\n      \"column\": \"hour_of_order\",\n      \"properties\": {\n        \"dtype\": \"int32\",\n        \"num_unique_values\": 5,\n        \"samples\": [\n          21,\n          2,\n          0\n        ],\n        \"semantic_type\": \"\",\n        \"description\": \"\"\n      }\n    },\n    {\n      \"column\": \"dayofweek_of_order\",\n      \"properties\": {\n        \"dtype\": \"int32\",\n        \"num_unique_values\": 4,\n        \"samples\": [\n          1,\n          3,\n          4\n        ],\n        \"semantic_type\": \"\",\n        \"description\": \"\"\n      }\n    }\n  ]\n}"
            }
          },
          "metadata": {},
          "execution_count": 113
        }
      ],
      "source": [
        "data[['target','hour_of_order','dayofweek_of_order']].head()"
      ]
    },
    {
      "cell_type": "code",
      "execution_count": null,
      "metadata": {
        "id": "hVsTH8HYjE28"
      },
      "outputs": [],
      "source": [
        "#Dropping the unnecessary columns\n",
        "data.drop(['actual_delivery_time','created_at','store_id'],axis=1,inplace=True)"
      ]
    },
    {
      "cell_type": "markdown",
      "source": [
        "## EDA"
      ],
      "metadata": {
        "id": "dS8hi-v0H8KS"
      }
    },
    {
      "cell_type": "markdown",
      "metadata": {
        "id": "BH7K9gJFGgzJ"
      },
      "source": [
        "### Store category v/s Time Taken to Deliver"
      ]
    },
    {
      "cell_type": "code",
      "execution_count": null,
      "metadata": {
        "colab": {
          "base_uri": "https://localhost:8080/",
          "height": 603
        },
        "id": "yhdwHUjEjE28",
        "outputId": "e3b8cc05-fd8f-480c-8da3-c4036f3f0bed"
      },
      "outputs": [
        {
          "output_type": "stream",
          "name": "stdout",
          "text": [
            "Highest Category: (63, 56.425203252032524)\n",
            "Lowest Category: (21, 34.13333333333333)\n"
          ]
        },
        {
          "output_type": "display_data",
          "data": {
            "text/plain": [
              "<Figure size 1200x600 with 1 Axes>"
            ],
            "image/png": "[encoded data removed]"
          },
          "metadata": {}
        }
      ],
      "source": [
        "category_means = data.groupby(\"store_primary_category\")[\"target\"].mean()\n",
        "\n",
        "#To find the category with the highest and lowest mean target values\n",
        "highest_category = category_means.idxmax(), category_means.max()\n",
        "lowest_category = category_means.idxmin(), category_means.min()\n",
        "\n",
        "print(\"Highest Category:\", highest_category)\n",
        "print(\"Lowest Category:\", lowest_category)\n",
        "\n",
        "plt.figure(figsize=(12, 6))\n",
        "ax = sns.barplot(x=category_means.index, y=category_means.values, ci=None)\n",
        "\n",
        "# Annotate highest point\n",
        "ax.text(highest_category[0], highest_category[1], f'Highest: {highest_category[1]:.2f}',\n",
        "        ha='center', va='bottom', fontsize=10, color='red', fontweight='bold')\n",
        "\n",
        "# Annotate lowest point\n",
        "ax.text(lowest_category[0], lowest_category[1], f'Lowest: {lowest_category[1]:.2f}',\n",
        "        ha='center', va='top', fontsize=10, color='blue', fontweight='bold')\n",
        "\n",
        "plt.xticks(rotation=90)\n",
        "plt.xlabel(\"Store Primary Category\")\n",
        "plt.ylabel(\"Target\")\n",
        "plt.title(\"Target by Store Category with Highest & Lowest Annotated\")\n",
        "\n",
        "plt.show()"
      ]
    },
    {
      "cell_type": "code",
      "execution_count": null,
      "metadata": {
        "colab": {
          "base_uri": "https://localhost:8080/"
        },
        "id": "SXgNcHSKGuGn",
        "outputId": "f73c0c17-6d23-47e9-f7bc-525d7b49fa69"
      },
      "outputs": [
        {
          "output_type": "execute_result",
          "data": {
            "text/plain": [
              "('southern', 'chocolate')"
            ]
          },
          "metadata": {},
          "execution_count": 116
        }
      ],
      "source": [
        "original_categories[63], original_categories[21]"
      ]
    },
    {
      "cell_type": "markdown",
      "metadata": {
        "id": "owy4YrZvHAEm"
      },
      "source": [
        "* Southern cusine takes the highest delivery time , while chocolate category is the quickest to deliver"
      ]
    },
    {
      "cell_type": "markdown",
      "source": [
        "### Price v/s Minutes Taken to deliver"
      ],
      "metadata": {
        "id": "TYh-Tostd2NB"
      }
    },
    {
      "cell_type": "code",
      "source": [
        "sns.jointplot(data=data,x='target',y='price')\n",
        "plt.show()"
      ],
      "metadata": {
        "colab": {
          "base_uri": "https://localhost:8080/",
          "height": 607
        },
        "id": "LIm_lm_6cxjd",
        "outputId": "87c1ee14-e7d2-4e35-a0bb-878ff99d89d2"
      },
      "execution_count": null,
      "outputs": [
        {
          "output_type": "display_data",
          "data": {
            "text/plain": [
              "<Figure size 600x600 with 3 Axes>"
            ],
            "image/png": "[encoded data removed]"
          },
          "metadata": {}
        }
      ]
    },
    {
      "cell_type": "markdown",
      "source": [
        "Inference\n",
        "\n",
        "* The price is spread across a wide range with a high concentration of data points below 10000\n",
        "* The target variable is distributed somewhat evenly across its range, though slightly denser in the lower target values.\n",
        "* Some data points exist at extreme price values (~40,000+) and low target values, which might need further investigation.\n",
        "* There doesn't appear to be a strong correlation between price and target, as the points are widely dispersed.\n"
      ],
      "metadata": {
        "id": "5j9D7TzXdRw4"
      }
    },
    {
      "cell_type": "markdown",
      "metadata": {
        "id": "Qv0JOjEeHTX0"
      },
      "source": [
        "### Market v/s Time taken to Deliver"
      ]
    },
    {
      "cell_type": "code",
      "execution_count": null,
      "metadata": {
        "colab": {
          "base_uri": "https://localhost:8080/",
          "height": 450
        },
        "id": "iBXsuLNHjE29",
        "outputId": "80874852-3e59-4e77-88d8-1aad85bc2960"
      },
      "outputs": [
        {
          "output_type": "display_data",
          "data": {
            "text/plain": [
              "<Figure size 640x480 with 1 Axes>"
            ],
            "image/png": "[encoded data removed]"
          },
          "metadata": {}
        }
      ],
      "source": [
        "sns.barplot(x='market_id',y='target',data=data)\n",
        "plt.show()"
      ]
    },
    {
      "cell_type": "markdown",
      "source": [
        "### Store Category v/s totalitems"
      ],
      "metadata": {
        "id": "RX3bmD8fkLJ-"
      }
    },
    {
      "cell_type": "code",
      "execution_count": null,
      "metadata": {
        "colab": {
          "base_uri": "https://localhost:8080/",
          "height": 581
        },
        "id": "92M36PmDjE29",
        "outputId": "3d69be7f-8764-42d4-ad65-e14d51fe2aa7"
      },
      "outputs": [
        {
          "output_type": "stream",
          "name": "stdout",
          "text": [
            "Highest Category: (41, 5.627450980392157)\n",
            "Lowest Category: (3, 1.0)\n"
          ]
        },
        {
          "output_type": "display_data",
          "data": {
            "text/plain": [
              "<Figure size 1200x600 with 1 Axes>"
            ],
            "image/png": "[encoded data removed]"
          },
          "metadata": {}
        }
      ],
      "source": [
        "category_mean = data.groupby(\"store_primary_category\")[\"total_items\"].mean()\n",
        "highest_category = category_mean.idxmax(), category_mean.max()\n",
        "lowest_category = category_mean.idxmin(), category_mean.min()\n",
        "\n",
        "print(\"Highest Category:\", highest_category)\n",
        "print(\"Lowest Category:\", lowest_category)\n",
        "\n",
        "plt.figure(figsize=(12, 6))\n",
        "ax = sns.barplot(x=category_mean.index, y=category_mean.values, ci=None)\n",
        "\n",
        "# Annotate highest point\n",
        "ax.text(highest_category[0], highest_category[1], f'Highest: {highest_category[1]:.2f}',\n",
        "        ha='center', va='bottom', fontsize=10, color='red', fontweight='bold')\n",
        "\n",
        "# Annotate lowest point\n",
        "ax.text(lowest_category[0], lowest_category[1], f'Lowest: {lowest_category[1]:.2f}',\n",
        "        ha='center', va='top', fontsize=10, color='blue', fontweight='bold')\n",
        "\n",
        "plt.xticks(rotation=90)\n",
        "plt.show()"
      ]
    },
    {
      "cell_type": "code",
      "execution_count": null,
      "metadata": {
        "colab": {
          "base_uri": "https://localhost:8080/"
        },
        "id": "TGqf5OXz2D0z",
        "outputId": "b14d9a3d-6488-4aaa-c4a2-e6100bff5f83"
      },
      "outputs": [
        {
          "output_type": "execute_result",
          "data": {
            "text/plain": [
              "('alcohol-plus-food', 'kosher')"
            ]
          },
          "metadata": {},
          "execution_count": 120
        }
      ],
      "source": [
        "original_categories[3],original_categories[41]"
      ]
    },
    {
      "cell_type": "markdown",
      "metadata": {
        "id": "M29PqGsH2Nc2"
      },
      "source": [
        "Inference\n",
        "* Customers ordering from Kosher stores tend to have the highest average total items in their orders.\n",
        "* The Alcohol plus Food category has the lowest average total items per order.\n",
        "* This suggests that customers ordering alcohol with food generally purchase fewer items per order, possibly because alcohol purchases are often separate from large food orders."
      ]
    },
    {
      "cell_type": "markdown",
      "source": [
        "### Order Distribution by Day of Week and Hour"
      ],
      "metadata": {
        "id": "qJrjWZQnkVmO"
      }
    },
    {
      "cell_type": "code",
      "execution_count": null,
      "metadata": {
        "colab": {
          "base_uri": "https://localhost:8080/",
          "height": 388
        },
        "id": "iWnpGRcmjE29",
        "outputId": "3c9ea180-518d-47ea-e423-e06c77bf159a"
      },
      "outputs": [
        {
          "output_type": "display_data",
          "data": {
            "text/plain": [
              "<Figure size 1200x400 with 2 Axes>"
            ],
            "image/png": "[encoded data removed]"
          },
          "metadata": {}
        }
      ],
      "source": [
        "plt.figure(figsize=(12,4))\n",
        "plt.subplot(121)\n",
        "sns.countplot(x=data['dayofweek_of_order'])\n",
        "plt.subplot(122)\n",
        "sns.countplot(x=data['hour_of_order'])\n",
        "plt.show()"
      ]
    },
    {
      "cell_type": "markdown",
      "source": [
        "Inference\n",
        "\n",
        "* Lowest orders occur on Tuesday (day 1).\n",
        "* Weekends have the highest number of orders, likely due to increased consumer activity.\n",
        "* Low activity from 4 AM - 8 AM, suggesting fewer orders during early morning hours.\n",
        "* Another rise in orders from 5 PM - 10 PM, possibly indicating people placing orders after work."
      ],
      "metadata": {
        "id": "8dmNezowk4nB"
      }
    },
    {
      "cell_type": "markdown",
      "source": [
        "### Order Protocol Distribution"
      ],
      "metadata": {
        "id": "tLfX-XBgk4FM"
      }
    },
    {
      "cell_type": "code",
      "execution_count": null,
      "metadata": {
        "colab": {
          "base_uri": "https://localhost:8080/",
          "height": 251
        },
        "id": "DU0KlwvmjE2-",
        "outputId": "e0c0d59d-ed33-4866-c85d-865d43822749"
      },
      "outputs": [
        {
          "output_type": "execute_result",
          "data": {
            "text/plain": [
              "<Axes: xlabel='order_protocol', ylabel='total_items'>"
            ]
          },
          "metadata": {},
          "execution_count": 122
        },
        {
          "output_type": "display_data",
          "data": {
            "text/plain": [
              "<Figure size 1000x200 with 1 Axes>"
            ],
            "image/png": "[encoded data removed]"
          },
          "metadata": {}
        }
      ],
      "source": [
        "plt.figure(figsize=(10,2))\n",
        "sns.barplot(y='total_items',x='order_protocol',data=data,estimator='sum')"
      ]
    },
    {
      "cell_type": "markdown",
      "source": [
        "Inference\n",
        "\n",
        "* Order protocol 1 nd 3 seems to be the go to method to book a porter service\n",
        "* 6 is the least sought after approach to book porter"
      ],
      "metadata": {
        "id": "LCMLmva_lpTS"
      }
    },
    {
      "cell_type": "code",
      "execution_count": null,
      "metadata": {
        "colab": {
          "base_uri": "https://localhost:8080/",
          "height": 1000
        },
        "id": "mGL91NCNjE2-",
        "outputId": "c85370e5-d728-499e-d6ac-92f585b3a8ba"
      },
      "outputs": [
        {
          "output_type": "display_data",
          "data": {
            "text/plain": [
              "<Figure size 1000x1000 with 20 Axes>"
            ],
            "image/png": "[encoded data removed]"
          },
          "metadata": {}
        }
      ],
      "source": [
        "sns.pairplot(data[['total_items','subtotal','num_distinct_items','target']])\n",
        "plt.show()"
      ]
    },
    {
      "cell_type": "markdown",
      "source": [
        "Inference :\n",
        "\n",
        " * Features  subtotal, target, and total_items show right-skewed distributions with outliers.\n",
        " * Subtotal vs. total_items and subtotal vs. num_distinct_items show non-linear patterns.\n",
        " * Column num_distinct_items has discrete values forming vertical clusters in scatter plots.\n",
        " * Subtotal has a strong positive association with total_items, while target is mostly concentrated near zero.\n",
        " * A few extreme outliers exist, especially in subtotal and target."
      ],
      "metadata": {
        "id": "7ZXSkgQOlh7Z"
      }
    },
    {
      "cell_type": "markdown",
      "source": [
        "### Correlation between Features"
      ],
      "metadata": {
        "id": "8HvV3mr-IKCY"
      }
    },
    {
      "cell_type": "code",
      "execution_count": null,
      "metadata": {
        "colab": {
          "base_uri": "https://localhost:8080/",
          "height": 612
        },
        "id": "vyNy5ELTjE2-",
        "outputId": "57f3da61-97dc-4a7c-d5ef-dee207d5929f"
      },
      "outputs": [
        {
          "output_type": "execute_result",
          "data": {
            "text/plain": [
              "<Axes: >"
            ]
          },
          "metadata": {},
          "execution_count": 124
        },
        {
          "output_type": "display_data",
          "data": {
            "text/plain": [
              "<Figure size 640x480 with 2 Axes>"
            ],
            "image/png": "[encoded data removed]"
          },
          "metadata": {}
        }
      ],
      "source": [
        "sns.heatmap(data.corr())"
      ]
    },
    {
      "cell_type": "markdown",
      "source": [
        "Inference\n",
        "\n",
        "* Strong Correlation Between total_items and subtotal indicating that a higher number of items leads to a higher order subtotal.\n",
        "* There is inimal Correlation of order_protocol with Key Metrics .\n",
        "* There is a positive relationship between total_onshift_partners, total_busy_partners, and total_outstanding_orders suggesting that as more partners are on shift, more orders are being processed.\n",
        "* High Correlation Between max_item_price and subtotal showing that higher-priced items contribute significantly to the order subtotal.\n",
        "* Weak Correlation of dayofweek_of_order with Other Variables suggesting that order patterns remain fairly consistent across different days of the week.\n",
        "* Some Negative Correlations Indicating Possible Trade-offs – A few black/dark patches suggest inverse relationships, likely in operational constraints or customer behavior patterns."
      ],
      "metadata": {
        "id": "nOHCtOEBpCN2"
      }
    },
    {
      "cell_type": "markdown",
      "source": [
        "### Outliers in Target"
      ],
      "metadata": {
        "id": "fp38wZ-1ITkc"
      }
    },
    {
      "cell_type": "code",
      "execution_count": null,
      "metadata": {
        "colab": {
          "base_uri": "https://localhost:8080/",
          "height": 428
        },
        "id": "hCeT6IYejE2_",
        "outputId": "3e7e2cc3-cd46-4541-c8a5-c0394de37eb3"
      },
      "outputs": [
        {
          "output_type": "execute_result",
          "data": {
            "text/plain": [
              "<Axes: ylabel='target'>"
            ]
          },
          "metadata": {},
          "execution_count": 125
        },
        {
          "output_type": "display_data",
          "data": {
            "text/plain": [
              "<Figure size 640x480 with 1 Axes>"
            ],
            "image/png": "[encoded data removed]"
          },
          "metadata": {}
        }
      ],
      "source": [
        "sns.boxplot(data['target'])\n"
      ]
    },
    {
      "cell_type": "code",
      "execution_count": null,
      "metadata": {
        "colab": {
          "base_uri": "https://localhost:8080/"
        },
        "id": "rl90Y0RfjE3A",
        "outputId": "b5c0fffb-a254-4052-8091-ee5ce62ed7d0"
      },
      "outputs": [
        {
          "output_type": "stream",
          "name": "stdout",
          "text": [
            "<class 'pandas.core.frame.DataFrame'>\n",
            "Index: 176248 entries, 0 to 197427\n",
            "Data columns (total 15 columns):\n",
            " #   Column                    Non-Null Count   Dtype  \n",
            "---  ------                    --------------   -----  \n",
            " 0   market_id                 176248 non-null  float64\n",
            " 1   store_primary_category    176248 non-null  int8   \n",
            " 2   order_protocol            176248 non-null  float64\n",
            " 3   total_items               176248 non-null  int64  \n",
            " 4   subtotal                  176248 non-null  int64  \n",
            " 5   num_distinct_items        176248 non-null  int64  \n",
            " 6   min_item_price            176248 non-null  int64  \n",
            " 7   max_item_price            176248 non-null  int64  \n",
            " 8   total_onshift_partners    176248 non-null  float64\n",
            " 9   total_busy_partners       176248 non-null  float64\n",
            " 10  total_outstanding_orders  176248 non-null  float64\n",
            " 11  price                     176248 non-null  int64  \n",
            " 12  target                    176248 non-null  float64\n",
            " 13  hour_of_order             176248 non-null  int32  \n",
            " 14  dayofweek_of_order        176248 non-null  int32  \n",
            "dtypes: float64(6), int32(2), int64(6), int8(1)\n",
            "memory usage: 19.0 MB\n"
          ]
        }
      ],
      "source": [
        "data.info()"
      ]
    },
    {
      "cell_type": "markdown",
      "metadata": {
        "id": "pOw_oq2yjE3A"
      },
      "source": [
        "### Data Preprocessing"
      ]
    },
    {
      "cell_type": "code",
      "source": [
        "#Outlier removal through IQR for all the columns\n",
        "Q1 = data.quantile(0.25)\n",
        "Q3 = data.quantile(0.75)\n",
        "IQR = Q3 - Q1\n",
        "data = data[~((data < (Q1 - 1.5 * IQR)) |(data > (Q3 + 1.5 * IQR))).any(axis=1)]\n"
      ],
      "metadata": {
        "id": "z52N7cWHmAPS"
      },
      "execution_count": null,
      "outputs": []
    },
    {
      "cell_type": "code",
      "source": [
        "sns.boxplot(data['target'])"
      ],
      "metadata": {
        "colab": {
          "base_uri": "https://localhost:8080/",
          "height": 430
        },
        "id": "iBbbowSymR3h",
        "outputId": "876f0e9f-22ba-4698-dd8a-40bd827e8cc6"
      },
      "execution_count": null,
      "outputs": [
        {
          "output_type": "execute_result",
          "data": {
            "text/plain": [
              "<Axes: ylabel='target'>"
            ]
          },
          "metadata": {},
          "execution_count": 128
        },
        {
          "output_type": "display_data",
          "data": {
            "text/plain": [
              "<Figure size 640x480 with 1 Axes>"
            ],
            "image/png": "[encoded data removed]"
          },
          "metadata": {}
        }
      ]
    },
    {
      "cell_type": "code",
      "source": [
        "data['subtotal'].value_counts()"
      ],
      "metadata": {
        "colab": {
          "base_uri": "https://localhost:8080/",
          "height": 489
        },
        "id": "kP67DEUPZkpO",
        "outputId": "a2c28ace-ec6b-408b-ff15-d1eb4f80d1ec"
      },
      "execution_count": null,
      "outputs": [
        {
          "output_type": "execute_result",
          "data": {
            "text/plain": [
              "subtotal\n",
              "1500    778\n",
              "1095    730\n",
              "1700    726\n",
              "1800    720\n",
              "1300    692\n",
              "       ... \n",
              "643       1\n",
              "6043      1\n",
              "3976      1\n",
              "5693      1\n",
              "4823      1\n",
              "Name: count, Length: 5062, dtype: int64"
            ],
            "text/html": [
              "<div>\n",
              "<style scoped>\n",
              "    .dataframe tbody tr th:only-of-type {\n",
              "        vertical-align: middle;\n",
              "    }\n",
              "\n",
              "    .dataframe tbody tr th {\n",
              "        vertical-align: top;\n",
              "    }\n",
              "\n",
              "    .dataframe thead th {\n",
              "        text-align: right;\n",
              "    }\n",
              "</style>\n",
              "<table border=\"1\" class=\"dataframe\">\n",
              "  <thead>\n",
              "    <tr style=\"text-align: right;\">\n",
              "      <th></th>\n",
              "      <th>count</th>\n",
              "    </tr>\n",
              "    <tr>\n",
              "      <th>subtotal</th>\n",
              "      <th></th>\n",
              "    </tr>\n",
              "  </thead>\n",
              "  <tbody>\n",
              "    <tr>\n",
              "      <th>1500</th>\n",
              "      <td>778</td>\n",
              "    </tr>\n",
              "    <tr>\n",
              "      <th>1095</th>\n",
              "      <td>730</td>\n",
              "    </tr>\n",
              "    <tr>\n",
              "      <th>1700</th>\n",
              "      <td>726</td>\n",
              "    </tr>\n",
              "    <tr>\n",
              "      <th>1800</th>\n",
              "      <td>720</td>\n",
              "    </tr>\n",
              "    <tr>\n",
              "      <th>1300</th>\n",
              "      <td>692</td>\n",
              "    </tr>\n",
              "    <tr>\n",
              "      <th>...</th>\n",
              "      <td>...</td>\n",
              "    </tr>\n",
              "    <tr>\n",
              "      <th>643</th>\n",
              "      <td>1</td>\n",
              "    </tr>\n",
              "    <tr>\n",
              "      <th>6043</th>\n",
              "      <td>1</td>\n",
              "    </tr>\n",
              "    <tr>\n",
              "      <th>3976</th>\n",
              "      <td>1</td>\n",
              "    </tr>\n",
              "    <tr>\n",
              "      <th>5693</th>\n",
              "      <td>1</td>\n",
              "    </tr>\n",
              "    <tr>\n",
              "      <th>4823</th>\n",
              "      <td>1</td>\n",
              "    </tr>\n",
              "  </tbody>\n",
              "</table>\n",
              "<p>5062 rows × 1 columns</p>\n",
              "</div><br><label><b>dtype:</b> int64</label>"
            ]
          },
          "metadata": {},
          "execution_count": 129
        }
      ]
    },
    {
      "cell_type": "code",
      "source": [
        "#one-hot encoding order_protocol\n",
        "data = pd.get_dummies(data, columns=['order_protocol'])"
      ],
      "metadata": {
        "id": "XGDjFno6ZSlM"
      },
      "execution_count": null,
      "outputs": []
    },
    {
      "cell_type": "code",
      "execution_count": null,
      "metadata": {
        "id": "YOhp6rTojE3G"
      },
      "outputs": [],
      "source": [
        "from sklearn import preprocessing\n",
        "from sklearn.model_selection import train_test_split\n",
        "\n",
        "X = data.drop(['target'],axis=1)\n",
        "y = data['target']\n",
        "\n",
        "scaler = preprocessing.StandardScaler()"
      ]
    },
    {
      "cell_type": "code",
      "execution_count": null,
      "metadata": {
        "id": "C1RYsKZvjE3H"
      },
      "outputs": [],
      "source": [
        "\n",
        "X_train_val, X_test, y_train_val, y_test = train_test_split(X, y, test_size=0.1, random_state=42)\n",
        "X_train, X_val, y_train, y_val = train_test_split(X_train_val, y_train_val, test_size=0.2, random_state=42)"
      ]
    },
    {
      "cell_type": "code",
      "execution_count": null,
      "metadata": {
        "id": "WzMtrbCt5TFp"
      },
      "outputs": [],
      "source": [
        "#Standardizing the data\n",
        "from sklearn.preprocessing import StandardScaler\n",
        "\n",
        "scaler = StandardScaler()\n",
        "X_train = scaler.fit_transform(X_train)\n",
        "\n",
        "X_val = scaler.transform(X_val)\n",
        "X_test = scaler.transform(X_test)\n"
      ]
    },
    {
      "cell_type": "code",
      "execution_count": null,
      "metadata": {
        "id": "AGJL6BbYjE3H"
      },
      "outputs": [],
      "source": [
        "# from sklearn.ensemble import IsolationForest\n",
        "\n",
        "# iso_forest = IsolationForest(contamination=0.02, random_state=42)  # Try reducing contamination\n",
        "# outliers = iso_forest.fit_predict(X_train)\n",
        "# X_train_filtered = X_train[outliers == 1]\n",
        "# y_train_filtered = y_train[outliers == 1]\n"
      ]
    },
    {
      "cell_type": "code",
      "execution_count": null,
      "metadata": {
        "id": "MtHlTKX7YNH_"
      },
      "outputs": [],
      "source": [
        "from tensorflow.keras.models import Sequential\n",
        "from tensorflow.keras.layers import Dense,Dropout,LeakyReLU\n",
        "from tensorflow.keras.optimizers import Adam\n",
        "from tensorflow.keras.callbacks import EarlyStopping"
      ]
    },
    {
      "cell_type": "markdown",
      "source": [
        "### Creating Baseline Model"
      ],
      "metadata": {
        "id": "uxaJEeg9oeKf"
      }
    },
    {
      "cell_type": "code",
      "execution_count": null,
      "metadata": {
        "id": "Asg8Aszf839Q"
      },
      "outputs": [],
      "source": [
        "#Bulid a baseline model\n",
        "\n",
        "\n",
        "# Define the model\n",
        "def create_baseline():\n",
        "    model = Sequential([\n",
        "        Dense(32, input_dim=X_train.shape[1], activation=\"relu\", kernel_initializer='random_normal'),\n",
        "        Dense(64, activation=\"relu\", kernel_initializer='random_normal'),\n",
        "        Dense(32, activation=\"relu\", kernel_initializer='random_normal'),\n",
        "        Dense(1, activation='linear')\n",
        "    ])\n",
        "    return model\n",
        "\n",
        "# Create model\n",
        "baseline_model = create_baseline()\n",
        "\n",
        "# Compile model with Mean Squared Error (MSE)\n",
        "baseline_model.compile(loss=\"mse\", optimizer=Adam(), metrics=[\"mae\",\"r2_score\"])  # MAE is for evaluation\n",
        "\n",
        "# Early stopping\n",
        "early_stop = EarlyStopping(monitor='val_loss', patience=10, restore_best_weights=True)\n",
        "\n",
        "# Train the model\n",
        "history = baseline_model.fit(\n",
        "    X_train, y_train,\n",
        "    epochs=10, batch_size=32,\n",
        "    validation_data=(X_val, y_val),\n",
        "    callbacks=[early_stop], verbose=0\n",
        ")\n"
      ]
    },
    {
      "cell_type": "code",
      "execution_count": null,
      "metadata": {
        "colab": {
          "base_uri": "https://localhost:8080/",
          "height": 452
        },
        "id": "Ljj-vpIb6ych",
        "outputId": "ca6d98f8-d97f-4e40-ed95-835273c0c5cb"
      },
      "outputs": [
        {
          "output_type": "display_data",
          "data": {
            "text/plain": [
              "<Figure size 640x480 with 1 Axes>"
            ],
            "image/png": "[encoded data removed]"
          },
          "metadata": {}
        }
      ],
      "source": [
        "epochs = history.epoch\n",
        "loss = history.history[\"loss\"]\n",
        "val_loss = history.history[\"val_loss\"]\n",
        "\n",
        "\n",
        "plt.plot(epochs, loss, label=\"train\")\n",
        "plt.plot(epochs, val_loss, label=\"validation\")\n",
        "\n",
        "plt.legend()\n",
        "plt.title(\"Loss VS Epochs\")\n",
        "\n",
        "plt.show()\n"
      ]
    },
    {
      "cell_type": "code",
      "execution_count": null,
      "metadata": {
        "colab": {
          "base_uri": "https://localhost:8080/",
          "height": 273
        },
        "id": "T3xiWzC-Ps3l",
        "outputId": "45f49ba6-8336-419b-ec6d-0ffb5bfccd77"
      },
      "outputs": [
        {
          "output_type": "display_data",
          "data": {
            "text/plain": [
              "\u001b[1mModel: \"sequential_1\"\u001b[0m\n"
            ],
            "text/html": [
              "<pre style=\"white-space:pre;overflow-x:auto;line-height:normal;font-family:Menlo,'DejaVu Sans Mono',consolas,'Courier New',monospace\"><span style=\"font-weight: bold\">Model: \"sequential_1\"</span>\n",
              "</pre>\n"
            ]
          },
          "metadata": {}
        },
        {
          "output_type": "display_data",
          "data": {
            "text/plain": [
              "┏━━━━━━━━━━━━━━━━━━━━━━━━━━━━━━━━━━━━━━┳━━━━━━━━━━━━━━━━━━━━━━━━━━━━━┳━━━━━━━━━━━━━━━━━┓\n",
              "┃\u001b[1m \u001b[0m\u001b[1mLayer (type)                        \u001b[0m\u001b[1m \u001b[0m┃\u001b[1m \u001b[0m\u001b[1mOutput Shape               \u001b[0m\u001b[1m \u001b[0m┃\u001b[1m \u001b[0m\u001b[1m        Param #\u001b[0m\u001b[1m \u001b[0m┃\n",
              "┡━━━━━━━━━━━━━━━━━━━━━━━━━━━━━━━━━━━━━━╇━━━━━━━━━━━━━━━━━━━━━━━━━━━━━╇━━━━━━━━━━━━━━━━━┩\n",
              "│ dense_4 (\u001b[38;5;33mDense\u001b[0m)                      │ (\u001b[38;5;45mNone\u001b[0m, \u001b[38;5;34m32\u001b[0m)                  │             \u001b[38;5;34m672\u001b[0m │\n",
              "├──────────────────────────────────────┼─────────────────────────────┼─────────────────┤\n",
              "│ dense_5 (\u001b[38;5;33mDense\u001b[0m)                      │ (\u001b[38;5;45mNone\u001b[0m, \u001b[38;5;34m64\u001b[0m)                  │           \u001b[38;5;34m2,112\u001b[0m │\n",
              "├──────────────────────────────────────┼─────────────────────────────┼─────────────────┤\n",
              "│ dense_6 (\u001b[38;5;33mDense\u001b[0m)                      │ (\u001b[38;5;45mNone\u001b[0m, \u001b[38;5;34m32\u001b[0m)                  │           \u001b[38;5;34m2,080\u001b[0m │\n",
              "├──────────────────────────────────────┼─────────────────────────────┼─────────────────┤\n",
              "│ dense_7 (\u001b[38;5;33mDense\u001b[0m)                      │ (\u001b[38;5;45mNone\u001b[0m, \u001b[38;5;34m1\u001b[0m)                   │              \u001b[38;5;34m33\u001b[0m │\n",
              "└──────────────────────────────────────┴─────────────────────────────┴─────────────────┘\n"
            ],
            "text/html": [
              "<pre style=\"white-space:pre;overflow-x:auto;line-height:normal;font-family:Menlo,'DejaVu Sans Mono',consolas,'Courier New',monospace\">┏━━━━━━━━━━━━━━━━━━━━━━━━━━━━━━━━━━━━━━┳━━━━━━━━━━━━━━━━━━━━━━━━━━━━━┳━━━━━━━━━━━━━━━━━┓\n",
              "┃<span style=\"font-weight: bold\"> Layer (type)                         </span>┃<span style=\"font-weight: bold\"> Output Shape                </span>┃<span style=\"font-weight: bold\">         Param # </span>┃\n",
              "┡━━━━━━━━━━━━━━━━━━━━━━━━━━━━━━━━━━━━━━╇━━━━━━━━━━━━━━━━━━━━━━━━━━━━━╇━━━━━━━━━━━━━━━━━┩\n",
              "│ dense_4 (<span style=\"color: #0087ff; text-decoration-color: #0087ff\">Dense</span>)                      │ (<span style=\"color: #00d7ff; text-decoration-color: #00d7ff\">None</span>, <span style=\"color: #00af00; text-decoration-color: #00af00\">32</span>)                  │             <span style=\"color: #00af00; text-decoration-color: #00af00\">672</span> │\n",
              "├──────────────────────────────────────┼─────────────────────────────┼─────────────────┤\n",
              "│ dense_5 (<span style=\"color: #0087ff; text-decoration-color: #0087ff\">Dense</span>)                      │ (<span style=\"color: #00d7ff; text-decoration-color: #00d7ff\">None</span>, <span style=\"color: #00af00; text-decoration-color: #00af00\">64</span>)                  │           <span style=\"color: #00af00; text-decoration-color: #00af00\">2,112</span> │\n",
              "├──────────────────────────────────────┼─────────────────────────────┼─────────────────┤\n",
              "│ dense_6 (<span style=\"color: #0087ff; text-decoration-color: #0087ff\">Dense</span>)                      │ (<span style=\"color: #00d7ff; text-decoration-color: #00d7ff\">None</span>, <span style=\"color: #00af00; text-decoration-color: #00af00\">32</span>)                  │           <span style=\"color: #00af00; text-decoration-color: #00af00\">2,080</span> │\n",
              "├──────────────────────────────────────┼─────────────────────────────┼─────────────────┤\n",
              "│ dense_7 (<span style=\"color: #0087ff; text-decoration-color: #0087ff\">Dense</span>)                      │ (<span style=\"color: #00d7ff; text-decoration-color: #00d7ff\">None</span>, <span style=\"color: #00af00; text-decoration-color: #00af00\">1</span>)                   │              <span style=\"color: #00af00; text-decoration-color: #00af00\">33</span> │\n",
              "└──────────────────────────────────────┴─────────────────────────────┴─────────────────┘\n",
              "</pre>\n"
            ]
          },
          "metadata": {}
        },
        {
          "output_type": "display_data",
          "data": {
            "text/plain": [
              "\u001b[1m Total params: \u001b[0m\u001b[38;5;34m14,693\u001b[0m (57.40 KB)\n"
            ],
            "text/html": [
              "<pre style=\"white-space:pre;overflow-x:auto;line-height:normal;font-family:Menlo,'DejaVu Sans Mono',consolas,'Courier New',monospace\"><span style=\"font-weight: bold\"> Total params: </span><span style=\"color: #00af00; text-decoration-color: #00af00\">14,693</span> (57.40 KB)\n",
              "</pre>\n"
            ]
          },
          "metadata": {}
        },
        {
          "output_type": "display_data",
          "data": {
            "text/plain": [
              "\u001b[1m Trainable params: \u001b[0m\u001b[38;5;34m4,897\u001b[0m (19.13 KB)\n"
            ],
            "text/html": [
              "<pre style=\"white-space:pre;overflow-x:auto;line-height:normal;font-family:Menlo,'DejaVu Sans Mono',consolas,'Courier New',monospace\"><span style=\"font-weight: bold\"> Trainable params: </span><span style=\"color: #00af00; text-decoration-color: #00af00\">4,897</span> (19.13 KB)\n",
              "</pre>\n"
            ]
          },
          "metadata": {}
        },
        {
          "output_type": "display_data",
          "data": {
            "text/plain": [
              "\u001b[1m Non-trainable params: \u001b[0m\u001b[38;5;34m0\u001b[0m (0.00 B)\n"
            ],
            "text/html": [
              "<pre style=\"white-space:pre;overflow-x:auto;line-height:normal;font-family:Menlo,'DejaVu Sans Mono',consolas,'Courier New',monospace\"><span style=\"font-weight: bold\"> Non-trainable params: </span><span style=\"color: #00af00; text-decoration-color: #00af00\">0</span> (0.00 B)\n",
              "</pre>\n"
            ]
          },
          "metadata": {}
        },
        {
          "output_type": "display_data",
          "data": {
            "text/plain": [
              "\u001b[1m Optimizer params: \u001b[0m\u001b[38;5;34m9,796\u001b[0m (38.27 KB)\n"
            ],
            "text/html": [
              "<pre style=\"white-space:pre;overflow-x:auto;line-height:normal;font-family:Menlo,'DejaVu Sans Mono',consolas,'Courier New',monospace\"><span style=\"font-weight: bold\"> Optimizer params: </span><span style=\"color: #00af00; text-decoration-color: #00af00\">9,796</span> (38.27 KB)\n",
              "</pre>\n"
            ]
          },
          "metadata": {}
        }
      ],
      "source": [
        "baseline_model.summary()"
      ]
    },
    {
      "cell_type": "code",
      "source": [
        "from sklearn.metrics import mean_squared_error,mean_absolute_error,r2_score\n",
        "\n",
        "y_pred_base_model = baseline_model.predict(X_test)\n",
        "mse_base_model = mean_squared_error(y_test,y_pred_base_model)\n",
        "mae_base_model = mean_absolute_error(y_test,y_pred_base_model)\n",
        "rmse_base_model = np.sqrt(mse_base_model)\n",
        "r2_base_model = r2_score(y_test,y_pred_base_model)\n",
        "print('R2 Score :',r2_base_model)\n",
        "print('Mean Squared Error :',mse_base_model)\n",
        "print('Mean Absolute Error :',mae_base_model)\n",
        "print('Root Mean Squared Error :',rmse_base_model)"
      ],
      "metadata": {
        "colab": {
          "base_uri": "https://localhost:8080/"
        },
        "id": "ZX8NzQXNhGfy",
        "outputId": "a32caa35-b5bf-4a13-f281-f3d94f75c07c"
      },
      "execution_count": null,
      "outputs": [
        {
          "output_type": "stream",
          "name": "stdout",
          "text": [
            "\u001b[1m446/446\u001b[0m \u001b[32m━━━━━━━━━━━━━━━━━━━━\u001b[0m\u001b[37m\u001b[0m \u001b[1m1s\u001b[0m 1ms/step\n",
            "R2 Score : 0.22141743335849484\n",
            "Mean Squared Error : 165.37484865307434\n",
            "Mean Absolute Error : 10.149968684668819\n",
            "Root Mean Squared Error : 12.85981526512237\n"
          ]
        }
      ]
    },
    {
      "cell_type": "markdown",
      "source": [
        "### Using keras tuner and building a tuned model"
      ],
      "metadata": {
        "id": "QwJPqB9Bomnm"
      }
    },
    {
      "cell_type": "code",
      "execution_count": null,
      "metadata": {
        "colab": {
          "base_uri": "https://localhost:8080/"
        },
        "id": "eCOdeM70YXPE",
        "outputId": "4a333fab-df5e-481e-c931-a36dc79b7542"
      },
      "outputs": [
        {
          "output_type": "stream",
          "name": "stdout",
          "text": [
            "Collecting keras-tuner\n",
            "  Downloading keras_tuner-1.4.7-py3-none-any.whl.metadata (5.4 kB)\n",
            "Requirement already satisfied: keras in /usr/local/lib/python3.11/dist-packages (from keras-tuner) (3.8.0)\n",
            "Requirement already satisfied: packaging in /usr/local/lib/python3.11/dist-packages (from keras-tuner) (24.2)\n",
            "Requirement already satisfied: requests in /usr/local/lib/python3.11/dist-packages (from keras-tuner) (2.32.3)\n",
            "Collecting kt-legacy (from keras-tuner)\n",
            "  Downloading kt_legacy-1.0.5-py3-none-any.whl.metadata (221 bytes)\n",
            "Requirement already satisfied: absl-py in /usr/local/lib/python3.11/dist-packages (from keras->keras-tuner) (1.4.0)\n",
            "Requirement already satisfied: numpy in /usr/local/lib/python3.11/dist-packages (from keras->keras-tuner) (1.26.4)\n",
            "Requirement already satisfied: rich in /usr/local/lib/python3.11/dist-packages (from keras->keras-tuner) (13.9.4)\n",
            "Requirement already satisfied: namex in /usr/local/lib/python3.11/dist-packages (from keras->keras-tuner) (0.0.8)\n",
            "Requirement already satisfied: h5py in /usr/local/lib/python3.11/dist-packages (from keras->keras-tuner) (3.12.1)\n",
            "Requirement already satisfied: optree in /usr/local/lib/python3.11/dist-packages (from keras->keras-tuner) (0.14.1)\n",
            "Requirement already satisfied: ml-dtypes in /usr/local/lib/python3.11/dist-packages (from keras->keras-tuner) (0.4.1)\n",
            "Requirement already satisfied: charset-normalizer<4,>=2 in /usr/local/lib/python3.11/dist-packages (from requests->keras-tuner) (3.4.1)\n",
            "Requirement already satisfied: idna<4,>=2.5 in /usr/local/lib/python3.11/dist-packages (from requests->keras-tuner) (3.10)\n",
            "Requirement already satisfied: urllib3<3,>=1.21.1 in /usr/local/lib/python3.11/dist-packages (from requests->keras-tuner) (2.3.0)\n",
            "Requirement already satisfied: certifi>=2017.4.17 in /usr/local/lib/python3.11/dist-packages (from requests->keras-tuner) (2025.1.31)\n",
            "Requirement already satisfied: typing-extensions>=4.5.0 in /usr/local/lib/python3.11/dist-packages (from optree->keras->keras-tuner) (4.12.2)\n",
            "Requirement already satisfied: markdown-it-py>=2.2.0 in /usr/local/lib/python3.11/dist-packages (from rich->keras->keras-tuner) (3.0.0)\n",
            "Requirement already satisfied: pygments<3.0.0,>=2.13.0 in /usr/local/lib/python3.11/dist-packages (from rich->keras->keras-tuner) (2.18.0)\n",
            "Requirement already satisfied: mdurl~=0.1 in /usr/local/lib/python3.11/dist-packages (from markdown-it-py>=2.2.0->rich->keras->keras-tuner) (0.1.2)\n",
            "Downloading keras_tuner-1.4.7-py3-none-any.whl (129 kB)\n",
            "\u001b[2K   \u001b[90m━━━━━━━━━━━━━━━━━━━━━━━━━━━━━━━━━━━━━━━━\u001b[0m \u001b[32m129.1/129.1 kB\u001b[0m \u001b[31m2.4 MB/s\u001b[0m eta \u001b[36m0:00:00\u001b[0m\n",
            "\u001b[?25hDownloading kt_legacy-1.0.5-py3-none-any.whl (9.6 kB)\n",
            "Installing collected packages: kt-legacy, keras-tuner\n",
            "Successfully installed keras-tuner-1.4.7 kt-legacy-1.0.5\n"
          ]
        }
      ],
      "source": [
        "!pip install keras-tuner"
      ]
    },
    {
      "cell_type": "code",
      "execution_count": null,
      "metadata": {
        "colab": {
          "base_uri": "https://localhost:8080/"
        },
        "id": "PM__c8FRX-6f",
        "outputId": "d4ab9336-07af-4b29-8648-c1f90c635d81"
      },
      "outputs": [
        {
          "output_type": "stream",
          "name": "stdout",
          "text": [
            "Reloading Tuner from kt_search/linear_regression_tuning/tuner0.json\n",
            "Epoch 1/50\n",
            "\u001b[1m3209/3209\u001b[0m \u001b[32m━━━━━━━━━━━━━━━━━━━━\u001b[0m\u001b[37m\u001b[0m \u001b[1m22s\u001b[0m 6ms/step - loss: 320.9077 - mae: 13.2793 - r2_score: -0.5182 - val_loss: 172.2448 - val_mae: 10.4412 - val_r2_score: 0.1853\n",
            "Epoch 2/50\n",
            "\u001b[1m3209/3209\u001b[0m \u001b[32m━━━━━━━━━━━━━━━━━━━━\u001b[0m\u001b[37m\u001b[0m \u001b[1m14s\u001b[0m 4ms/step - loss: 180.9019 - mae: 10.6077 - r2_score: 0.1269 - val_loss: 173.9370 - val_mae: 10.2699 - val_r2_score: 0.1773\n",
            "Epoch 3/50\n",
            "\u001b[1m3209/3209\u001b[0m \u001b[32m━━━━━━━━━━━━━━━━━━━━\u001b[0m\u001b[37m\u001b[0m \u001b[1m21s\u001b[0m 4ms/step - loss: 176.1965 - mae: 10.4845 - r2_score: 0.1574 - val_loss: 169.6814 - val_mae: 10.2687 - val_r2_score: 0.1975\n",
            "Epoch 4/50\n",
            "\u001b[1m3209/3209\u001b[0m \u001b[32m━━━━━━━━━━━━━━━━━━━━\u001b[0m\u001b[37m\u001b[0m \u001b[1m15s\u001b[0m 5ms/step - loss: 174.7271 - mae: 10.4528 - r2_score: 0.1652 - val_loss: 169.1068 - val_mae: 10.2526 - val_r2_score: 0.2002\n",
            "Epoch 5/50\n",
            "\u001b[1m3209/3209\u001b[0m \u001b[32m━━━━━━━━━━━━━━━━━━━━\u001b[0m\u001b[37m\u001b[0m \u001b[1m20s\u001b[0m 4ms/step - loss: 170.6138 - mae: 10.3067 - r2_score: 0.1805 - val_loss: 169.1474 - val_mae: 10.2409 - val_r2_score: 0.2000\n",
            "Epoch 6/50\n",
            "\u001b[1m3209/3209\u001b[0m \u001b[32m━━━━━━━━━━━━━━━━━━━━\u001b[0m\u001b[37m\u001b[0m \u001b[1m14s\u001b[0m 4ms/step - loss: 171.1127 - mae: 10.3340 - r2_score: 0.1837 - val_loss: 169.2711 - val_mae: 10.2082 - val_r2_score: 0.1994\n",
            "Epoch 7/50\n",
            "\u001b[1m3209/3209\u001b[0m \u001b[32m━━━━━━━━━━━━━━━━━━━━\u001b[0m\u001b[37m\u001b[0m \u001b[1m13s\u001b[0m 4ms/step - loss: 170.2219 - mae: 10.2817 - r2_score: 0.1873 - val_loss: 167.7133 - val_mae: 10.1948 - val_r2_score: 0.2068\n",
            "Epoch 8/50\n",
            "\u001b[1m3209/3209\u001b[0m \u001b[32m━━━━━━━━━━━━━━━━━━━━\u001b[0m\u001b[37m\u001b[0m \u001b[1m14s\u001b[0m 4ms/step - loss: 169.3529 - mae: 10.2605 - r2_score: 0.1875 - val_loss: 170.5365 - val_mae: 10.4780 - val_r2_score: 0.1934\n",
            "Epoch 9/50\n",
            "\u001b[1m3209/3209\u001b[0m \u001b[32m━━━━━━━━━━━━━━━━━━━━\u001b[0m\u001b[37m\u001b[0m \u001b[1m21s\u001b[0m 4ms/step - loss: 169.5869 - mae: 10.2852 - r2_score: 0.1950 - val_loss: 167.7835 - val_mae: 10.1706 - val_r2_score: 0.2064\n",
            "Epoch 10/50\n",
            "\u001b[1m3209/3209\u001b[0m \u001b[32m━━━━━━━━━━━━━━━━━━━━\u001b[0m\u001b[37m\u001b[0m \u001b[1m14s\u001b[0m 4ms/step - loss: 168.7339 - mae: 10.2602 - r2_score: 0.1975 - val_loss: 167.5677 - val_mae: 10.1478 - val_r2_score: 0.2075\n",
            "Epoch 11/50\n",
            "\u001b[1m3209/3209\u001b[0m \u001b[32m━━━━━━━━━━━━━━━━━━━━\u001b[0m\u001b[37m\u001b[0m \u001b[1m20s\u001b[0m 4ms/step - loss: 168.3360 - mae: 10.2435 - r2_score: 0.2023 - val_loss: 166.4486 - val_mae: 10.1187 - val_r2_score: 0.2128\n",
            "Epoch 12/50\n",
            "\u001b[1m3209/3209\u001b[0m \u001b[32m━━━━━━━━━━━━━━━━━━━━\u001b[0m\u001b[37m\u001b[0m \u001b[1m14s\u001b[0m 4ms/step - loss: 166.8992 - mae: 10.1906 - r2_score: 0.2033 - val_loss: 165.5807 - val_mae: 10.2268 - val_r2_score: 0.2169\n",
            "Epoch 13/50\n",
            "\u001b[1m3209/3209\u001b[0m \u001b[32m━━━━━━━━━━━━━━━━━━━━\u001b[0m\u001b[37m\u001b[0m \u001b[1m21s\u001b[0m 4ms/step - loss: 165.0857 - mae: 10.1535 - r2_score: 0.2046 - val_loss: 165.6059 - val_mae: 10.1942 - val_r2_score: 0.2167\n",
            "Epoch 14/50\n",
            "\u001b[1m3209/3209\u001b[0m \u001b[32m━━━━━━━━━━━━━━━━━━━━\u001b[0m\u001b[37m\u001b[0m \u001b[1m14s\u001b[0m 4ms/step - loss: 165.4358 - mae: 10.1504 - r2_score: 0.2086 - val_loss: 165.5634 - val_mae: 10.1622 - val_r2_score: 0.2169\n",
            "Epoch 15/50\n",
            "\u001b[1m3209/3209\u001b[0m \u001b[32m━━━━━━━━━━━━━━━━━━━━\u001b[0m\u001b[37m\u001b[0m \u001b[1m13s\u001b[0m 4ms/step - loss: 166.2717 - mae: 10.1658 - r2_score: 0.2089 - val_loss: 167.3745 - val_mae: 10.1123 - val_r2_score: 0.2084\n",
            "Epoch 16/50\n",
            "\u001b[1m3209/3209\u001b[0m \u001b[32m━━━━━━━━━━━━━━━━━━━━\u001b[0m\u001b[37m\u001b[0m \u001b[1m14s\u001b[0m 4ms/step - loss: 164.5634 - mae: 10.1226 - r2_score: 0.2127 - val_loss: 166.1350 - val_mae: 10.2056 - val_r2_score: 0.2142\n",
            "Epoch 17/50\n",
            "\u001b[1m3209/3209\u001b[0m \u001b[32m━━━━━━━━━━━━━━━━━━━━\u001b[0m\u001b[37m\u001b[0m \u001b[1m20s\u001b[0m 4ms/step - loss: 164.3067 - mae: 10.1166 - r2_score: 0.2126 - val_loss: 170.2477 - val_mae: 10.4029 - val_r2_score: 0.1948\n",
            "Epoch 18/50\n",
            "\u001b[1m3209/3209\u001b[0m \u001b[32m━━━━━━━━━━━━━━━━━━━━\u001b[0m\u001b[37m\u001b[0m \u001b[1m14s\u001b[0m 4ms/step - loss: 165.6889 - mae: 10.1669 - r2_score: 0.2121 - val_loss: 163.9806 - val_mae: 10.0563 - val_r2_score: 0.2244\n",
            "Epoch 19/50\n",
            "\u001b[1m3209/3209\u001b[0m \u001b[32m━━━━━━━━━━━━━━━━━━━━\u001b[0m\u001b[37m\u001b[0m \u001b[1m14s\u001b[0m 4ms/step - loss: 163.2736 - mae: 10.0847 - r2_score: 0.2192 - val_loss: 163.5778 - val_mae: 10.0824 - val_r2_score: 0.2263\n",
            "Epoch 20/50\n",
            "\u001b[1m3209/3209\u001b[0m \u001b[32m━━━━━━━━━━━━━━━━━━━━\u001b[0m\u001b[37m\u001b[0m \u001b[1m14s\u001b[0m 4ms/step - loss: 163.8193 - mae: 10.0986 - r2_score: 0.2178 - val_loss: 162.9374 - val_mae: 10.0396 - val_r2_score: 0.2294\n",
            "Epoch 21/50\n",
            "\u001b[1m3209/3209\u001b[0m \u001b[32m━━━━━━━━━━━━━━━━━━━━\u001b[0m\u001b[37m\u001b[0m \u001b[1m20s\u001b[0m 4ms/step - loss: 163.5672 - mae: 10.0951 - r2_score: 0.2180 - val_loss: 162.2965 - val_mae: 10.0416 - val_r2_score: 0.2324\n",
            "Epoch 22/50\n",
            "\u001b[1m3209/3209\u001b[0m \u001b[32m━━━━━━━━━━━━━━━━━━━━\u001b[0m\u001b[37m\u001b[0m \u001b[1m21s\u001b[0m 4ms/step - loss: 163.2664 - mae: 10.0720 - r2_score: 0.2234 - val_loss: 163.4735 - val_mae: 10.1731 - val_r2_score: 0.2268\n",
            "Epoch 23/50\n",
            "\u001b[1m3209/3209\u001b[0m \u001b[32m━━━━━━━━━━━━━━━━━━━━\u001b[0m\u001b[37m\u001b[0m \u001b[1m20s\u001b[0m 4ms/step - loss: 162.3647 - mae: 10.0592 - r2_score: 0.2222 - val_loss: 163.7159 - val_mae: 10.1726 - val_r2_score: 0.2257\n",
            "Epoch 24/50\n",
            "\u001b[1m3209/3209\u001b[0m \u001b[32m━━━━━━━━━━━━━━━━━━━━\u001b[0m\u001b[37m\u001b[0m \u001b[1m20s\u001b[0m 4ms/step - loss: 162.6450 - mae: 10.0634 - r2_score: 0.2275 - val_loss: 162.9568 - val_mae: 10.1839 - val_r2_score: 0.2293\n",
            "Epoch 25/50\n",
            "\u001b[1m3209/3209\u001b[0m \u001b[32m━━━━━━━━━━━━━━━━━━━━\u001b[0m\u001b[37m\u001b[0m \u001b[1m21s\u001b[0m 4ms/step - loss: 161.5139 - mae: 10.0242 - r2_score: 0.2270 - val_loss: 163.0218 - val_mae: 10.0259 - val_r2_score: 0.2290\n",
            "Epoch 26/50\n",
            "\u001b[1m3209/3209\u001b[0m \u001b[32m━━━━━━━━━━━━━━━━━━━━\u001b[0m\u001b[37m\u001b[0m \u001b[1m14s\u001b[0m 4ms/step - loss: 163.4127 - mae: 10.0800 - r2_score: 0.2274 - val_loss: 162.9027 - val_mae: 10.1318 - val_r2_score: 0.2295\n",
            "\u001b[1m803/803\u001b[0m \u001b[32m━━━━━━━━━━━━━━━━━━━━\u001b[0m\u001b[37m\u001b[0m \u001b[1m2s\u001b[0m 2ms/step - loss: 162.3273 - mae: 10.0569 - r2_score: 0.2345\n",
            "Best Model Validation Loss: 162.2965, MAE: 10.0416 ,R2_Score :0.2324\n"
          ]
        }
      ],
      "source": [
        "import keras_tuner as kt\n",
        "\n",
        "def build_model(hp):\n",
        "    model = Sequential()\n",
        "\n",
        "    # Input Layer with LeakyReLU\n",
        "    model.add(Dense(hp.Int('units_1', min_value=32, max_value=256, step=32),\n",
        "                    input_dim=X_train.shape[1], kernel_initializer='random_normal'))  # No activation yet\n",
        "    model.add(LeakyReLU(alpha=0.1))  # Leaky ReLU activation\n",
        "    model.add(Dropout(hp.Float('dropout_1', 0.1, 0.3, step=0.1)))  # Dropout layer\n",
        "\n",
        "    # Add multiple hidden layers dynamically\n",
        "    for i in range(hp.Int('num_layers', 1, 3)):  # Choose 1 to 3 hidden layers\n",
        "        model.add(Dense(hp.Int(f'units_{i+2}', min_value=32, max_value=256, step=32), kernel_initializer='random_normal'))  # Dense layer\n",
        "        model.add(LeakyReLU(alpha=0.1))  # Leaky ReLU activation\n",
        "        model.add(Dropout(hp.Float(f'dropout_{i+2}', 0.1, 0.3, step=0.1)))  # Dropout layer\n",
        "\n",
        "    # Output layer for regression (Linear activation)\n",
        "    model.add(Dense(1, activation='linear'))\n",
        "\n",
        "    # Compile the model\n",
        "    model.compile(\n",
        "        optimizer=Adam(learning_rate=hp.Choice('learning_rate', [0.001, 0.0005, 0.0001])),\n",
        "        loss='mse',\n",
        "        metrics=['mae','r2_score']\n",
        "    )\n",
        "\n",
        "    return model\n",
        "\n",
        "# Initialize Hyperband tuner\n",
        "tuner = kt.Hyperband(\n",
        "    build_model,\n",
        "    objective='val_loss',\n",
        "    max_epochs=20,\n",
        "    factor=3,\n",
        "    directory='kt_search',\n",
        "    project_name='linear_regression_tuning'\n",
        ")\n",
        "\n",
        "# Early stopping callback\n",
        "early_stop = EarlyStopping(monitor='val_loss', patience=5, restore_best_weights=True)\n",
        "\n",
        "# Run the tuner\n",
        "tuner.search(X_train, y_train, epochs=50, validation_data=(X_val, y_val), callbacks=[early_stop])\n",
        "\n",
        "# Get the best hyperparameters\n",
        "best_hps = tuner.get_best_hyperparameters(num_trials=1)[0]\n",
        "best_model = tuner.hypermodel.build(best_hps)\n",
        "\n",
        "# Train the best model\n",
        "history = best_model.fit(X_train, y_train, epochs=50, validation_data=(X_val, y_val), callbacks=[early_stop])\n",
        "\n",
        "# Evaluate the best model\n",
        "val_loss, val_mae,val_r2_score = best_model.evaluate(X_val, y_val)\n",
        "print(f\"Best Model Validation Loss: {val_loss:.4f}, MAE: {val_mae:.4f} ,R2_Score :{val_r2_score:.4f}\")\n"
      ]
    },
    {
      "cell_type": "code",
      "source": [
        "best_model.summary()"
      ],
      "metadata": {
        "colab": {
          "base_uri": "https://localhost:8080/",
          "height": 561
        },
        "id": "vkN9OWMpYynL",
        "outputId": "e3803ec8-6779-48f7-ee0c-ba39512c57c4"
      },
      "execution_count": null,
      "outputs": [
        {
          "output_type": "display_data",
          "data": {
            "text/plain": [
              "\u001b[1mModel: \"sequential_2\"\u001b[0m\n"
            ],
            "text/html": [
              "<pre style=\"white-space:pre;overflow-x:auto;line-height:normal;font-family:Menlo,'DejaVu Sans Mono',consolas,'Courier New',monospace\"><span style=\"font-weight: bold\">Model: \"sequential_2\"</span>\n",
              "</pre>\n"
            ]
          },
          "metadata": {}
        },
        {
          "output_type": "display_data",
          "data": {
            "text/plain": [
              "┏━━━━━━━━━━━━━━━━━━━━━━━━━━━━━━━━━━━━━━┳━━━━━━━━━━━━━━━━━━━━━━━━━━━━━┳━━━━━━━━━━━━━━━━━┓\n",
              "┃\u001b[1m \u001b[0m\u001b[1mLayer (type)                        \u001b[0m\u001b[1m \u001b[0m┃\u001b[1m \u001b[0m\u001b[1mOutput Shape               \u001b[0m\u001b[1m \u001b[0m┃\u001b[1m \u001b[0m\u001b[1m        Param #\u001b[0m\u001b[1m \u001b[0m┃\n",
              "┡━━━━━━━━━━━━━━━━━━━━━━━━━━━━━━━━━━━━━━╇━━━━━━━━━━━━━━━━━━━━━━━━━━━━━╇━━━━━━━━━━━━━━━━━┩\n",
              "│ dense_9 (\u001b[38;5;33mDense\u001b[0m)                      │ (\u001b[38;5;45mNone\u001b[0m, \u001b[38;5;34m256\u001b[0m)                 │           \u001b[38;5;34m5,376\u001b[0m │\n",
              "├──────────────────────────────────────┼─────────────────────────────┼─────────────────┤\n",
              "│ leaky_re_lu_7 (\u001b[38;5;33mLeakyReLU\u001b[0m)            │ (\u001b[38;5;45mNone\u001b[0m, \u001b[38;5;34m256\u001b[0m)                 │               \u001b[38;5;34m0\u001b[0m │\n",
              "├──────────────────────────────────────┼─────────────────────────────┼─────────────────┤\n",
              "│ dropout_7 (\u001b[38;5;33mDropout\u001b[0m)                  │ (\u001b[38;5;45mNone\u001b[0m, \u001b[38;5;34m256\u001b[0m)                 │               \u001b[38;5;34m0\u001b[0m │\n",
              "├──────────────────────────────────────┼─────────────────────────────┼─────────────────┤\n",
              "│ dense_10 (\u001b[38;5;33mDense\u001b[0m)                     │ (\u001b[38;5;45mNone\u001b[0m, \u001b[38;5;34m64\u001b[0m)                  │          \u001b[38;5;34m16,448\u001b[0m │\n",
              "├──────────────────────────────────────┼─────────────────────────────┼─────────────────┤\n",
              "│ leaky_re_lu_8 (\u001b[38;5;33mLeakyReLU\u001b[0m)            │ (\u001b[38;5;45mNone\u001b[0m, \u001b[38;5;34m64\u001b[0m)                  │               \u001b[38;5;34m0\u001b[0m │\n",
              "├──────────────────────────────────────┼─────────────────────────────┼─────────────────┤\n",
              "│ dropout_8 (\u001b[38;5;33mDropout\u001b[0m)                  │ (\u001b[38;5;45mNone\u001b[0m, \u001b[38;5;34m64\u001b[0m)                  │               \u001b[38;5;34m0\u001b[0m │\n",
              "├──────────────────────────────────────┼─────────────────────────────┼─────────────────┤\n",
              "│ dense_11 (\u001b[38;5;33mDense\u001b[0m)                     │ (\u001b[38;5;45mNone\u001b[0m, \u001b[38;5;34m96\u001b[0m)                  │           \u001b[38;5;34m6,240\u001b[0m │\n",
              "├──────────────────────────────────────┼─────────────────────────────┼─────────────────┤\n",
              "│ leaky_re_lu_9 (\u001b[38;5;33mLeakyReLU\u001b[0m)            │ (\u001b[38;5;45mNone\u001b[0m, \u001b[38;5;34m96\u001b[0m)                  │               \u001b[38;5;34m0\u001b[0m │\n",
              "├──────────────────────────────────────┼─────────────────────────────┼─────────────────┤\n",
              "│ dropout_9 (\u001b[38;5;33mDropout\u001b[0m)                  │ (\u001b[38;5;45mNone\u001b[0m, \u001b[38;5;34m96\u001b[0m)                  │               \u001b[38;5;34m0\u001b[0m │\n",
              "├──────────────────────────────────────┼─────────────────────────────┼─────────────────┤\n",
              "│ dense_12 (\u001b[38;5;33mDense\u001b[0m)                     │ (\u001b[38;5;45mNone\u001b[0m, \u001b[38;5;34m256\u001b[0m)                 │          \u001b[38;5;34m24,832\u001b[0m │\n",
              "├──────────────────────────────────────┼─────────────────────────────┼─────────────────┤\n",
              "│ leaky_re_lu_10 (\u001b[38;5;33mLeakyReLU\u001b[0m)           │ (\u001b[38;5;45mNone\u001b[0m, \u001b[38;5;34m256\u001b[0m)                 │               \u001b[38;5;34m0\u001b[0m │\n",
              "├──────────────────────────────────────┼─────────────────────────────┼─────────────────┤\n",
              "│ dropout_10 (\u001b[38;5;33mDropout\u001b[0m)                 │ (\u001b[38;5;45mNone\u001b[0m, \u001b[38;5;34m256\u001b[0m)                 │               \u001b[38;5;34m0\u001b[0m │\n",
              "├──────────────────────────────────────┼─────────────────────────────┼─────────────────┤\n",
              "│ dense_13 (\u001b[38;5;33mDense\u001b[0m)                     │ (\u001b[38;5;45mNone\u001b[0m, \u001b[38;5;34m1\u001b[0m)                   │             \u001b[38;5;34m257\u001b[0m │\n",
              "└──────────────────────────────────────┴─────────────────────────────┴─────────────────┘\n"
            ],
            "text/html": [
              "<pre style=\"white-space:pre;overflow-x:auto;line-height:normal;font-family:Menlo,'DejaVu Sans Mono',consolas,'Courier New',monospace\">┏━━━━━━━━━━━━━━━━━━━━━━━━━━━━━━━━━━━━━━┳━━━━━━━━━━━━━━━━━━━━━━━━━━━━━┳━━━━━━━━━━━━━━━━━┓\n",
              "┃<span style=\"font-weight: bold\"> Layer (type)                         </span>┃<span style=\"font-weight: bold\"> Output Shape                </span>┃<span style=\"font-weight: bold\">         Param # </span>┃\n",
              "┡━━━━━━━━━━━━━━━━━━━━━━━━━━━━━━━━━━━━━━╇━━━━━━━━━━━━━━━━━━━━━━━━━━━━━╇━━━━━━━━━━━━━━━━━┩\n",
              "│ dense_9 (<span style=\"color: #0087ff; text-decoration-color: #0087ff\">Dense</span>)                      │ (<span style=\"color: #00d7ff; text-decoration-color: #00d7ff\">None</span>, <span style=\"color: #00af00; text-decoration-color: #00af00\">256</span>)                 │           <span style=\"color: #00af00; text-decoration-color: #00af00\">5,376</span> │\n",
              "├──────────────────────────────────────┼─────────────────────────────┼─────────────────┤\n",
              "│ leaky_re_lu_7 (<span style=\"color: #0087ff; text-decoration-color: #0087ff\">LeakyReLU</span>)            │ (<span style=\"color: #00d7ff; text-decoration-color: #00d7ff\">None</span>, <span style=\"color: #00af00; text-decoration-color: #00af00\">256</span>)                 │               <span style=\"color: #00af00; text-decoration-color: #00af00\">0</span> │\n",
              "├──────────────────────────────────────┼─────────────────────────────┼─────────────────┤\n",
              "│ dropout_7 (<span style=\"color: #0087ff; text-decoration-color: #0087ff\">Dropout</span>)                  │ (<span style=\"color: #00d7ff; text-decoration-color: #00d7ff\">None</span>, <span style=\"color: #00af00; text-decoration-color: #00af00\">256</span>)                 │               <span style=\"color: #00af00; text-decoration-color: #00af00\">0</span> │\n",
              "├──────────────────────────────────────┼─────────────────────────────┼─────────────────┤\n",
              "│ dense_10 (<span style=\"color: #0087ff; text-decoration-color: #0087ff\">Dense</span>)                     │ (<span style=\"color: #00d7ff; text-decoration-color: #00d7ff\">None</span>, <span style=\"color: #00af00; text-decoration-color: #00af00\">64</span>)                  │          <span style=\"color: #00af00; text-decoration-color: #00af00\">16,448</span> │\n",
              "├──────────────────────────────────────┼─────────────────────────────┼─────────────────┤\n",
              "│ leaky_re_lu_8 (<span style=\"color: #0087ff; text-decoration-color: #0087ff\">LeakyReLU</span>)            │ (<span style=\"color: #00d7ff; text-decoration-color: #00d7ff\">None</span>, <span style=\"color: #00af00; text-decoration-color: #00af00\">64</span>)                  │               <span style=\"color: #00af00; text-decoration-color: #00af00\">0</span> │\n",
              "├──────────────────────────────────────┼─────────────────────────────┼─────────────────┤\n",
              "│ dropout_8 (<span style=\"color: #0087ff; text-decoration-color: #0087ff\">Dropout</span>)                  │ (<span style=\"color: #00d7ff; text-decoration-color: #00d7ff\">None</span>, <span style=\"color: #00af00; text-decoration-color: #00af00\">64</span>)                  │               <span style=\"color: #00af00; text-decoration-color: #00af00\">0</span> │\n",
              "├──────────────────────────────────────┼─────────────────────────────┼─────────────────┤\n",
              "│ dense_11 (<span style=\"color: #0087ff; text-decoration-color: #0087ff\">Dense</span>)                     │ (<span style=\"color: #00d7ff; text-decoration-color: #00d7ff\">None</span>, <span style=\"color: #00af00; text-decoration-color: #00af00\">96</span>)                  │           <span style=\"color: #00af00; text-decoration-color: #00af00\">6,240</span> │\n",
              "├──────────────────────────────────────┼─────────────────────────────┼─────────────────┤\n",
              "│ leaky_re_lu_9 (<span style=\"color: #0087ff; text-decoration-color: #0087ff\">LeakyReLU</span>)            │ (<span style=\"color: #00d7ff; text-decoration-color: #00d7ff\">None</span>, <span style=\"color: #00af00; text-decoration-color: #00af00\">96</span>)                  │               <span style=\"color: #00af00; text-decoration-color: #00af00\">0</span> │\n",
              "├──────────────────────────────────────┼─────────────────────────────┼─────────────────┤\n",
              "│ dropout_9 (<span style=\"color: #0087ff; text-decoration-color: #0087ff\">Dropout</span>)                  │ (<span style=\"color: #00d7ff; text-decoration-color: #00d7ff\">None</span>, <span style=\"color: #00af00; text-decoration-color: #00af00\">96</span>)                  │               <span style=\"color: #00af00; text-decoration-color: #00af00\">0</span> │\n",
              "├──────────────────────────────────────┼─────────────────────────────┼─────────────────┤\n",
              "│ dense_12 (<span style=\"color: #0087ff; text-decoration-color: #0087ff\">Dense</span>)                     │ (<span style=\"color: #00d7ff; text-decoration-color: #00d7ff\">None</span>, <span style=\"color: #00af00; text-decoration-color: #00af00\">256</span>)                 │          <span style=\"color: #00af00; text-decoration-color: #00af00\">24,832</span> │\n",
              "├──────────────────────────────────────┼─────────────────────────────┼─────────────────┤\n",
              "│ leaky_re_lu_10 (<span style=\"color: #0087ff; text-decoration-color: #0087ff\">LeakyReLU</span>)           │ (<span style=\"color: #00d7ff; text-decoration-color: #00d7ff\">None</span>, <span style=\"color: #00af00; text-decoration-color: #00af00\">256</span>)                 │               <span style=\"color: #00af00; text-decoration-color: #00af00\">0</span> │\n",
              "├──────────────────────────────────────┼─────────────────────────────┼─────────────────┤\n",
              "│ dropout_10 (<span style=\"color: #0087ff; text-decoration-color: #0087ff\">Dropout</span>)                 │ (<span style=\"color: #00d7ff; text-decoration-color: #00d7ff\">None</span>, <span style=\"color: #00af00; text-decoration-color: #00af00\">256</span>)                 │               <span style=\"color: #00af00; text-decoration-color: #00af00\">0</span> │\n",
              "├──────────────────────────────────────┼─────────────────────────────┼─────────────────┤\n",
              "│ dense_13 (<span style=\"color: #0087ff; text-decoration-color: #0087ff\">Dense</span>)                     │ (<span style=\"color: #00d7ff; text-decoration-color: #00d7ff\">None</span>, <span style=\"color: #00af00; text-decoration-color: #00af00\">1</span>)                   │             <span style=\"color: #00af00; text-decoration-color: #00af00\">257</span> │\n",
              "└──────────────────────────────────────┴─────────────────────────────┴─────────────────┘\n",
              "</pre>\n"
            ]
          },
          "metadata": {}
        },
        {
          "output_type": "display_data",
          "data": {
            "text/plain": [
              "\u001b[1m Total params: \u001b[0m\u001b[38;5;34m159,461\u001b[0m (622.90 KB)\n"
            ],
            "text/html": [
              "<pre style=\"white-space:pre;overflow-x:auto;line-height:normal;font-family:Menlo,'DejaVu Sans Mono',consolas,'Courier New',monospace\"><span style=\"font-weight: bold\"> Total params: </span><span style=\"color: #00af00; text-decoration-color: #00af00\">159,461</span> (622.90 KB)\n",
              "</pre>\n"
            ]
          },
          "metadata": {}
        },
        {
          "output_type": "display_data",
          "data": {
            "text/plain": [
              "\u001b[1m Trainable params: \u001b[0m\u001b[38;5;34m53,153\u001b[0m (207.63 KB)\n"
            ],
            "text/html": [
              "<pre style=\"white-space:pre;overflow-x:auto;line-height:normal;font-family:Menlo,'DejaVu Sans Mono',consolas,'Courier New',monospace\"><span style=\"font-weight: bold\"> Trainable params: </span><span style=\"color: #00af00; text-decoration-color: #00af00\">53,153</span> (207.63 KB)\n",
              "</pre>\n"
            ]
          },
          "metadata": {}
        },
        {
          "output_type": "display_data",
          "data": {
            "text/plain": [
              "\u001b[1m Non-trainable params: \u001b[0m\u001b[38;5;34m0\u001b[0m (0.00 B)\n"
            ],
            "text/html": [
              "<pre style=\"white-space:pre;overflow-x:auto;line-height:normal;font-family:Menlo,'DejaVu Sans Mono',consolas,'Courier New',monospace\"><span style=\"font-weight: bold\"> Non-trainable params: </span><span style=\"color: #00af00; text-decoration-color: #00af00\">0</span> (0.00 B)\n",
              "</pre>\n"
            ]
          },
          "metadata": {}
        },
        {
          "output_type": "display_data",
          "data": {
            "text/plain": [
              "\u001b[1m Optimizer params: \u001b[0m\u001b[38;5;34m106,308\u001b[0m (415.27 KB)\n"
            ],
            "text/html": [
              "<pre style=\"white-space:pre;overflow-x:auto;line-height:normal;font-family:Menlo,'DejaVu Sans Mono',consolas,'Courier New',monospace\"><span style=\"font-weight: bold\"> Optimizer params: </span><span style=\"color: #00af00; text-decoration-color: #00af00\">106,308</span> (415.27 KB)\n",
              "</pre>\n"
            ]
          },
          "metadata": {}
        }
      ]
    },
    {
      "cell_type": "code",
      "source": [
        "#Loss v/s epoch\n",
        "epochs = history.epoch\n",
        "loss = history.history[\"loss\"]\n",
        "val_loss = history.history[\"val_loss\"]\n",
        "\n",
        "\n",
        "plt.plot(epochs, loss, label=\"train\")\n",
        "plt.plot(epochs, val_loss, label=\"validation\")\n",
        "\n",
        "plt.legend()\n",
        "plt.title(\"Loss VS Epochs of Best Model\")\n",
        "\n",
        "plt.show()"
      ],
      "metadata": {
        "colab": {
          "base_uri": "https://localhost:8080/",
          "height": 452
        },
        "id": "KGI5KPNzY_Fh",
        "outputId": "848e3411-3930-4e5d-b724-564eddd7dcc8"
      },
      "execution_count": null,
      "outputs": [
        {
          "output_type": "display_data",
          "data": {
            "text/plain": [
              "<Figure size 640x480 with 1 Axes>"
            ],
            "image/png": "[encoded data removed]"
          },
          "metadata": {}
        }
      ]
    },
    {
      "cell_type": "code",
      "execution_count": null,
      "metadata": {
        "id": "vSUflz0tjE3J",
        "colab": {
          "base_uri": "https://localhost:8080/"
        },
        "outputId": "7b51fc00-3f78-47d7-b68d-59fc29e2ca60"
      },
      "outputs": [
        {
          "output_type": "stream",
          "name": "stdout",
          "text": [
            "\u001b[1m446/446\u001b[0m \u001b[32m━━━━━━━━━━━━━━━━━━━━\u001b[0m\u001b[37m\u001b[0m \u001b[1m1s\u001b[0m 1ms/step\n",
            "R2 Score : 0.2437643027849451\n",
            "Mean Squared Error : 160.6282613191059\n",
            "Mean Absolute Error : 9.98205655065488\n",
            "Root Mean Squared Error : 12.673920518888616\n"
          ]
        }
      ],
      "source": [
        "#Keras hyperband tuned model\n",
        "y_pred = best_model.predict(X_test)\n",
        "mse = mean_squared_error(y_test,y_pred)\n",
        "mae = mean_absolute_error(y_test,y_pred)\n",
        "rmse = np.sqrt(mse)\n",
        "r2 = r2_score(y_test,y_pred)\n",
        "print('R2 Score :',r2)\n",
        "print('Mean Squared Error :',mse)\n",
        "print('Mean Absolute Error :',mae)\n",
        "print('Root Mean Squared Error :',rmse)"
      ]
    },
    {
      "cell_type": "markdown",
      "source": [
        "### Leading Questions"
      ],
      "metadata": {
        "id": "nq5bnmOYi9IE"
      }
    },
    {
      "cell_type": "markdown",
      "source": [
        "1. Defining the problem statements and where can this and modifications of this be used?\n",
        "\n",
        "* Delivery Time Estimation for Porter Porter, India’s largest marketplace for intra-city logistics, aims to improve the lives of its 150,000+ driver-partners by providing consistent earnings and independence.\n",
        "\n",
        "* The company has serviced over 5 million customers and collaborates with various restaurants for direct food delivery. To enhance customer experience, Porter wants to estimate delivery times accurately. The goal is to develop a regression model that predicts delivery times based on factors such as the type of food ordered, the restaurant’s location, and available delivery partners."
      ],
      "metadata": {
        "id": "4ru9wLuPjNiQ"
      }
    },
    {
      "cell_type": "markdown",
      "source": [
        "2. List 3 functions the pandas datetime provides with one line explanation.\n",
        "\n",
        "* pd.to_datetime(): Converts a column or an array of date-like strings into pandas datetime objects.\n",
        "* dt accessor: Provides access to various datetime components (e.g., year, month, day, hour) for a pandas Series with datetime data.\n",
        "* pd.date_range(): Generates a range of dates based on specified start and end dates, with optional frequency (daily, monthly, etc.)."
      ],
      "metadata": {
        "id": "uMqOrDPAjhW_"
      }
    },
    {
      "cell_type": "markdown",
      "source": [
        "3. Short note on datetime, timedelta, time span (period)\n",
        "\n",
        "* Datetime refers to a specific point in time, including both date and time components.\n",
        "* A timedelta represents a duration or difference between two datetime points.\n",
        "* A time span (or period) represents a fixed duration, often used for frequency-based calculations."
      ],
      "metadata": {
        "id": "RBLse_Fsl9fk"
      }
    },
    {
      "cell_type": "markdown",
      "source": [
        "4. Why do we need to check for outliers in our data?\n",
        "\n",
        "* Affects Model Performance – Outliers can skew regression models and reduce accuracy.\n",
        "* Distorts Statistical Metrics – Mean, standard deviation, and correlation can be heavily influenced by extreme values.\n",
        "* Impacts Data Distribution – Outliers can make assumptions of normality invalid, affecting statistical tests.\n",
        "* Potential Data Entry Errors – Some outliers may be due to incorrect data entry or measurement errors."
      ],
      "metadata": {
        "id": "ZQqQsC8VmMGd"
      }
    },
    {
      "cell_type": "markdown",
      "source": [
        "5. Name 3 outlier removal methods?\n",
        "\n",
        "* IQR\n",
        "* Isolation Forest\n",
        "* Z score"
      ],
      "metadata": {
        "id": "GJr2-5xKmdq4"
      }
    },
    {
      "cell_type": "markdown",
      "source": [
        "6. What classical machine learning methods can we use for this problem?\n",
        "\n",
        "* Linear Regression\n",
        "* RandomForest\n",
        "* Decision Tree"
      ],
      "metadata": {
        "id": "zDmz2Ktrmskn"
      }
    },
    {
      "cell_type": "markdown",
      "source": [
        "7. Why is scaling required for neural networks?\n",
        "\n",
        "* Scaling improves convergence, stability, and overall performance of NNs by making features comparable in magnitude."
      ],
      "metadata": {
        "id": "qtF1cWeenSSE"
      }
    },
    {
      "cell_type": "markdown",
      "source": [
        "8. Briefly explain your choice of optimizer.\n",
        "\n",
        "* Adam:\n",
        "  * Updates the weights based on a random batch of the dataset.\n",
        "  * Uses both the Momentum and RMSprop techniques to reduce training time and variance.\n",
        "  * Removes biasness so to have a better moving average at the starting."
      ],
      "metadata": {
        "id": "HuHuufQbncv3"
      }
    },
    {
      "cell_type": "markdown",
      "source": [
        "9. Which activation function did you use and why?\n",
        "\n",
        "* The Rectified Linear Unit (ReLU) is a widely used activation function in neural networks.\n",
        "* To­ reduce p­ossibility ­of vanishing Gradient and faster c­onvergence.\n",
        "* Also User LeakyRelu which is an activation function based on ReLu"
      ],
      "metadata": {
        "id": "biibozyHnozv"
      }
    },
    {
      "cell_type": "markdown",
      "source": [
        "10. Why does a neural network perform well on a large dataset?\n",
        "\n",
        "* Neural networks thrive on large datasets because of their capacity for complexity, non-linearity, and feature extraction. The abundance of training examples enables them to learn meaningful representations and achieve impressive results."
      ],
      "metadata": {
        "id": "MccdcEHKoGZC"
      }
    }
  ],
  "metadata": {
    "colab": {
      "gpuType": "T4",
      "provenance": [],
      "toc_visible": true
    },
    "kernelspec": {
      "display_name": "Python 3",
      "name": "python3"
    },
    "language_info": {
      "codemirror_mode": {
        "name": "ipython",
        "version": 3
      },
      "file_extension": ".py",
      "mimetype": "text/x-python",
      "name": "python",
      "nbconvert_exporter": "python",
      "pygments_lexer": "ipython3",
      "version": "3.11.4"
    }
  },
  "nbformat": 4,
  "nbformat_minor": 0
}