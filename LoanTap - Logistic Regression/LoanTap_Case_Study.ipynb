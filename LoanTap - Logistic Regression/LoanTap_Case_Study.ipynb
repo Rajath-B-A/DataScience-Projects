{
  "nbformat": 4,
  "nbformat_minor": 0,
  "metadata": {
    "colab": {
      "provenance": []
    },
    "kernelspec": {
      "name": "python3",
      "display_name": "Python 3"
    },
    "language_info": {
      "name": "python"
    }
  },
  "cells": [
    {
      "cell_type": "markdown",
      "source": [
        "#LoanTap"
      ],
      "metadata": {
        "id": "7cuytAVo9R2Z"
      }
    },
    {
      "cell_type": "markdown",
      "source": [
        "##Problem Statement\n",
        "\n",
        "Given a set of attributes for an Individual, determine if a credit line should be extended to them. If so, what should the repayment terms be in business recommendations?"
      ],
      "metadata": {
        "id": "uHCFtVYr9Zcv"
      }
    },
    {
      "cell_type": "code",
      "execution_count": null,
      "metadata": {
        "id": "_zppI3j6wMxK"
      },
      "outputs": [],
      "source": [
        "import numpy as np\n",
        "import pandas as pd\n",
        "import matplotlib.pyplot as plt\n",
        "import seaborn as sns"
      ]
    },
    {
      "cell_type": "code",
      "source": [
        "!gdown 14Ptt2BHBmrVerPHg-PnffYxpgMyrP-v7"
      ],
      "metadata": {
        "colab": {
          "base_uri": "https://localhost:8080/"
        },
        "id": "hteE59bF08ze",
        "outputId": "0628afd7-5f3d-4f8b-bcc3-3ea08e6ee69f"
      },
      "execution_count": null,
      "outputs": [
        {
          "output_type": "stream",
          "name": "stdout",
          "text": [
            "Downloading...\n",
            "From: https://drive.google.com/uc?id=14Ptt2BHBmrVerPHg-PnffYxpgMyrP-v7\n",
            "To: /content/logistic_regression.csv\n",
            "100% 100M/100M [00:02<00:00, 49.4MB/s] \n"
          ]
        }
      ]
    },
    {
      "cell_type": "code",
      "source": [
        "df = pd.read_csv('logistic_regression.csv')\n",
        "df.head()"
      ],
      "metadata": {
        "colab": {
          "base_uri": "https://localhost:8080/",
          "height": 429
        },
        "id": "NXkvLgLV1D6S",
        "outputId": "3455d26c-6b56-4915-ada4-e60c41aa9608"
      },
      "execution_count": null,
      "outputs": [
        {
          "output_type": "execute_result",
          "data": {
            "text/plain": [
              "   loan_amnt        term  int_rate  installment grade sub_grade  \\\n",
              "0    10000.0   36 months     11.44       329.48     B        B4   \n",
              "1     8000.0   36 months     11.99       265.68     B        B5   \n",
              "2    15600.0   36 months     10.49       506.97     B        B3   \n",
              "3     7200.0   36 months      6.49       220.65     A        A2   \n",
              "4    24375.0   60 months     17.27       609.33     C        C5   \n",
              "\n",
              "                 emp_title emp_length home_ownership  annual_inc  ...  \\\n",
              "0                Marketing  10+ years           RENT    117000.0  ...   \n",
              "1          Credit analyst     4 years       MORTGAGE     65000.0  ...   \n",
              "2             Statistician   < 1 year           RENT     43057.0  ...   \n",
              "3          Client Advocate    6 years           RENT     54000.0  ...   \n",
              "4  Destiny Management Inc.    9 years       MORTGAGE     55000.0  ...   \n",
              "\n",
              "  open_acc pub_rec revol_bal revol_util total_acc  initial_list_status  \\\n",
              "0     16.0     0.0   36369.0       41.8      25.0                    w   \n",
              "1     17.0     0.0   20131.0       53.3      27.0                    f   \n",
              "2     13.0     0.0   11987.0       92.2      26.0                    f   \n",
              "3      6.0     0.0    5472.0       21.5      13.0                    f   \n",
              "4     13.0     0.0   24584.0       69.8      43.0                    f   \n",
              "\n",
              "  application_type  mort_acc  pub_rec_bankruptcies  \\\n",
              "0       INDIVIDUAL       0.0                   0.0   \n",
              "1       INDIVIDUAL       3.0                   0.0   \n",
              "2       INDIVIDUAL       0.0                   0.0   \n",
              "3       INDIVIDUAL       0.0                   0.0   \n",
              "4       INDIVIDUAL       1.0                   0.0   \n",
              "\n",
              "                                             address  \n",
              "0     0174 Michelle Gateway\\r\\nMendozaberg, OK 22690  \n",
              "1  1076 Carney Fort Apt. 347\\r\\nLoganmouth, SD 05113  \n",
              "2  87025 Mark Dale Apt. 269\\r\\nNew Sabrina, WV 05113  \n",
              "3            823 Reid Ford\\r\\nDelacruzside, MA 00813  \n",
              "4             679 Luna Roads\\r\\nGreggshire, VA 11650  \n",
              "\n",
              "[5 rows x 27 columns]"
            ],
            "text/html": [
              "\n",
              "  <div id=\"df-55ef7288-d87f-4e16-a816-06774d13eba5\" class=\"colab-df-container\">\n",
              "    <div>\n",
              "<style scoped>\n",
              "    .dataframe tbody tr th:only-of-type {\n",
              "        vertical-align: middle;\n",
              "    }\n",
              "\n",
              "    .dataframe tbody tr th {\n",
              "        vertical-align: top;\n",
              "    }\n",
              "\n",
              "    .dataframe thead th {\n",
              "        text-align: right;\n",
              "    }\n",
              "</style>\n",
              "<table border=\"1\" class=\"dataframe\">\n",
              "  <thead>\n",
              "    <tr style=\"text-align: right;\">\n",
              "      <th></th>\n",
              "      <th>loan_amnt</th>\n",
              "      <th>term</th>\n",
              "      <th>int_rate</th>\n",
              "      <th>installment</th>\n",
              "      <th>grade</th>\n",
              "      <th>sub_grade</th>\n",
              "      <th>emp_title</th>\n",
              "      <th>emp_length</th>\n",
              "      <th>home_ownership</th>\n",
              "      <th>annual_inc</th>\n",
              "      <th>...</th>\n",
              "      <th>open_acc</th>\n",
              "      <th>pub_rec</th>\n",
              "      <th>revol_bal</th>\n",
              "      <th>revol_util</th>\n",
              "      <th>total_acc</th>\n",
              "      <th>initial_list_status</th>\n",
              "      <th>application_type</th>\n",
              "      <th>mort_acc</th>\n",
              "      <th>pub_rec_bankruptcies</th>\n",
              "      <th>address</th>\n",
              "    </tr>\n",
              "  </thead>\n",
              "  <tbody>\n",
              "    <tr>\n",
              "      <th>0</th>\n",
              "      <td>10000.0</td>\n",
              "      <td>36 months</td>\n",
              "      <td>11.44</td>\n",
              "      <td>329.48</td>\n",
              "      <td>B</td>\n",
              "      <td>B4</td>\n",
              "      <td>Marketing</td>\n",
              "      <td>10+ years</td>\n",
              "      <td>RENT</td>\n",
              "      <td>117000.0</td>\n",
              "      <td>...</td>\n",
              "      <td>16.0</td>\n",
              "      <td>0.0</td>\n",
              "      <td>36369.0</td>\n",
              "      <td>41.8</td>\n",
              "      <td>25.0</td>\n",
              "      <td>w</td>\n",
              "      <td>INDIVIDUAL</td>\n",
              "      <td>0.0</td>\n",
              "      <td>0.0</td>\n",
              "      <td>0174 Michelle Gateway\\r\\nMendozaberg, OK 22690</td>\n",
              "    </tr>\n",
              "    <tr>\n",
              "      <th>1</th>\n",
              "      <td>8000.0</td>\n",
              "      <td>36 months</td>\n",
              "      <td>11.99</td>\n",
              "      <td>265.68</td>\n",
              "      <td>B</td>\n",
              "      <td>B5</td>\n",
              "      <td>Credit analyst</td>\n",
              "      <td>4 years</td>\n",
              "      <td>MORTGAGE</td>\n",
              "      <td>65000.0</td>\n",
              "      <td>...</td>\n",
              "      <td>17.0</td>\n",
              "      <td>0.0</td>\n",
              "      <td>20131.0</td>\n",
              "      <td>53.3</td>\n",
              "      <td>27.0</td>\n",
              "      <td>f</td>\n",
              "      <td>INDIVIDUAL</td>\n",
              "      <td>3.0</td>\n",
              "      <td>0.0</td>\n",
              "      <td>1076 Carney Fort Apt. 347\\r\\nLoganmouth, SD 05113</td>\n",
              "    </tr>\n",
              "    <tr>\n",
              "      <th>2</th>\n",
              "      <td>15600.0</td>\n",
              "      <td>36 months</td>\n",
              "      <td>10.49</td>\n",
              "      <td>506.97</td>\n",
              "      <td>B</td>\n",
              "      <td>B3</td>\n",
              "      <td>Statistician</td>\n",
              "      <td>&lt; 1 year</td>\n",
              "      <td>RENT</td>\n",
              "      <td>43057.0</td>\n",
              "      <td>...</td>\n",
              "      <td>13.0</td>\n",
              "      <td>0.0</td>\n",
              "      <td>11987.0</td>\n",
              "      <td>92.2</td>\n",
              "      <td>26.0</td>\n",
              "      <td>f</td>\n",
              "      <td>INDIVIDUAL</td>\n",
              "      <td>0.0</td>\n",
              "      <td>0.0</td>\n",
              "      <td>87025 Mark Dale Apt. 269\\r\\nNew Sabrina, WV 05113</td>\n",
              "    </tr>\n",
              "    <tr>\n",
              "      <th>3</th>\n",
              "      <td>7200.0</td>\n",
              "      <td>36 months</td>\n",
              "      <td>6.49</td>\n",
              "      <td>220.65</td>\n",
              "      <td>A</td>\n",
              "      <td>A2</td>\n",
              "      <td>Client Advocate</td>\n",
              "      <td>6 years</td>\n",
              "      <td>RENT</td>\n",
              "      <td>54000.0</td>\n",
              "      <td>...</td>\n",
              "      <td>6.0</td>\n",
              "      <td>0.0</td>\n",
              "      <td>5472.0</td>\n",
              "      <td>21.5</td>\n",
              "      <td>13.0</td>\n",
              "      <td>f</td>\n",
              "      <td>INDIVIDUAL</td>\n",
              "      <td>0.0</td>\n",
              "      <td>0.0</td>\n",
              "      <td>823 Reid Ford\\r\\nDelacruzside, MA 00813</td>\n",
              "    </tr>\n",
              "    <tr>\n",
              "      <th>4</th>\n",
              "      <td>24375.0</td>\n",
              "      <td>60 months</td>\n",
              "      <td>17.27</td>\n",
              "      <td>609.33</td>\n",
              "      <td>C</td>\n",
              "      <td>C5</td>\n",
              "      <td>Destiny Management Inc.</td>\n",
              "      <td>9 years</td>\n",
              "      <td>MORTGAGE</td>\n",
              "      <td>55000.0</td>\n",
              "      <td>...</td>\n",
              "      <td>13.0</td>\n",
              "      <td>0.0</td>\n",
              "      <td>24584.0</td>\n",
              "      <td>69.8</td>\n",
              "      <td>43.0</td>\n",
              "      <td>f</td>\n",
              "      <td>INDIVIDUAL</td>\n",
              "      <td>1.0</td>\n",
              "      <td>0.0</td>\n",
              "      <td>679 Luna Roads\\r\\nGreggshire, VA 11650</td>\n",
              "    </tr>\n",
              "  </tbody>\n",
              "</table>\n",
              "<p>5 rows × 27 columns</p>\n",
              "</div>\n",
              "    <div class=\"colab-df-buttons\">\n",
              "\n",
              "  <div class=\"colab-df-container\">\n",
              "    <button class=\"colab-df-convert\" onclick=\"convertToInteractive('df-55ef7288-d87f-4e16-a816-06774d13eba5')\"\n",
              "            title=\"Convert this dataframe to an interactive table.\"\n",
              "            style=\"display:none;\">\n",
              "\n",
              "  <svg xmlns=\"http://www.w3.org/2000/svg\" height=\"24px\" viewBox=\"0 -960 960 960\">\n",
              "    <path d=\"M120-120v-720h720v720H120Zm60-500h600v-160H180v160Zm220 220h160v-160H400v160Zm0 220h160v-160H400v160ZM180-400h160v-160H180v160Zm440 0h160v-160H620v160ZM180-180h160v-160H180v160Zm440 0h160v-160H620v160Z\"/>\n",
              "  </svg>\n",
              "    </button>\n",
              "\n",
              "  <style>\n",
              "    .colab-df-container {\n",
              "      display:flex;\n",
              "      gap: 12px;\n",
              "    }\n",
              "\n",
              "    .colab-df-convert {\n",
              "      background-color: #E8F0FE;\n",
              "      border: none;\n",
              "      border-radius: 50%;\n",
              "      cursor: pointer;\n",
              "      display: none;\n",
              "      fill: #1967D2;\n",
              "      height: 32px;\n",
              "      padding: 0 0 0 0;\n",
              "      width: 32px;\n",
              "    }\n",
              "\n",
              "    .colab-df-convert:hover {\n",
              "      background-color: #E2EBFA;\n",
              "      box-shadow: 0px 1px 2px rgba(60, 64, 67, 0.3), 0px 1px 3px 1px rgba(60, 64, 67, 0.15);\n",
              "      fill: #174EA6;\n",
              "    }\n",
              "\n",
              "    .colab-df-buttons div {\n",
              "      margin-bottom: 4px;\n",
              "    }\n",
              "\n",
              "    [theme=dark] .colab-df-convert {\n",
              "      background-color: #3B4455;\n",
              "      fill: #D2E3FC;\n",
              "    }\n",
              "\n",
              "    [theme=dark] .colab-df-convert:hover {\n",
              "      background-color: #434B5C;\n",
              "      box-shadow: 0px 1px 3px 1px rgba(0, 0, 0, 0.15);\n",
              "      filter: drop-shadow(0px 1px 2px rgba(0, 0, 0, 0.3));\n",
              "      fill: #FFFFFF;\n",
              "    }\n",
              "  </style>\n",
              "\n",
              "    <script>\n",
              "      const buttonEl =\n",
              "        document.querySelector('#df-55ef7288-d87f-4e16-a816-06774d13eba5 button.colab-df-convert');\n",
              "      buttonEl.style.display =\n",
              "        google.colab.kernel.accessAllowed ? 'block' : 'none';\n",
              "\n",
              "      async function convertToInteractive(key) {\n",
              "        const element = document.querySelector('#df-55ef7288-d87f-4e16-a816-06774d13eba5');\n",
              "        const dataTable =\n",
              "          await google.colab.kernel.invokeFunction('convertToInteractive',\n",
              "                                                    [key], {});\n",
              "        if (!dataTable) return;\n",
              "\n",
              "        const docLinkHtml = 'Like what you see? Visit the ' +\n",
              "          '<a target=\"_blank\" href=https://colab.research.google.com/notebooks/data_table.ipynb>data table notebook</a>'\n",
              "          + ' to learn more about interactive tables.';\n",
              "        element.innerHTML = '';\n",
              "        dataTable['output_type'] = 'display_data';\n",
              "        await google.colab.output.renderOutput(dataTable, element);\n",
              "        const docLink = document.createElement('div');\n",
              "        docLink.innerHTML = docLinkHtml;\n",
              "        element.appendChild(docLink);\n",
              "      }\n",
              "    </script>\n",
              "  </div>\n",
              "\n",
              "\n",
              "<div id=\"df-12cf0609-2a4a-455e-b637-2d35c7aa3c6d\">\n",
              "  <button class=\"colab-df-quickchart\" onclick=\"quickchart('df-12cf0609-2a4a-455e-b637-2d35c7aa3c6d')\"\n",
              "            title=\"Suggest charts\"\n",
              "            style=\"display:none;\">\n",
              "\n",
              "<svg xmlns=\"http://www.w3.org/2000/svg\" height=\"24px\"viewBox=\"0 0 24 24\"\n",
              "     width=\"24px\">\n",
              "    <g>\n",
              "        <path d=\"M19 3H5c-1.1 0-2 .9-2 2v14c0 1.1.9 2 2 2h14c1.1 0 2-.9 2-2V5c0-1.1-.9-2-2-2zM9 17H7v-7h2v7zm4 0h-2V7h2v10zm4 0h-2v-4h2v4z\"/>\n",
              "    </g>\n",
              "</svg>\n",
              "  </button>\n",
              "\n",
              "<style>\n",
              "  .colab-df-quickchart {\n",
              "      --bg-color: #E8F0FE;\n",
              "      --fill-color: #1967D2;\n",
              "      --hover-bg-color: #E2EBFA;\n",
              "      --hover-fill-color: #174EA6;\n",
              "      --disabled-fill-color: #AAA;\n",
              "      --disabled-bg-color: #DDD;\n",
              "  }\n",
              "\n",
              "  [theme=dark] .colab-df-quickchart {\n",
              "      --bg-color: #3B4455;\n",
              "      --fill-color: #D2E3FC;\n",
              "      --hover-bg-color: #434B5C;\n",
              "      --hover-fill-color: #FFFFFF;\n",
              "      --disabled-bg-color: #3B4455;\n",
              "      --disabled-fill-color: #666;\n",
              "  }\n",
              "\n",
              "  .colab-df-quickchart {\n",
              "    background-color: var(--bg-color);\n",
              "    border: none;\n",
              "    border-radius: 50%;\n",
              "    cursor: pointer;\n",
              "    display: none;\n",
              "    fill: var(--fill-color);\n",
              "    height: 32px;\n",
              "    padding: 0;\n",
              "    width: 32px;\n",
              "  }\n",
              "\n",
              "  .colab-df-quickchart:hover {\n",
              "    background-color: var(--hover-bg-color);\n",
              "    box-shadow: 0 1px 2px rgba(60, 64, 67, 0.3), 0 1px 3px 1px rgba(60, 64, 67, 0.15);\n",
              "    fill: var(--button-hover-fill-color);\n",
              "  }\n",
              "\n",
              "  .colab-df-quickchart-complete:disabled,\n",
              "  .colab-df-quickchart-complete:disabled:hover {\n",
              "    background-color: var(--disabled-bg-color);\n",
              "    fill: var(--disabled-fill-color);\n",
              "    box-shadow: none;\n",
              "  }\n",
              "\n",
              "  .colab-df-spinner {\n",
              "    border: 2px solid var(--fill-color);\n",
              "    border-color: transparent;\n",
              "    border-bottom-color: var(--fill-color);\n",
              "    animation:\n",
              "      spin 1s steps(1) infinite;\n",
              "  }\n",
              "\n",
              "  @keyframes spin {\n",
              "    0% {\n",
              "      border-color: transparent;\n",
              "      border-bottom-color: var(--fill-color);\n",
              "      border-left-color: var(--fill-color);\n",
              "    }\n",
              "    20% {\n",
              "      border-color: transparent;\n",
              "      border-left-color: var(--fill-color);\n",
              "      border-top-color: var(--fill-color);\n",
              "    }\n",
              "    30% {\n",
              "      border-color: transparent;\n",
              "      border-left-color: var(--fill-color);\n",
              "      border-top-color: var(--fill-color);\n",
              "      border-right-color: var(--fill-color);\n",
              "    }\n",
              "    40% {\n",
              "      border-color: transparent;\n",
              "      border-right-color: var(--fill-color);\n",
              "      border-top-color: var(--fill-color);\n",
              "    }\n",
              "    60% {\n",
              "      border-color: transparent;\n",
              "      border-right-color: var(--fill-color);\n",
              "    }\n",
              "    80% {\n",
              "      border-color: transparent;\n",
              "      border-right-color: var(--fill-color);\n",
              "      border-bottom-color: var(--fill-color);\n",
              "    }\n",
              "    90% {\n",
              "      border-color: transparent;\n",
              "      border-bottom-color: var(--fill-color);\n",
              "    }\n",
              "  }\n",
              "</style>\n",
              "\n",
              "  <script>\n",
              "    async function quickchart(key) {\n",
              "      const quickchartButtonEl =\n",
              "        document.querySelector('#' + key + ' button');\n",
              "      quickchartButtonEl.disabled = true;  // To prevent multiple clicks.\n",
              "      quickchartButtonEl.classList.add('colab-df-spinner');\n",
              "      try {\n",
              "        const charts = await google.colab.kernel.invokeFunction(\n",
              "            'suggestCharts', [key], {});\n",
              "      } catch (error) {\n",
              "        console.error('Error during call to suggestCharts:', error);\n",
              "      }\n",
              "      quickchartButtonEl.classList.remove('colab-df-spinner');\n",
              "      quickchartButtonEl.classList.add('colab-df-quickchart-complete');\n",
              "    }\n",
              "    (() => {\n",
              "      let quickchartButtonEl =\n",
              "        document.querySelector('#df-12cf0609-2a4a-455e-b637-2d35c7aa3c6d button');\n",
              "      quickchartButtonEl.style.display =\n",
              "        google.colab.kernel.accessAllowed ? 'block' : 'none';\n",
              "    })();\n",
              "  </script>\n",
              "</div>\n",
              "\n",
              "    </div>\n",
              "  </div>\n"
            ],
            "application/vnd.google.colaboratory.intrinsic+json": {
              "type": "dataframe",
              "variable_name": "df"
            }
          },
          "metadata": {},
          "execution_count": 4
        }
      ]
    },
    {
      "cell_type": "markdown",
      "source": [
        "## EDA"
      ],
      "metadata": {
        "id": "PNm0fBi3WAnI"
      }
    },
    {
      "cell_type": "code",
      "source": [
        "df.shape"
      ],
      "metadata": {
        "colab": {
          "base_uri": "https://localhost:8080/"
        },
        "id": "l22O40oZ1avd",
        "outputId": "67ea175c-380d-4fa2-8f10-d0563e449b27"
      },
      "execution_count": null,
      "outputs": [
        {
          "output_type": "execute_result",
          "data": {
            "text/plain": [
              "(396030, 27)"
            ]
          },
          "metadata": {},
          "execution_count": 5
        }
      ]
    },
    {
      "cell_type": "code",
      "source": [
        "df.info()"
      ],
      "metadata": {
        "colab": {
          "base_uri": "https://localhost:8080/"
        },
        "id": "CBdx7g2I1eNJ",
        "outputId": "2cc0bf45-1a57-4310-92da-4150aa5f4023"
      },
      "execution_count": null,
      "outputs": [
        {
          "output_type": "stream",
          "name": "stdout",
          "text": [
            "<class 'pandas.core.frame.DataFrame'>\n",
            "RangeIndex: 396030 entries, 0 to 396029\n",
            "Data columns (total 27 columns):\n",
            " #   Column                Non-Null Count   Dtype  \n",
            "---  ------                --------------   -----  \n",
            " 0   loan_amnt             396030 non-null  float64\n",
            " 1   term                  396030 non-null  object \n",
            " 2   int_rate              396030 non-null  float64\n",
            " 3   installment           396030 non-null  float64\n",
            " 4   grade                 396030 non-null  object \n",
            " 5   sub_grade             396030 non-null  object \n",
            " 6   emp_title             373103 non-null  object \n",
            " 7   emp_length            377729 non-null  object \n",
            " 8   home_ownership        396030 non-null  object \n",
            " 9   annual_inc            396030 non-null  float64\n",
            " 10  verification_status   396030 non-null  object \n",
            " 11  issue_d               396030 non-null  object \n",
            " 12  loan_status           396030 non-null  object \n",
            " 13  purpose               396030 non-null  object \n",
            " 14  title                 394274 non-null  object \n",
            " 15  dti                   396030 non-null  float64\n",
            " 16  earliest_cr_line      396030 non-null  object \n",
            " 17  open_acc              396030 non-null  float64\n",
            " 18  pub_rec               396030 non-null  float64\n",
            " 19  revol_bal             396030 non-null  float64\n",
            " 20  revol_util            395754 non-null  float64\n",
            " 21  total_acc             396030 non-null  float64\n",
            " 22  initial_list_status   396030 non-null  object \n",
            " 23  application_type      396030 non-null  object \n",
            " 24  mort_acc              358235 non-null  float64\n",
            " 25  pub_rec_bankruptcies  395495 non-null  float64\n",
            " 26  address               396030 non-null  object \n",
            "dtypes: float64(12), object(15)\n",
            "memory usage: 81.6+ MB\n"
          ]
        }
      ]
    },
    {
      "cell_type": "code",
      "source": [
        "df['grade'].value_counts()"
      ],
      "metadata": {
        "colab": {
          "base_uri": "https://localhost:8080/"
        },
        "id": "17bBaxUTJ4mD",
        "outputId": "c7000259-ded1-449b-e037-4d4ada039f33"
      },
      "execution_count": null,
      "outputs": [
        {
          "output_type": "execute_result",
          "data": {
            "text/plain": [
              "grade\n",
              "B    116018\n",
              "C    105987\n",
              "A     64187\n",
              "D     63524\n",
              "E     31488\n",
              "F     11772\n",
              "G      3054\n",
              "Name: count, dtype: int64"
            ]
          },
          "metadata": {},
          "execution_count": 7
        }
      ]
    },
    {
      "cell_type": "code",
      "source": [
        "df['sub_grade'].value_counts()"
      ],
      "metadata": {
        "colab": {
          "base_uri": "https://localhost:8080/"
        },
        "id": "MlJkJLTBKDUU",
        "outputId": "5e05ec39-1e62-4e58-ac30-766e76802a46"
      },
      "execution_count": null,
      "outputs": [
        {
          "output_type": "execute_result",
          "data": {
            "text/plain": [
              "sub_grade\n",
              "B3    26655\n",
              "B4    25601\n",
              "C1    23662\n",
              "C2    22580\n",
              "B2    22495\n",
              "B5    22085\n",
              "C3    21221\n",
              "C4    20280\n",
              "B1    19182\n",
              "A5    18526\n",
              "C5    18244\n",
              "D1    15993\n",
              "A4    15789\n",
              "D2    13951\n",
              "D3    12223\n",
              "D4    11657\n",
              "A3    10576\n",
              "A1     9729\n",
              "D5     9700\n",
              "A2     9567\n",
              "E1     7917\n",
              "E2     7431\n",
              "E3     6207\n",
              "E4     5361\n",
              "E5     4572\n",
              "F1     3536\n",
              "F2     2766\n",
              "F3     2286\n",
              "F4     1787\n",
              "F5     1397\n",
              "G1     1058\n",
              "G2      754\n",
              "G3      552\n",
              "G4      374\n",
              "G5      316\n",
              "Name: count, dtype: int64"
            ]
          },
          "metadata": {},
          "execution_count": 8
        }
      ]
    },
    {
      "cell_type": "code",
      "source": [
        "df['home_ownership'].value_counts()"
      ],
      "metadata": {
        "colab": {
          "base_uri": "https://localhost:8080/"
        },
        "id": "_B-hZTjLABBf",
        "outputId": "dd8c869a-0207-4a44-a279-2228fdd53d65"
      },
      "execution_count": null,
      "outputs": [
        {
          "output_type": "execute_result",
          "data": {
            "text/plain": [
              "home_ownership\n",
              "MORTGAGE    198348\n",
              "RENT        159790\n",
              "OWN          37746\n",
              "OTHER          112\n",
              "NONE            31\n",
              "ANY              3\n",
              "Name: count, dtype: int64"
            ]
          },
          "metadata": {},
          "execution_count": 9
        }
      ]
    },
    {
      "cell_type": "code",
      "source": [
        "df['verification_status'].value_counts()"
      ],
      "metadata": {
        "colab": {
          "base_uri": "https://localhost:8080/"
        },
        "id": "wptL7KXMIkxt",
        "outputId": "2073108c-885f-4ba7-a08e-09a45b3cba88"
      },
      "execution_count": null,
      "outputs": [
        {
          "output_type": "execute_result",
          "data": {
            "text/plain": [
              "verification_status\n",
              "Verified           139563\n",
              "Source Verified    131385\n",
              "Not Verified       125082\n",
              "Name: count, dtype: int64"
            ]
          },
          "metadata": {},
          "execution_count": 10
        }
      ]
    },
    {
      "cell_type": "code",
      "source": [
        "df['purpose'].value_counts()"
      ],
      "metadata": {
        "colab": {
          "base_uri": "https://localhost:8080/"
        },
        "id": "Kcc3lnJNJawx",
        "outputId": "fead12d1-9a16-4883-ef45-22939a77dfaa"
      },
      "execution_count": null,
      "outputs": [
        {
          "output_type": "execute_result",
          "data": {
            "text/plain": [
              "purpose\n",
              "debt_consolidation    234507\n",
              "credit_card            83019\n",
              "home_improvement       24030\n",
              "other                  21185\n",
              "major_purchase          8790\n",
              "small_business          5701\n",
              "car                     4697\n",
              "medical                 4196\n",
              "moving                  2854\n",
              "vacation                2452\n",
              "house                   2201\n",
              "wedding                 1812\n",
              "renewable_energy         329\n",
              "educational              257\n",
              "Name: count, dtype: int64"
            ]
          },
          "metadata": {},
          "execution_count": 11
        }
      ]
    },
    {
      "cell_type": "code",
      "source": [
        "df['title'].value_counts()"
      ],
      "metadata": {
        "colab": {
          "base_uri": "https://localhost:8080/"
        },
        "id": "fsHXeMSSJmHs",
        "outputId": "ee542a2a-fbac-4ef8-d92e-0761f082c520"
      },
      "execution_count": null,
      "outputs": [
        {
          "output_type": "execute_result",
          "data": {
            "text/plain": [
              "title\n",
              "Debt consolidation            152472\n",
              "Credit card refinancing        51487\n",
              "Home improvement               15264\n",
              "Other                          12930\n",
              "Debt Consolidation             11608\n",
              "                               ...  \n",
              "Graduation/Travel Expenses         1\n",
              "Daughter's Wedding Bill            1\n",
              "gotta move                         1\n",
              "creditcardrefi                     1\n",
              "Toxic Debt Payoff                  1\n",
              "Name: count, Length: 48816, dtype: int64"
            ]
          },
          "metadata": {},
          "execution_count": 12
        }
      ]
    },
    {
      "cell_type": "code",
      "source": [
        "df['dti'].value_counts()"
      ],
      "metadata": {
        "colab": {
          "base_uri": "https://localhost:8080/"
        },
        "id": "1A0300QTNDV4",
        "outputId": "19f9b455-b0bf-429b-9a87-7df59d7fcdf8"
      },
      "execution_count": null,
      "outputs": [
        {
          "output_type": "execute_result",
          "data": {
            "text/plain": [
              "dti\n",
              "0.00     313\n",
              "14.40    310\n",
              "19.20    302\n",
              "16.80    301\n",
              "18.00    300\n",
              "        ... \n",
              "59.18      1\n",
              "48.37      1\n",
              "45.71      1\n",
              "42.38      1\n",
              "55.53      1\n",
              "Name: count, Length: 4262, dtype: int64"
            ]
          },
          "metadata": {},
          "execution_count": 13
        }
      ]
    },
    {
      "cell_type": "code",
      "source": [
        "df['open_acc'].value_counts().sort_index()"
      ],
      "metadata": {
        "colab": {
          "base_uri": "https://localhost:8080/"
        },
        "id": "4z36g0IBN-2D",
        "outputId": "7e0f3c1f-0e7a-442d-bc03-349856527dbe"
      },
      "execution_count": null,
      "outputs": [
        {
          "output_type": "execute_result",
          "data": {
            "text/plain": [
              "open_acc\n",
              "0.0         6\n",
              "1.0        85\n",
              "2.0      1459\n",
              "3.0      4783\n",
              "4.0     10709\n",
              "        ...  \n",
              "56.0        2\n",
              "57.0        1\n",
              "58.0        1\n",
              "76.0        2\n",
              "90.0        1\n",
              "Name: count, Length: 61, dtype: int64"
            ]
          },
          "metadata": {},
          "execution_count": 14
        }
      ]
    },
    {
      "cell_type": "code",
      "source": [
        "df['application_type'].value_counts()"
      ],
      "metadata": {
        "colab": {
          "base_uri": "https://localhost:8080/"
        },
        "id": "OmoLcOaYQSoL",
        "outputId": "618f5685-ac76-4c02-9109-44ce094d5b21"
      },
      "execution_count": null,
      "outputs": [
        {
          "output_type": "execute_result",
          "data": {
            "text/plain": [
              "application_type\n",
              "INDIVIDUAL    395319\n",
              "JOINT            425\n",
              "DIRECT_PAY       286\n",
              "Name: count, dtype: int64"
            ]
          },
          "metadata": {},
          "execution_count": 15
        }
      ]
    },
    {
      "cell_type": "code",
      "source": [
        "df['pub_rec_bankruptcies'].value_counts().sort_index()"
      ],
      "metadata": {
        "colab": {
          "base_uri": "https://localhost:8080/"
        },
        "id": "zlijyXAaQkdc",
        "outputId": "4ac46af8-9a61-4bbe-e2b9-dbfdb86ba85b"
      },
      "execution_count": null,
      "outputs": [
        {
          "output_type": "execute_result",
          "data": {
            "text/plain": [
              "pub_rec_bankruptcies\n",
              "0.0    350380\n",
              "1.0     42790\n",
              "2.0      1847\n",
              "3.0       351\n",
              "4.0        82\n",
              "5.0        32\n",
              "6.0         7\n",
              "7.0         4\n",
              "8.0         2\n",
              "Name: count, dtype: int64"
            ]
          },
          "metadata": {},
          "execution_count": 16
        }
      ]
    },
    {
      "cell_type": "markdown",
      "source": [
        "#### Column Profiling:\n",
        "\n",
        "* Loan_amt: Loan amount borrowed by the customer\n",
        "* term : No of payments of loan in months(36/60)\n",
        "* int_rate : Interest rate of the loan  \n",
        "* installment : Amount to be payed by the customer monthly\n",
        "* grade : LapTap grade (A to G)\n",
        "* sub-grade : LoanTap sub-grade (1 to 5 against each grade)\n",
        "* emp-title : Job role of the customer\n",
        "* emp-length : Employment length in years (0 to 10)\n",
        "* home-ownership : home ownership status (Mortgage, rent, own , other, none,any)\n",
        "* annual_inc : annual income declared by the customer\n",
        "* verification_status : income verified by LoanTap (Verified,Source Verified,Not Verified)\n",
        "* issue_d: month when loan was given\n",
        "* **loan_status**: Current Status of Loan\n",
        "* purpose : category procided by borrower (**14** categories)\n",
        "* title : loan title provided by borrower (**48816** unique values)\n",
        "* dti : a unique ratio calculated (0 to 56)\n",
        "* earliest_cr_line : month when the borrower credit line was open\n",
        "* open_acc : No. of open credit lines of borrower(0-90)\n",
        "* pub_rec :  No of bad public records\n",
        "* revol_bal : Total credit balance\n",
        "* revol_util : Amount of credit used by the customer\n",
        "* total_acc : total no of credit lines active\n",
        "* initial_list_status : initial listing status of loan (W,F)\n",
        "* application_type : type (Joint, Individual , Direct Pay)\n",
        "* mort_acc : No of mortage accounts\n",
        "* pub_rec_bankruptcies : No of public record of bankruptcies\n",
        "* Address : address of the individual\n"
      ],
      "metadata": {
        "id": "UnDsvr169_h9"
      }
    },
    {
      "cell_type": "code",
      "source": [
        "df.describe()"
      ],
      "metadata": {
        "id": "-XkEav8U1hHN",
        "outputId": "be9356b8-6e41-484c-9643-c69bee53eb8c",
        "colab": {
          "base_uri": "https://localhost:8080/",
          "height": 320
        }
      },
      "execution_count": null,
      "outputs": [
        {
          "output_type": "execute_result",
          "data": {
            "text/plain": [
              "           loan_amnt       int_rate    installment    annual_inc  \\\n",
              "count  396030.000000  396030.000000  396030.000000  3.960300e+05   \n",
              "mean    14113.888089      13.639400     431.849698  7.420318e+04   \n",
              "std      8357.441341       4.472157     250.727790  6.163762e+04   \n",
              "min       500.000000       5.320000      16.080000  0.000000e+00   \n",
              "25%      8000.000000      10.490000     250.330000  4.500000e+04   \n",
              "50%     12000.000000      13.330000     375.430000  6.400000e+04   \n",
              "75%     20000.000000      16.490000     567.300000  9.000000e+04   \n",
              "max     40000.000000      30.990000    1533.810000  8.706582e+06   \n",
              "\n",
              "                 dti       open_acc        pub_rec     revol_bal  \\\n",
              "count  396030.000000  396030.000000  396030.000000  3.960300e+05   \n",
              "mean       17.379514      11.311153       0.178191  1.584454e+04   \n",
              "std        18.019092       5.137649       0.530671  2.059184e+04   \n",
              "min         0.000000       0.000000       0.000000  0.000000e+00   \n",
              "25%        11.280000       8.000000       0.000000  6.025000e+03   \n",
              "50%        16.910000      10.000000       0.000000  1.118100e+04   \n",
              "75%        22.980000      14.000000       0.000000  1.962000e+04   \n",
              "max      9999.000000      90.000000      86.000000  1.743266e+06   \n",
              "\n",
              "          revol_util      total_acc       mort_acc  pub_rec_bankruptcies  \n",
              "count  395754.000000  396030.000000  358235.000000         395495.000000  \n",
              "mean       53.791749      25.414744       1.813991              0.121648  \n",
              "std        24.452193      11.886991       2.147930              0.356174  \n",
              "min         0.000000       2.000000       0.000000              0.000000  \n",
              "25%        35.800000      17.000000       0.000000              0.000000  \n",
              "50%        54.800000      24.000000       1.000000              0.000000  \n",
              "75%        72.900000      32.000000       3.000000              0.000000  \n",
              "max       892.300000     151.000000      34.000000              8.000000  "
            ],
            "text/html": [
              "\n",
              "  <div id=\"df-8bbe03d6-d9c7-4dc6-8a70-e16b33308858\" class=\"colab-df-container\">\n",
              "    <div>\n",
              "<style scoped>\n",
              "    .dataframe tbody tr th:only-of-type {\n",
              "        vertical-align: middle;\n",
              "    }\n",
              "\n",
              "    .dataframe tbody tr th {\n",
              "        vertical-align: top;\n",
              "    }\n",
              "\n",
              "    .dataframe thead th {\n",
              "        text-align: right;\n",
              "    }\n",
              "</style>\n",
              "<table border=\"1\" class=\"dataframe\">\n",
              "  <thead>\n",
              "    <tr style=\"text-align: right;\">\n",
              "      <th></th>\n",
              "      <th>loan_amnt</th>\n",
              "      <th>int_rate</th>\n",
              "      <th>installment</th>\n",
              "      <th>annual_inc</th>\n",
              "      <th>dti</th>\n",
              "      <th>open_acc</th>\n",
              "      <th>pub_rec</th>\n",
              "      <th>revol_bal</th>\n",
              "      <th>revol_util</th>\n",
              "      <th>total_acc</th>\n",
              "      <th>mort_acc</th>\n",
              "      <th>pub_rec_bankruptcies</th>\n",
              "    </tr>\n",
              "  </thead>\n",
              "  <tbody>\n",
              "    <tr>\n",
              "      <th>count</th>\n",
              "      <td>396030.000000</td>\n",
              "      <td>396030.000000</td>\n",
              "      <td>396030.000000</td>\n",
              "      <td>3.960300e+05</td>\n",
              "      <td>396030.000000</td>\n",
              "      <td>396030.000000</td>\n",
              "      <td>396030.000000</td>\n",
              "      <td>3.960300e+05</td>\n",
              "      <td>395754.000000</td>\n",
              "      <td>396030.000000</td>\n",
              "      <td>358235.000000</td>\n",
              "      <td>395495.000000</td>\n",
              "    </tr>\n",
              "    <tr>\n",
              "      <th>mean</th>\n",
              "      <td>14113.888089</td>\n",
              "      <td>13.639400</td>\n",
              "      <td>431.849698</td>\n",
              "      <td>7.420318e+04</td>\n",
              "      <td>17.379514</td>\n",
              "      <td>11.311153</td>\n",
              "      <td>0.178191</td>\n",
              "      <td>1.584454e+04</td>\n",
              "      <td>53.791749</td>\n",
              "      <td>25.414744</td>\n",
              "      <td>1.813991</td>\n",
              "      <td>0.121648</td>\n",
              "    </tr>\n",
              "    <tr>\n",
              "      <th>std</th>\n",
              "      <td>8357.441341</td>\n",
              "      <td>4.472157</td>\n",
              "      <td>250.727790</td>\n",
              "      <td>6.163762e+04</td>\n",
              "      <td>18.019092</td>\n",
              "      <td>5.137649</td>\n",
              "      <td>0.530671</td>\n",
              "      <td>2.059184e+04</td>\n",
              "      <td>24.452193</td>\n",
              "      <td>11.886991</td>\n",
              "      <td>2.147930</td>\n",
              "      <td>0.356174</td>\n",
              "    </tr>\n",
              "    <tr>\n",
              "      <th>min</th>\n",
              "      <td>500.000000</td>\n",
              "      <td>5.320000</td>\n",
              "      <td>16.080000</td>\n",
              "      <td>0.000000e+00</td>\n",
              "      <td>0.000000</td>\n",
              "      <td>0.000000</td>\n",
              "      <td>0.000000</td>\n",
              "      <td>0.000000e+00</td>\n",
              "      <td>0.000000</td>\n",
              "      <td>2.000000</td>\n",
              "      <td>0.000000</td>\n",
              "      <td>0.000000</td>\n",
              "    </tr>\n",
              "    <tr>\n",
              "      <th>25%</th>\n",
              "      <td>8000.000000</td>\n",
              "      <td>10.490000</td>\n",
              "      <td>250.330000</td>\n",
              "      <td>4.500000e+04</td>\n",
              "      <td>11.280000</td>\n",
              "      <td>8.000000</td>\n",
              "      <td>0.000000</td>\n",
              "      <td>6.025000e+03</td>\n",
              "      <td>35.800000</td>\n",
              "      <td>17.000000</td>\n",
              "      <td>0.000000</td>\n",
              "      <td>0.000000</td>\n",
              "    </tr>\n",
              "    <tr>\n",
              "      <th>50%</th>\n",
              "      <td>12000.000000</td>\n",
              "      <td>13.330000</td>\n",
              "      <td>375.430000</td>\n",
              "      <td>6.400000e+04</td>\n",
              "      <td>16.910000</td>\n",
              "      <td>10.000000</td>\n",
              "      <td>0.000000</td>\n",
              "      <td>1.118100e+04</td>\n",
              "      <td>54.800000</td>\n",
              "      <td>24.000000</td>\n",
              "      <td>1.000000</td>\n",
              "      <td>0.000000</td>\n",
              "    </tr>\n",
              "    <tr>\n",
              "      <th>75%</th>\n",
              "      <td>20000.000000</td>\n",
              "      <td>16.490000</td>\n",
              "      <td>567.300000</td>\n",
              "      <td>9.000000e+04</td>\n",
              "      <td>22.980000</td>\n",
              "      <td>14.000000</td>\n",
              "      <td>0.000000</td>\n",
              "      <td>1.962000e+04</td>\n",
              "      <td>72.900000</td>\n",
              "      <td>32.000000</td>\n",
              "      <td>3.000000</td>\n",
              "      <td>0.000000</td>\n",
              "    </tr>\n",
              "    <tr>\n",
              "      <th>max</th>\n",
              "      <td>40000.000000</td>\n",
              "      <td>30.990000</td>\n",
              "      <td>1533.810000</td>\n",
              "      <td>8.706582e+06</td>\n",
              "      <td>9999.000000</td>\n",
              "      <td>90.000000</td>\n",
              "      <td>86.000000</td>\n",
              "      <td>1.743266e+06</td>\n",
              "      <td>892.300000</td>\n",
              "      <td>151.000000</td>\n",
              "      <td>34.000000</td>\n",
              "      <td>8.000000</td>\n",
              "    </tr>\n",
              "  </tbody>\n",
              "</table>\n",
              "</div>\n",
              "    <div class=\"colab-df-buttons\">\n",
              "\n",
              "  <div class=\"colab-df-container\">\n",
              "    <button class=\"colab-df-convert\" onclick=\"convertToInteractive('df-8bbe03d6-d9c7-4dc6-8a70-e16b33308858')\"\n",
              "            title=\"Convert this dataframe to an interactive table.\"\n",
              "            style=\"display:none;\">\n",
              "\n",
              "  <svg xmlns=\"http://www.w3.org/2000/svg\" height=\"24px\" viewBox=\"0 -960 960 960\">\n",
              "    <path d=\"M120-120v-720h720v720H120Zm60-500h600v-160H180v160Zm220 220h160v-160H400v160Zm0 220h160v-160H400v160ZM180-400h160v-160H180v160Zm440 0h160v-160H620v160ZM180-180h160v-160H180v160Zm440 0h160v-160H620v160Z\"/>\n",
              "  </svg>\n",
              "    </button>\n",
              "\n",
              "  <style>\n",
              "    .colab-df-container {\n",
              "      display:flex;\n",
              "      gap: 12px;\n",
              "    }\n",
              "\n",
              "    .colab-df-convert {\n",
              "      background-color: #E8F0FE;\n",
              "      border: none;\n",
              "      border-radius: 50%;\n",
              "      cursor: pointer;\n",
              "      display: none;\n",
              "      fill: #1967D2;\n",
              "      height: 32px;\n",
              "      padding: 0 0 0 0;\n",
              "      width: 32px;\n",
              "    }\n",
              "\n",
              "    .colab-df-convert:hover {\n",
              "      background-color: #E2EBFA;\n",
              "      box-shadow: 0px 1px 2px rgba(60, 64, 67, 0.3), 0px 1px 3px 1px rgba(60, 64, 67, 0.15);\n",
              "      fill: #174EA6;\n",
              "    }\n",
              "\n",
              "    .colab-df-buttons div {\n",
              "      margin-bottom: 4px;\n",
              "    }\n",
              "\n",
              "    [theme=dark] .colab-df-convert {\n",
              "      background-color: #3B4455;\n",
              "      fill: #D2E3FC;\n",
              "    }\n",
              "\n",
              "    [theme=dark] .colab-df-convert:hover {\n",
              "      background-color: #434B5C;\n",
              "      box-shadow: 0px 1px 3px 1px rgba(0, 0, 0, 0.15);\n",
              "      filter: drop-shadow(0px 1px 2px rgba(0, 0, 0, 0.3));\n",
              "      fill: #FFFFFF;\n",
              "    }\n",
              "  </style>\n",
              "\n",
              "    <script>\n",
              "      const buttonEl =\n",
              "        document.querySelector('#df-8bbe03d6-d9c7-4dc6-8a70-e16b33308858 button.colab-df-convert');\n",
              "      buttonEl.style.display =\n",
              "        google.colab.kernel.accessAllowed ? 'block' : 'none';\n",
              "\n",
              "      async function convertToInteractive(key) {\n",
              "        const element = document.querySelector('#df-8bbe03d6-d9c7-4dc6-8a70-e16b33308858');\n",
              "        const dataTable =\n",
              "          await google.colab.kernel.invokeFunction('convertToInteractive',\n",
              "                                                    [key], {});\n",
              "        if (!dataTable) return;\n",
              "\n",
              "        const docLinkHtml = 'Like what you see? Visit the ' +\n",
              "          '<a target=\"_blank\" href=https://colab.research.google.com/notebooks/data_table.ipynb>data table notebook</a>'\n",
              "          + ' to learn more about interactive tables.';\n",
              "        element.innerHTML = '';\n",
              "        dataTable['output_type'] = 'display_data';\n",
              "        await google.colab.output.renderOutput(dataTable, element);\n",
              "        const docLink = document.createElement('div');\n",
              "        docLink.innerHTML = docLinkHtml;\n",
              "        element.appendChild(docLink);\n",
              "      }\n",
              "    </script>\n",
              "  </div>\n",
              "\n",
              "\n",
              "<div id=\"df-5a41f74b-94ac-4688-ab7d-313cfd5ba1bc\">\n",
              "  <button class=\"colab-df-quickchart\" onclick=\"quickchart('df-5a41f74b-94ac-4688-ab7d-313cfd5ba1bc')\"\n",
              "            title=\"Suggest charts\"\n",
              "            style=\"display:none;\">\n",
              "\n",
              "<svg xmlns=\"http://www.w3.org/2000/svg\" height=\"24px\"viewBox=\"0 0 24 24\"\n",
              "     width=\"24px\">\n",
              "    <g>\n",
              "        <path d=\"M19 3H5c-1.1 0-2 .9-2 2v14c0 1.1.9 2 2 2h14c1.1 0 2-.9 2-2V5c0-1.1-.9-2-2-2zM9 17H7v-7h2v7zm4 0h-2V7h2v10zm4 0h-2v-4h2v4z\"/>\n",
              "    </g>\n",
              "</svg>\n",
              "  </button>\n",
              "\n",
              "<style>\n",
              "  .colab-df-quickchart {\n",
              "      --bg-color: #E8F0FE;\n",
              "      --fill-color: #1967D2;\n",
              "      --hover-bg-color: #E2EBFA;\n",
              "      --hover-fill-color: #174EA6;\n",
              "      --disabled-fill-color: #AAA;\n",
              "      --disabled-bg-color: #DDD;\n",
              "  }\n",
              "\n",
              "  [theme=dark] .colab-df-quickchart {\n",
              "      --bg-color: #3B4455;\n",
              "      --fill-color: #D2E3FC;\n",
              "      --hover-bg-color: #434B5C;\n",
              "      --hover-fill-color: #FFFFFF;\n",
              "      --disabled-bg-color: #3B4455;\n",
              "      --disabled-fill-color: #666;\n",
              "  }\n",
              "\n",
              "  .colab-df-quickchart {\n",
              "    background-color: var(--bg-color);\n",
              "    border: none;\n",
              "    border-radius: 50%;\n",
              "    cursor: pointer;\n",
              "    display: none;\n",
              "    fill: var(--fill-color);\n",
              "    height: 32px;\n",
              "    padding: 0;\n",
              "    width: 32px;\n",
              "  }\n",
              "\n",
              "  .colab-df-quickchart:hover {\n",
              "    background-color: var(--hover-bg-color);\n",
              "    box-shadow: 0 1px 2px rgba(60, 64, 67, 0.3), 0 1px 3px 1px rgba(60, 64, 67, 0.15);\n",
              "    fill: var(--button-hover-fill-color);\n",
              "  }\n",
              "\n",
              "  .colab-df-quickchart-complete:disabled,\n",
              "  .colab-df-quickchart-complete:disabled:hover {\n",
              "    background-color: var(--disabled-bg-color);\n",
              "    fill: var(--disabled-fill-color);\n",
              "    box-shadow: none;\n",
              "  }\n",
              "\n",
              "  .colab-df-spinner {\n",
              "    border: 2px solid var(--fill-color);\n",
              "    border-color: transparent;\n",
              "    border-bottom-color: var(--fill-color);\n",
              "    animation:\n",
              "      spin 1s steps(1) infinite;\n",
              "  }\n",
              "\n",
              "  @keyframes spin {\n",
              "    0% {\n",
              "      border-color: transparent;\n",
              "      border-bottom-color: var(--fill-color);\n",
              "      border-left-color: var(--fill-color);\n",
              "    }\n",
              "    20% {\n",
              "      border-color: transparent;\n",
              "      border-left-color: var(--fill-color);\n",
              "      border-top-color: var(--fill-color);\n",
              "    }\n",
              "    30% {\n",
              "      border-color: transparent;\n",
              "      border-left-color: var(--fill-color);\n",
              "      border-top-color: var(--fill-color);\n",
              "      border-right-color: var(--fill-color);\n",
              "    }\n",
              "    40% {\n",
              "      border-color: transparent;\n",
              "      border-right-color: var(--fill-color);\n",
              "      border-top-color: var(--fill-color);\n",
              "    }\n",
              "    60% {\n",
              "      border-color: transparent;\n",
              "      border-right-color: var(--fill-color);\n",
              "    }\n",
              "    80% {\n",
              "      border-color: transparent;\n",
              "      border-right-color: var(--fill-color);\n",
              "      border-bottom-color: var(--fill-color);\n",
              "    }\n",
              "    90% {\n",
              "      border-color: transparent;\n",
              "      border-bottom-color: var(--fill-color);\n",
              "    }\n",
              "  }\n",
              "</style>\n",
              "\n",
              "  <script>\n",
              "    async function quickchart(key) {\n",
              "      const quickchartButtonEl =\n",
              "        document.querySelector('#' + key + ' button');\n",
              "      quickchartButtonEl.disabled = true;  // To prevent multiple clicks.\n",
              "      quickchartButtonEl.classList.add('colab-df-spinner');\n",
              "      try {\n",
              "        const charts = await google.colab.kernel.invokeFunction(\n",
              "            'suggestCharts', [key], {});\n",
              "      } catch (error) {\n",
              "        console.error('Error during call to suggestCharts:', error);\n",
              "      }\n",
              "      quickchartButtonEl.classList.remove('colab-df-spinner');\n",
              "      quickchartButtonEl.classList.add('colab-df-quickchart-complete');\n",
              "    }\n",
              "    (() => {\n",
              "      let quickchartButtonEl =\n",
              "        document.querySelector('#df-5a41f74b-94ac-4688-ab7d-313cfd5ba1bc button');\n",
              "      quickchartButtonEl.style.display =\n",
              "        google.colab.kernel.accessAllowed ? 'block' : 'none';\n",
              "    })();\n",
              "  </script>\n",
              "</div>\n",
              "\n",
              "    </div>\n",
              "  </div>\n"
            ],
            "application/vnd.google.colaboratory.intrinsic+json": {
              "type": "dataframe",
              "summary": "{\n  \"name\": \"df\",\n  \"rows\": 8,\n  \"fields\": [\n    {\n      \"column\": \"loan_amnt\",\n      \"properties\": {\n        \"dtype\": \"number\",\n        \"std\": 135325.93918604957,\n        \"min\": 500.0,\n        \"max\": 396030.0,\n        \"num_unique_values\": 8,\n        \"samples\": [\n          14113.888089286165,\n          12000.0,\n          396030.0\n        ],\n        \"semantic_type\": \"\",\n        \"description\": \"\"\n      }\n    },\n    {\n      \"column\": \"int_rate\",\n      \"properties\": {\n        \"dtype\": \"number\",\n        \"std\": 140012.96485144028,\n        \"min\": 4.472157381531264,\n        \"max\": 396030.0,\n        \"num_unique_values\": 8,\n        \"samples\": [\n          13.6394000454511,\n          13.33,\n          396030.0\n        ],\n        \"semantic_type\": \"\",\n        \"description\": \"\"\n      }\n    },\n    {\n      \"column\": \"installment\",\n      \"properties\": {\n        \"dtype\": \"number\",\n        \"std\": 139845.47529700142,\n        \"min\": 16.08,\n        \"max\": 396030.0,\n        \"num_unique_values\": 8,\n        \"samples\": [\n          431.84969802792716,\n          375.43,\n          396030.0\n        ],\n        \"semantic_type\": \"\",\n        \"description\": \"\"\n      }\n    },\n    {\n      \"column\": \"annual_inc\",\n      \"properties\": {\n        \"dtype\": \"number\",\n        \"std\": 3043769.9082227983,\n        \"min\": 0.0,\n        \"max\": 8706582.0,\n        \"num_unique_values\": 8,\n        \"samples\": [\n          74203.17579771738,\n          64000.0,\n          396030.0\n        ],\n        \"semantic_type\": \"\",\n        \"description\": \"\"\n      }\n    },\n    {\n      \"column\": \"dti\",\n      \"properties\": {\n        \"dtype\": \"number\",\n        \"std\": 139552.09502751552,\n        \"min\": 0.0,\n        \"max\": 396030.0,\n        \"num_unique_values\": 8,\n        \"samples\": [\n          17.379513647955967,\n          16.91,\n          396030.0\n        ],\n        \"semantic_type\": \"\",\n        \"description\": \"\"\n      }\n    },\n    {\n      \"column\": \"open_acc\",\n      \"properties\": {\n        \"dtype\": \"number\",\n        \"std\": 140010.75955392266,\n        \"min\": 0.0,\n        \"max\": 396030.0,\n        \"num_unique_values\": 8,\n        \"samples\": [\n          11.31115319546499,\n          10.0,\n          396030.0\n        ],\n        \"semantic_type\": \"\",\n        \"description\": \"\"\n      }\n    },\n    {\n      \"column\": \"pub_rec\",\n      \"properties\": {\n        \"dtype\": \"number\",\n        \"std\": 140013.37304312375,\n        \"min\": 0.0,\n        \"max\": 396030.0,\n        \"num_unique_values\": 5,\n        \"samples\": [\n          0.17819104613286874,\n          86.0,\n          0.530670600474012\n        ],\n        \"semantic_type\": \"\",\n        \"description\": \"\"\n      }\n    },\n    {\n      \"column\": \"revol_bal\",\n      \"properties\": {\n        \"dtype\": \"number\",\n        \"std\": 607701.8324003754,\n        \"min\": 0.0,\n        \"max\": 1743266.0,\n        \"num_unique_values\": 8,\n        \"samples\": [\n          15844.539853041437,\n          11181.0,\n          396030.0\n        ],\n        \"semantic_type\": \"\",\n        \"description\": \"\"\n      }\n    },\n    {\n      \"column\": \"revol_util\",\n      \"properties\": {\n        \"dtype\": \"number\",\n        \"std\": 139863.2101518472,\n        \"min\": 0.0,\n        \"max\": 395754.0,\n        \"num_unique_values\": 8,\n        \"samples\": [\n          53.79174863677942,\n          54.8,\n          395754.0\n        ],\n        \"semantic_type\": \"\",\n        \"description\": \"\"\n      }\n    },\n    {\n      \"column\": \"total_acc\",\n      \"properties\": {\n        \"dtype\": \"number\",\n        \"std\": 140004.4584781143,\n        \"min\": 2.0,\n        \"max\": 396030.0,\n        \"num_unique_values\": 8,\n        \"samples\": [\n          25.41474383253794,\n          24.0,\n          396030.0\n        ],\n        \"semantic_type\": \"\",\n        \"description\": \"\"\n      }\n    },\n    {\n      \"column\": \"mort_acc\",\n      \"properties\": {\n        \"dtype\": \"number\",\n        \"std\": 126653.08000228764,\n        \"min\": 0.0,\n        \"max\": 358235.0,\n        \"num_unique_values\": 7,\n        \"samples\": [\n          358235.0,\n          1.8139908160844138,\n          3.0\n        ],\n        \"semantic_type\": \"\",\n        \"description\": \"\"\n      }\n    },\n    {\n      \"column\": \"pub_rec_bankruptcies\",\n      \"properties\": {\n        \"dtype\": \"number\",\n        \"std\": 139828.17004554253,\n        \"min\": 0.0,\n        \"max\": 395495.0,\n        \"num_unique_values\": 5,\n        \"samples\": [\n          0.12164755559488742,\n          8.0,\n          0.3561742766275257\n        ],\n        \"semantic_type\": \"\",\n        \"description\": \"\"\n      }\n    }\n  ]\n}"
            }
          },
          "metadata": {},
          "execution_count": 17
        }
      ]
    },
    {
      "cell_type": "markdown",
      "source": [
        "#### Unique Values"
      ],
      "metadata": {
        "id": "OB4As-VfR2Xi"
      }
    },
    {
      "cell_type": "code",
      "source": [
        "df.nunique()"
      ],
      "metadata": {
        "colab": {
          "base_uri": "https://localhost:8080/"
        },
        "id": "z5CDQjPxRtY-",
        "outputId": "64951be6-bd5f-4d9f-a5ad-626f5cc319ee"
      },
      "execution_count": null,
      "outputs": [
        {
          "output_type": "execute_result",
          "data": {
            "text/plain": [
              "loan_amnt                 1397\n",
              "term                         2\n",
              "int_rate                   566\n",
              "installment              55706\n",
              "grade                        7\n",
              "sub_grade                   35\n",
              "emp_title               173105\n",
              "emp_length                  11\n",
              "home_ownership               6\n",
              "annual_inc               27197\n",
              "verification_status          3\n",
              "issue_d                    115\n",
              "loan_status                  2\n",
              "purpose                     14\n",
              "title                    48816\n",
              "dti                       4262\n",
              "earliest_cr_line           684\n",
              "open_acc                    61\n",
              "pub_rec                     20\n",
              "revol_bal                55622\n",
              "revol_util                1226\n",
              "total_acc                  118\n",
              "initial_list_status          2\n",
              "application_type             3\n",
              "mort_acc                    33\n",
              "pub_rec_bankruptcies         9\n",
              "address                 393700\n",
              "dtype: int64"
            ]
          },
          "metadata": {},
          "execution_count": 18
        }
      ]
    },
    {
      "cell_type": "markdown",
      "source": [
        "#### Checking for null values"
      ],
      "metadata": {
        "id": "HN61Z2HnWRQ8"
      }
    },
    {
      "cell_type": "code",
      "source": [
        "df.isna().sum()"
      ],
      "metadata": {
        "colab": {
          "base_uri": "https://localhost:8080/"
        },
        "id": "UXYq3QxLR9pD",
        "outputId": "43d4ade9-d68a-431c-a019-425fe81bbe65"
      },
      "execution_count": null,
      "outputs": [
        {
          "output_type": "execute_result",
          "data": {
            "text/plain": [
              "loan_amnt                   0\n",
              "term                        0\n",
              "int_rate                    0\n",
              "installment                 0\n",
              "grade                       0\n",
              "sub_grade                   0\n",
              "emp_title               22927\n",
              "emp_length              18301\n",
              "home_ownership              0\n",
              "annual_inc                  0\n",
              "verification_status         0\n",
              "issue_d                     0\n",
              "loan_status                 0\n",
              "purpose                     0\n",
              "title                    1756\n",
              "dti                         0\n",
              "earliest_cr_line            0\n",
              "open_acc                    0\n",
              "pub_rec                     0\n",
              "revol_bal                   0\n",
              "revol_util                276\n",
              "total_acc                   0\n",
              "initial_list_status         0\n",
              "application_type            0\n",
              "mort_acc                37795\n",
              "pub_rec_bankruptcies      535\n",
              "address                     0\n",
              "dtype: int64"
            ]
          },
          "metadata": {},
          "execution_count": 19
        }
      ]
    },
    {
      "cell_type": "markdown",
      "source": [
        "#### Distribution of target variable"
      ],
      "metadata": {
        "id": "GCj3E6l6TXrZ"
      }
    },
    {
      "cell_type": "code",
      "source": [
        "df['loan_status'].value_counts(normalize=True)"
      ],
      "metadata": {
        "colab": {
          "base_uri": "https://localhost:8080/"
        },
        "id": "OJ121XFoTap8",
        "outputId": "986a773c-30a4-418c-a2c9-52c01e378efa"
      },
      "execution_count": null,
      "outputs": [
        {
          "output_type": "execute_result",
          "data": {
            "text/plain": [
              "loan_status\n",
              "Fully Paid     0.803871\n",
              "Charged Off    0.196129\n",
              "Name: proportion, dtype: float64"
            ]
          },
          "metadata": {},
          "execution_count": 20
        }
      ]
    },
    {
      "cell_type": "markdown",
      "source": [
        "* There is imbalance in the data so accuracy metric cannot be used for model evaluation\n",
        "* Lets fit a model to the data as it is and then try to address the imbalance and then fit a model again"
      ],
      "metadata": {
        "id": "JV4mQHfjTqDq"
      }
    },
    {
      "cell_type": "markdown",
      "source": [
        "#### Heatmaps to check linearity"
      ],
      "metadata": {
        "id": "ZT2kxDB6POpc"
      }
    },
    {
      "cell_type": "code",
      "source": [
        "sns.heatmap(df.select_dtypes(include='number').corr())"
      ],
      "metadata": {
        "colab": {
          "base_uri": "https://localhost:8080/",
          "height": 591
        },
        "id": "DGbQps1LUAxN",
        "outputId": "e7fd2d77-0a22-4efb-a697-5dfbd687fb27"
      },
      "execution_count": null,
      "outputs": [
        {
          "output_type": "execute_result",
          "data": {
            "text/plain": [
              "<Axes: >"
            ]
          },
          "metadata": {},
          "execution_count": 21
        },
        {
          "output_type": "display_data",
          "data": {
            "text/plain": [
              "<Figure size 640x480 with 2 Axes>"
            ],
            "image/png": "[encoded data removed]"
          },
          "metadata": {}
        }
      ]
    },
    {
      "cell_type": "markdown",
      "source": [
        "* From the heat map we can see that loan amount and installment amount are highly correlated . So we can considet one of the feature for further analysis"
      ],
      "metadata": {
        "id": "ghCLbG15U8Mb"
      }
    },
    {
      "cell_type": "code",
      "source": [
        "sns.heatmap(df.select_dtypes(include='number').corr(method='pearson'))"
      ],
      "metadata": {
        "colab": {
          "base_uri": "https://localhost:8080/",
          "height": 591
        },
        "id": "A1x6R7pwVKQC",
        "outputId": "f246609b-f4a2-4048-b41b-f6e13e8b9741"
      },
      "execution_count": null,
      "outputs": [
        {
          "output_type": "execute_result",
          "data": {
            "text/plain": [
              "<Axes: >"
            ]
          },
          "metadata": {},
          "execution_count": 22
        },
        {
          "output_type": "display_data",
          "data": {
            "text/plain": [
              "<Figure size 640x480 with 2 Axes>"
            ],
            "image/png": "[encoded data removed]"
          },
          "metadata": {}
        }
      ]
    },
    {
      "cell_type": "markdown",
      "source": [
        "* From both the heatmaps we see a similar correlation between the columns in both spearman and pearson correlation. This say that the features are non- linear."
      ],
      "metadata": {
        "id": "AM6vViOCVWNR"
      }
    },
    {
      "cell_type": "code",
      "source": [
        "# Dropping installemnt column\n",
        "df.drop(columns=['installment'],inplace=True)"
      ],
      "metadata": {
        "id": "JD5hyQzIVubE"
      },
      "execution_count": null,
      "outputs": []
    },
    {
      "cell_type": "markdown",
      "source": [
        "#### Countplots to detemine behaviour of features against Target Variable"
      ],
      "metadata": {
        "id": "8spub47pPZ0m"
      }
    },
    {
      "cell_type": "code",
      "source": [
        "fig, axes = plt.subplots(nrows=3, ncols=2, figsize=(12, 10))\n",
        "\n",
        "sns.countplot(x='term', hue='loan_status', data=df, ax=axes[0,0], palette='mako')\n",
        "axes[0,0].set_title('Loan Status vs. Term')\n",
        "axes[0,0].set_xlabel('Term')\n",
        "axes[0,0].set_ylabel('Count')\n",
        "\n",
        "sns.countplot(x='home_ownership', hue='loan_status', data=df, ax=axes[0,1], palette='mako')\n",
        "axes[0,1].set_title('Loan Status vs. Home Ownership')\n",
        "axes[0,1].set_xlabel('Home Ownership')\n",
        "axes[0,1].set_ylabel('Count')\n",
        "\n",
        "sns.countplot(x='grade', hue='loan_status', data=df, ax=axes[1,0], palette='mako')\n",
        "axes[1,0].set_title('Loan Status vs. Grade')\n",
        "axes[1,0].set_xlabel('Grade')\n",
        "axes[1,0].set_ylabel('Count')\n",
        "\n",
        "sns.countplot(x='verification_status', hue='loan_status', data=df, ax=axes[1,1], palette='mako')\n",
        "axes[1,1].set_title('Loan Status vs. verification_status')\n",
        "axes[1,1].set_xlabel('verification_status')\n",
        "axes[1,1].set_ylabel('Count')\n",
        "\n",
        "sns.countplot(x='application_type', hue='loan_status', data=df, ax=axes[2,0], palette='mako')\n",
        "axes[2,0].set_title('Loan Status vs. Application Type')\n",
        "axes[2,0].set_xlabel('Application Type')\n",
        "axes[2,0].set_ylabel('Count')\n",
        "\n",
        "sns.countplot(x='initial_list_status', hue='loan_status', data=df, ax=axes[2,1], palette='mako')\n",
        "axes[2,1].set_title('Loan Status vs. Initial list status')\n",
        "axes[2,1].set_xlabel('Initial list status')\n",
        "axes[2,1].set_ylabel('Count')\n",
        "\n",
        "\n",
        "# Adjust layout\n",
        "plt.tight_layout()\n",
        "plt.show()"
      ],
      "metadata": {
        "colab": {
          "base_uri": "https://localhost:8080/",
          "height": 1000
        },
        "id": "TXi-Pc0SWe3G",
        "outputId": "5e6dd261-205c-4d85-bb7a-832a9185ea6d"
      },
      "execution_count": null,
      "outputs": [
        {
          "output_type": "display_data",
          "data": {
            "text/plain": [
              "<Figure size 1200x1000 with 6 Axes>"
            ],
            "image/png": "[encoded data removed]"
          },
          "metadata": {}
        }
      ]
    },
    {
      "cell_type": "code",
      "source": [
        "plt.figure(figsize=(10, 6))\n",
        "sns.countplot(data=df,x='sub_grade',hue='loan_status',palette='mako')\n",
        "plt.title('Loan Status vs. Sub Grade')\n",
        "plt.xlabel('Sub Grade')\n",
        "plt.ylabel('Count')\n",
        "plt.show()"
      ],
      "metadata": {
        "colab": {
          "base_uri": "https://localhost:8080/",
          "height": 564
        },
        "id": "WwcwdRcaJZZB",
        "outputId": "52116dfb-b810-4eee-c268-994ed2c7f1f9"
      },
      "execution_count": null,
      "outputs": [
        {
          "output_type": "display_data",
          "data": {
            "text/plain": [
              "<Figure size 1000x600 with 1 Axes>"
            ],
            "image/png": "[encoded data removed]"
          },
          "metadata": {}
        }
      ]
    },
    {
      "cell_type": "markdown",
      "source": [
        "**Observations** from the above countplots:\n",
        "* People taking loan for period of **36 months** is higher compared to 60 months\n",
        "* No of people taking loan against house ownership varies as **MORTGAGE > RENT > OWN** , while the other categories are minimal.\n",
        "* In verification status almost all the categories have **equal** distribution of customers\n",
        "* When considering the application type for loan we see that **individual** category dominates this feature.\n",
        "* Most number of people in grade B paid off the loan.\n",
        "* In Grade B most people in sub_grade **B3** have paid off their loans.\n",
        "* Small number of people are categorised in **G** grade.\n",
        "* The no of defaulters in **sub_grade A1** is the least, implying genuine people."
      ],
      "metadata": {
        "id": "MIhv2sTzNRdZ"
      }
    },
    {
      "cell_type": "markdown",
      "source": [
        "## Feature Engineering"
      ],
      "metadata": {
        "id": "1-2k52oVqXsb"
      }
    },
    {
      "cell_type": "code",
      "source": [
        "df['term']=df['term'].str.strip()\n",
        "map = {'36 months':36,'60 months':60}\n",
        "df['term']=df['term'].map(map)"
      ],
      "metadata": {
        "id": "pQ7HEn2Ebwe-"
      },
      "execution_count": null,
      "outputs": []
    },
    {
      "cell_type": "code",
      "source": [
        "df['emp_length'].value_counts()\n",
        "df['emp_length']=df['emp_length'].str.strip()\n",
        "map = {'10+ years':10,'2 years':2,'< 1 year':1,'3 years':3,'5 years':5,'6 years':6,\n",
        "      '4 years':4,'1 year':1,'7 years':7,'8 years':8,'9 years':9}\n",
        "df['emp_length']=df['emp_length'].map(map)"
      ],
      "metadata": {
        "id": "l8vYcxSfb2C8"
      },
      "execution_count": null,
      "outputs": []
    },
    {
      "cell_type": "code",
      "source": [
        "df.loc[(df['home_ownership']=='NONE') |(df['home_ownership']=='ANY'),'home_ownership']='OTHER'"
      ],
      "metadata": {
        "id": "00TtJy2Rb5gM"
      },
      "execution_count": null,
      "outputs": []
    },
    {
      "cell_type": "markdown",
      "source": [
        "Extracting zip code from address column"
      ],
      "metadata": {
        "id": "PrE2T2RpsPcQ"
      }
    },
    {
      "cell_type": "code",
      "source": [
        "df['zipcode']=df['address'].apply(lambda x:x[-5:])"
      ],
      "metadata": {
        "id": "WinoP1p8cJ-Y"
      },
      "execution_count": null,
      "outputs": []
    },
    {
      "cell_type": "markdown",
      "source": [
        "Dropping the address column"
      ],
      "metadata": {
        "id": "NfiXo4xScOIz"
      }
    },
    {
      "cell_type": "code",
      "source": [
        "df.drop(columns=['address'],inplace=True)"
      ],
      "metadata": {
        "id": "HRfsBLgJcNxq"
      },
      "execution_count": null,
      "outputs": []
    },
    {
      "cell_type": "code",
      "source": [
        "df['grade']=pd.Categorical(df['grade'],categories=['A','B','C','D','E','F','G'],ordered=True)"
      ],
      "metadata": {
        "id": "8yQV2GyPcSn5"
      },
      "execution_count": null,
      "outputs": []
    },
    {
      "cell_type": "code",
      "source": [
        "df['sub_grade']=pd.Categorical(df['sub_grade'],categories=['A1','A2','A3','A4','A5','B1','B2','B3',\n",
        "                                          'B4','B5','C1','C2','C3','C4','C5','D1',\n",
        "                                          'D2','D3','D4','D5','E1','E2','E3','E4',\n",
        "                                          'E5','F1','F2','F3','F4','F5','G1','G2',\n",
        "                                           'G3','G4','G5'\n",
        "                                          ],ordered=True)"
      ],
      "metadata": {
        "id": "I55x8gT_c-YT"
      },
      "execution_count": null,
      "outputs": []
    },
    {
      "cell_type": "code",
      "source": [
        "df['verification_status']=df['verification_status'].astype('category')"
      ],
      "metadata": {
        "id": "RKTEvWSKdJIf"
      },
      "execution_count": null,
      "outputs": []
    },
    {
      "cell_type": "code",
      "source": [
        "df['initial_list_status'].astype('category')\n",
        "df['application_type'].astype('category')"
      ],
      "metadata": {
        "id": "F-JFZ0Txdc0f",
        "colab": {
          "base_uri": "https://localhost:8080/"
        },
        "outputId": "048a98c5-d01f-4fdc-b2b7-5c4d40d309a4"
      },
      "execution_count": null,
      "outputs": [
        {
          "output_type": "execute_result",
          "data": {
            "text/plain": [
              "0         INDIVIDUAL\n",
              "1         INDIVIDUAL\n",
              "2         INDIVIDUAL\n",
              "3         INDIVIDUAL\n",
              "4         INDIVIDUAL\n",
              "             ...    \n",
              "396025    INDIVIDUAL\n",
              "396026    INDIVIDUAL\n",
              "396027    INDIVIDUAL\n",
              "396028    INDIVIDUAL\n",
              "396029    INDIVIDUAL\n",
              "Name: application_type, Length: 396030, dtype: category\n",
              "Categories (3, object): ['DIRECT_PAY', 'INDIVIDUAL', 'JOINT']"
            ]
          },
          "metadata": {},
          "execution_count": 34
        }
      ]
    },
    {
      "cell_type": "code",
      "source": [
        "df['purpose'].value_counts()"
      ],
      "metadata": {
        "colab": {
          "base_uri": "https://localhost:8080/"
        },
        "id": "r7ZZ-PbbRUT-",
        "outputId": "36d6e88c-3b76-48af-90d1-67cf37d3e3f6"
      },
      "execution_count": null,
      "outputs": [
        {
          "output_type": "execute_result",
          "data": {
            "text/plain": [
              "purpose\n",
              "debt_consolidation    234507\n",
              "credit_card            83019\n",
              "home_improvement       24030\n",
              "other                  21185\n",
              "major_purchase          8790\n",
              "small_business          5701\n",
              "car                     4697\n",
              "medical                 4196\n",
              "moving                  2854\n",
              "vacation                2452\n",
              "house                   2201\n",
              "wedding                 1812\n",
              "renewable_energy         329\n",
              "educational              257\n",
              "Name: count, dtype: int64"
            ]
          },
          "metadata": {},
          "execution_count": 35
        }
      ]
    },
    {
      "cell_type": "code",
      "source": [
        "df['title'].value_counts()"
      ],
      "metadata": {
        "colab": {
          "base_uri": "https://localhost:8080/"
        },
        "id": "BY03-e9qRYsc",
        "outputId": "85dc667f-d15f-4f76-8573-c9d5f07ffcac"
      },
      "execution_count": null,
      "outputs": [
        {
          "output_type": "execute_result",
          "data": {
            "text/plain": [
              "title\n",
              "Debt consolidation            152472\n",
              "Credit card refinancing        51487\n",
              "Home improvement               15264\n",
              "Other                          12930\n",
              "Debt Consolidation             11608\n",
              "                               ...  \n",
              "Graduation/Travel Expenses         1\n",
              "Daughter's Wedding Bill            1\n",
              "gotta move                         1\n",
              "creditcardrefi                     1\n",
              "Toxic Debt Payoff                  1\n",
              "Name: count, Length: 48816, dtype: int64"
            ]
          },
          "metadata": {},
          "execution_count": 36
        }
      ]
    },
    {
      "cell_type": "markdown",
      "source": [
        "Purpose and title gives the same information so lets take one columns(purpose) for further computation as title has mistakes"
      ],
      "metadata": {
        "id": "c2hlL6K-RKip"
      }
    },
    {
      "cell_type": "code",
      "source": [
        "df.drop(columns=['title'],inplace=True)"
      ],
      "metadata": {
        "id": "b_hME0BxRJy-"
      },
      "execution_count": null,
      "outputs": []
    },
    {
      "cell_type": "code",
      "source": [
        "df['issue_d']= pd.to_datetime(df['issue_d'])\n",
        "df['earliest_cr_line']= pd.to_datetime(df['earliest_cr_line'])\n",
        "df['issue_year']=df['issue_d'].dt.year\n",
        "df['issue_month']=df['issue_d'].dt.month\n",
        "df['earliest_cr_year']=df['earliest_cr_line'].dt.year\n",
        "df['earliest_cr_month']=df['earliest_cr_line'].dt.month"
      ],
      "metadata": {
        "colab": {
          "base_uri": "https://localhost:8080/"
        },
        "id": "XhZ3V3M1qfnz",
        "outputId": "3cc07277-804d-449d-b7b6-c508ea3df4b2"
      },
      "execution_count": null,
      "outputs": [
        {
          "output_type": "stream",
          "name": "stderr",
          "text": [
            "<ipython-input-38-c9aab1ed1901>:1: UserWarning: Could not infer format, so each element will be parsed individually, falling back to `dateutil`. To ensure parsing is consistent and as-expected, please specify a format.\n",
            "  df['issue_d']= pd.to_datetime(df['issue_d'])\n",
            "<ipython-input-38-c9aab1ed1901>:2: UserWarning: Could not infer format, so each element will be parsed individually, falling back to `dateutil`. To ensure parsing is consistent and as-expected, please specify a format.\n",
            "  df['earliest_cr_line']= pd.to_datetime(df['earliest_cr_line'])\n"
          ]
        }
      ]
    },
    {
      "cell_type": "code",
      "source": [
        "df.drop(columns=['issue_d','earliest_cr_line'],inplace=True)"
      ],
      "metadata": {
        "id": "1EmtBPEYrnae"
      },
      "execution_count": null,
      "outputs": []
    },
    {
      "cell_type": "code",
      "source": [
        "df.info()"
      ],
      "metadata": {
        "colab": {
          "base_uri": "https://localhost:8080/"
        },
        "id": "6Jl26I0Dpzl_",
        "outputId": "14cb2e0e-da1b-40ed-ddf3-cc7592d167c7"
      },
      "execution_count": null,
      "outputs": [
        {
          "output_type": "stream",
          "name": "stdout",
          "text": [
            "<class 'pandas.core.frame.DataFrame'>\n",
            "RangeIndex: 396030 entries, 0 to 396029\n",
            "Data columns (total 27 columns):\n",
            " #   Column                Non-Null Count   Dtype   \n",
            "---  ------                --------------   -----   \n",
            " 0   loan_amnt             396030 non-null  float64 \n",
            " 1   term                  396030 non-null  int64   \n",
            " 2   int_rate              396030 non-null  float64 \n",
            " 3   grade                 396030 non-null  category\n",
            " 4   sub_grade             396030 non-null  category\n",
            " 5   emp_title             373103 non-null  object  \n",
            " 6   emp_length            377729 non-null  float64 \n",
            " 7   home_ownership        396030 non-null  object  \n",
            " 8   annual_inc            396030 non-null  float64 \n",
            " 9   verification_status   396030 non-null  category\n",
            " 10  loan_status           396030 non-null  object  \n",
            " 11  purpose               396030 non-null  object  \n",
            " 12  dti                   396030 non-null  float64 \n",
            " 13  open_acc              396030 non-null  float64 \n",
            " 14  pub_rec               396030 non-null  float64 \n",
            " 15  revol_bal             396030 non-null  float64 \n",
            " 16  revol_util            395754 non-null  float64 \n",
            " 17  total_acc             396030 non-null  float64 \n",
            " 18  initial_list_status   396030 non-null  object  \n",
            " 19  application_type      396030 non-null  object  \n",
            " 20  mort_acc              358235 non-null  float64 \n",
            " 21  pub_rec_bankruptcies  395495 non-null  float64 \n",
            " 22  zipcode               396030 non-null  object  \n",
            " 23  issue_year            396030 non-null  int32   \n",
            " 24  issue_month           396030 non-null  int32   \n",
            " 25  earliest_cr_year      396030 non-null  int32   \n",
            " 26  earliest_cr_month     396030 non-null  int32   \n",
            "dtypes: category(3), float64(12), int32(4), int64(1), object(7)\n",
            "memory usage: 67.6+ MB\n"
          ]
        }
      ]
    },
    {
      "cell_type": "markdown",
      "source": [
        "### Missing Values and Outlier Treatment"
      ],
      "metadata": {
        "id": "5JKJyzmYGPwF"
      }
    },
    {
      "cell_type": "markdown",
      "source": [
        "### **Box Plot representing outliers**"
      ],
      "metadata": {
        "id": "ED22VM1PI0pR"
      }
    },
    {
      "cell_type": "code",
      "source": [
        "plt.figure(figsize=(10, 8))\n",
        "plt.subplot(3, 2, 1)\n",
        "sns.boxplot(data=df, x='loan_amnt')\n",
        "plt.title('Boxplot of Loan Amount')\n",
        "\n",
        "plt.subplot(3, 2, 2)\n",
        "sns.boxplot(data=df, x='annual_inc')\n",
        "plt.title('Boxplot of Annual Income')\n",
        "\n",
        "plt.subplot(3, 2, 3)\n",
        "sns.boxplot(data=df, x='int_rate')\n",
        "plt.title('Boxplot of Interest rate')\n",
        "\n",
        "plt.subplot(3, 2, 4)\n",
        "sns.boxplot(data=df, x='dti')\n",
        "plt.title('Boxplot of Debt to Income')\n",
        "\n",
        "plt.subplot(3, 2, 5)\n",
        "sns.boxplot(data=df, x='revol_bal')\n",
        "plt.title('Boxplot of Revolving Balance')\n",
        "\n",
        "plt.subplot(3, 2, 6)\n",
        "sns.boxplot(data=df, x='revol_util')\n",
        "plt.title('Boxplot of Revolving Utilization')\n",
        "\n",
        "plt.tight_layout()\n",
        "plt.show()"
      ],
      "metadata": {
        "colab": {
          "base_uri": "https://localhost:8080/",
          "height": 807
        },
        "id": "8SaC9vWfIazs",
        "outputId": "af9f6219-d76c-4a7f-e9e4-5007615dc1bd"
      },
      "execution_count": null,
      "outputs": [
        {
          "output_type": "display_data",
          "data": {
            "text/plain": [
              "<Figure size 1000x800 with 6 Axes>"
            ],
            "image/png": "[encoded data removed]"
          },
          "metadata": {}
        }
      ]
    },
    {
      "cell_type": "code",
      "source": [
        "df_new = df.copy()\n",
        "outlier_cols = ['loan_amnt','int_rate','annual_inc','dti','revol_bal','revol_util']\n",
        "\n",
        "# Function to remove outliers from specified columns\n",
        "def remove_outliers(df, cols):\n",
        "    for col in cols:\n",
        "        q1 = df[col].quantile(0.25)\n",
        "        q3 = df[col].quantile(0.75)\n",
        "        iqr = q3 - q1\n",
        "        lower_bound = q1 - 1.5 * iqr\n",
        "        upper_bound = q3 + 1.5 * iqr\n",
        "        # Filter the dataframe to exclude outliers\n",
        "        df = df[(df[col] >= lower_bound) & (df[col] <= upper_bound)]\n",
        "    return df\n",
        "\n",
        "# Apply the function to the dataframe\n",
        "df_new = remove_outliers(df_new, outlier_cols)"
      ],
      "metadata": {
        "id": "ij7RfquWGdjG"
      },
      "execution_count": null,
      "outputs": []
    },
    {
      "cell_type": "markdown",
      "source": [
        "### **Box Plot post Outlier Treatment**"
      ],
      "metadata": {
        "id": "Yiellp8WJEkq"
      }
    },
    {
      "cell_type": "code",
      "source": [
        "plt.figure(figsize=(10, 8))\n",
        "plt.subplot(3, 2, 1)\n",
        "sns.boxplot(data=df_new, x='loan_amnt')\n",
        "plt.title('Boxplot of Loan Amount')\n",
        "\n",
        "plt.subplot(3, 2, 2)\n",
        "sns.boxplot(data=df_new, x='annual_inc')\n",
        "plt.title('Boxplot of Annual Income')\n",
        "\n",
        "plt.subplot(3, 2, 3)\n",
        "sns.boxplot(data=df_new, x='int_rate')\n",
        "plt.title('Boxplot of Interest rate')\n",
        "\n",
        "plt.subplot(3, 2, 4)\n",
        "sns.boxplot(data=df_new, x='dti')\n",
        "plt.title('Boxplot of Debt to Income')\n",
        "\n",
        "plt.subplot(3, 2, 5)\n",
        "sns.boxplot(data=df_new, x='revol_bal')\n",
        "plt.title('Boxplot of Revolving Balance')\n",
        "\n",
        "plt.subplot(3, 2, 6)\n",
        "sns.boxplot(data=df_new, x='revol_util')\n",
        "plt.title('Boxplot of Revolving Utilization')\n",
        "\n",
        "plt.tight_layout()\n",
        "plt.show()"
      ],
      "metadata": {
        "colab": {
          "base_uri": "https://localhost:8080/",
          "height": 807
        },
        "id": "vhuaZV5FHbNE",
        "outputId": "3773fa66-8f79-42b3-afd6-7dac647e97fb"
      },
      "execution_count": null,
      "outputs": [
        {
          "output_type": "display_data",
          "data": {
            "text/plain": [
              "<Figure size 1000x800 with 6 Axes>"
            ],
            "image/png": "[encoded data removed]"
          },
          "metadata": {}
        }
      ]
    },
    {
      "cell_type": "code",
      "source": [
        "df_new.isna().sum()"
      ],
      "metadata": {
        "colab": {
          "base_uri": "https://localhost:8080/"
        },
        "id": "3aae1JDpGKSr",
        "outputId": "ce2898c3-0a06-40d9-b4ce-a875685cf1ac"
      },
      "execution_count": null,
      "outputs": [
        {
          "output_type": "execute_result",
          "data": {
            "text/plain": [
              "loan_amnt                   0\n",
              "term                        0\n",
              "int_rate                    0\n",
              "grade                       0\n",
              "sub_grade                   0\n",
              "emp_title               21099\n",
              "emp_length              17289\n",
              "home_ownership              0\n",
              "annual_inc                  0\n",
              "verification_status         0\n",
              "loan_status                 0\n",
              "purpose                     0\n",
              "dti                         0\n",
              "open_acc                    0\n",
              "pub_rec                     0\n",
              "revol_bal                   0\n",
              "revol_util                  0\n",
              "total_acc                   0\n",
              "initial_list_status         0\n",
              "application_type            0\n",
              "mort_acc                34714\n",
              "pub_rec_bankruptcies      483\n",
              "zipcode                     0\n",
              "issue_year                  0\n",
              "issue_month                 0\n",
              "earliest_cr_year            0\n",
              "earliest_cr_month           0\n",
              "dtype: int64"
            ]
          },
          "metadata": {},
          "execution_count": 44
        }
      ]
    },
    {
      "cell_type": "markdown",
      "source": [
        "* pub_rec_bankruptcies has very small number of null values we shall drop these\n",
        "* For mort_acc and emp_length we need to impute the values\n",
        "* For emp_title column we ll drop the column as it have many unique values"
      ],
      "metadata": {
        "id": "h3KWpFxAJM4y"
      }
    },
    {
      "cell_type": "markdown",
      "source": [
        "### Loan amount v/s Employee Title"
      ],
      "metadata": {
        "id": "10aLRjxxJhz0"
      }
    },
    {
      "cell_type": "code",
      "source": [
        "g = df_new.groupby(['emp_title','loan_status']).size().unstack(fill_value=0).sort_values(by='Fully Paid',ascending=False)\n",
        "\n",
        "g.head(15).plot(kind='bar', stacked=True, figsize=(6, 5))\n",
        "plt.xticks(rotation=90)\n",
        "plt.title('Loan Amount vs. Employee Title')\n",
        "plt.show()"
      ],
      "metadata": {
        "colab": {
          "base_uri": "https://localhost:8080/",
          "height": 594
        },
        "id": "VOO4KttCHEDr",
        "outputId": "a36ca2fd-303b-4db7-9dfa-98f54775349e"
      },
      "execution_count": null,
      "outputs": [
        {
          "output_type": "display_data",
          "data": {
            "text/plain": [
              "<Figure size 600x500 with 1 Axes>"
            ],
            "image/png": "[encoded data removed]"
          },
          "metadata": {}
        }
      ]
    },
    {
      "cell_type": "markdown",
      "source": [
        "* Customers with job roles of teacher , manager , Nurse , Superviser are the ones who have taken most number of loans"
      ],
      "metadata": {
        "id": "QtVZ42wzMIQu"
      }
    },
    {
      "cell_type": "code",
      "source": [
        "df_new.dropna(subset=['pub_rec_bankruptcies'],inplace=True)"
      ],
      "metadata": {
        "id": "o1M88AOPMY8I"
      },
      "execution_count": null,
      "outputs": []
    },
    {
      "cell_type": "code",
      "source": [
        "df_new.drop(columns=['emp_title'],inplace=True)"
      ],
      "metadata": {
        "id": "fIKzw2zQMjqP"
      },
      "execution_count": null,
      "outputs": []
    },
    {
      "cell_type": "markdown",
      "source": [
        "### Missing Value Imputation"
      ],
      "metadata": {
        "id": "Ng_VX4eiJvXV"
      }
    },
    {
      "cell_type": "code",
      "source": [
        "from sklearn.impute import KNNImputer\n",
        "\n",
        "imputer = KNNImputer(n_neighbors=5)\n",
        "\n",
        "df_new['emp_length']=imputer.fit_transform(df_new[['emp_length']])\n",
        "df_new['emp_length']=round(df_new['emp_length'])\n",
        "\n",
        "df_mort=round(df_new.groupby('total_acc')[['mort_acc']].mean(),0).reset_index()"
      ],
      "metadata": {
        "id": "88AuPUs3Mpsb"
      },
      "execution_count": null,
      "outputs": []
    },
    {
      "cell_type": "code",
      "source": [
        "df1 = df_new.copy()"
      ],
      "metadata": {
        "id": "4-krp279NXgm"
      },
      "execution_count": null,
      "outputs": []
    },
    {
      "cell_type": "markdown",
      "source": [
        "### Label Encoding"
      ],
      "metadata": {
        "id": "kE19btLRJ-3b"
      }
    },
    {
      "cell_type": "code",
      "source": [
        "df_merged=df_new.merge(df_mort,how='left',on='total_acc',suffixes=('','_mean'))\n",
        "df_merged['mort_acc'].fillna(df_merged['mort_acc_mean']).isna().value_counts()\n",
        "df_merged['mort_acc'] = df_merged['mort_acc'].fillna(df_merged['mort_acc_mean'])\n",
        "df_merged.drop(columns=['mort_acc_mean'],inplace=True)"
      ],
      "metadata": {
        "id": "1DAmvV8SOgcj"
      },
      "execution_count": null,
      "outputs": []
    },
    {
      "cell_type": "code",
      "source": [
        "map={'Charged Off':1,'Fully Paid':0}\n",
        "df_merged['loan_status']=df_merged['loan_status'].map(map)"
      ],
      "metadata": {
        "id": "phktRgZGPVuW"
      },
      "execution_count": null,
      "outputs": []
    },
    {
      "cell_type": "code",
      "source": [
        "map={'w':0,'f':1}\n",
        "df_merged['initial_list_status']=df_merged['initial_list_status'].map(map)"
      ],
      "metadata": {
        "id": "bP82EX2IPaNG"
      },
      "execution_count": null,
      "outputs": []
    },
    {
      "cell_type": "code",
      "source": [
        "df_merged"
      ],
      "metadata": {
        "colab": {
          "base_uri": "https://localhost:8080/",
          "height": 443
        },
        "id": "pCEjnUzcSbHA",
        "outputId": "a0719018-d278-4c2b-c24e-296c1c3451d7"
      },
      "execution_count": null,
      "outputs": [
        {
          "output_type": "execute_result",
          "data": {
            "text/plain": [
              "        loan_amnt  term  int_rate grade sub_grade  emp_length home_ownership  \\\n",
              "0         10000.0    36     11.44     B        B4        10.0           RENT   \n",
              "1          8000.0    36     11.99     B        B5         4.0       MORTGAGE   \n",
              "2         15600.0    36     10.49     B        B3         1.0           RENT   \n",
              "3          7200.0    36      6.49     A        A2         6.0           RENT   \n",
              "4         24375.0    60     17.27     C        C5         9.0       MORTGAGE   \n",
              "...           ...   ...       ...   ...       ...         ...            ...   \n",
              "355988     6000.0    36     13.11     B        B4         5.0           RENT   \n",
              "355989    10000.0    60     10.99     B        B4         2.0           RENT   \n",
              "355990     5000.0    36      9.99     B        B1        10.0           RENT   \n",
              "355991    21000.0    60     15.31     C        C2        10.0       MORTGAGE   \n",
              "355992     2000.0    36     13.61     C        C2        10.0           RENT   \n",
              "\n",
              "        annual_inc verification_status  loan_status  ... total_acc  \\\n",
              "0         117000.0        Not Verified            0  ...      25.0   \n",
              "1          65000.0        Not Verified            0  ...      27.0   \n",
              "2          43057.0     Source Verified            0  ...      26.0   \n",
              "3          54000.0        Not Verified            0  ...      13.0   \n",
              "4          55000.0            Verified            1  ...      43.0   \n",
              "...            ...                 ...          ...  ...       ...   \n",
              "355988     64000.0        Not Verified            0  ...       9.0   \n",
              "355989     40000.0     Source Verified            0  ...      23.0   \n",
              "355990     56500.0            Verified            0  ...      23.0   \n",
              "355991     64000.0            Verified            0  ...      20.0   \n",
              "355992     42996.0            Verified            0  ...      19.0   \n",
              "\n",
              "        initial_list_status  application_type  mort_acc  pub_rec_bankruptcies  \\\n",
              "0                         0        INDIVIDUAL       0.0                   0.0   \n",
              "1                         1        INDIVIDUAL       3.0                   0.0   \n",
              "2                         1        INDIVIDUAL       0.0                   0.0   \n",
              "3                         1        INDIVIDUAL       0.0                   0.0   \n",
              "4                         1        INDIVIDUAL       1.0                   0.0   \n",
              "...                     ...               ...       ...                   ...   \n",
              "355988                    0        INDIVIDUAL       0.0                   0.0   \n",
              "355989                    0        INDIVIDUAL       0.0                   0.0   \n",
              "355990                    1        INDIVIDUAL       0.0                   0.0   \n",
              "355991                    1        INDIVIDUAL       5.0                   0.0   \n",
              "355992                    1        INDIVIDUAL       1.0                   0.0   \n",
              "\n",
              "        zipcode  issue_year  issue_month earliest_cr_year  earliest_cr_month  \n",
              "0         22690        2015            1             1990                  6  \n",
              "1         05113        2015            1             2004                  7  \n",
              "2         05113        2015            1             2007                  8  \n",
              "3         00813        2014           11             2006                  9  \n",
              "4         11650        2013            4             1999                  3  \n",
              "...         ...         ...          ...              ...                ...  \n",
              "355988    05113        2013            3             1991                 11  \n",
              "355989    30723        2015           10             2004                 11  \n",
              "355990    70466        2013           10             1997                  3  \n",
              "355991    29597        2012            8             1990                 11  \n",
              "355992    48052        2010            6             1998                  9  \n",
              "\n",
              "[355993 rows x 26 columns]"
            ],
            "text/html": [
              "\n",
              "  <div id=\"df-e4d94cda-4949-46ae-a688-8044ea2d38bc\" class=\"colab-df-container\">\n",
              "    <div>\n",
              "<style scoped>\n",
              "    .dataframe tbody tr th:only-of-type {\n",
              "        vertical-align: middle;\n",
              "    }\n",
              "\n",
              "    .dataframe tbody tr th {\n",
              "        vertical-align: top;\n",
              "    }\n",
              "\n",
              "    .dataframe thead th {\n",
              "        text-align: right;\n",
              "    }\n",
              "</style>\n",
              "<table border=\"1\" class=\"dataframe\">\n",
              "  <thead>\n",
              "    <tr style=\"text-align: right;\">\n",
              "      <th></th>\n",
              "      <th>loan_amnt</th>\n",
              "      <th>term</th>\n",
              "      <th>int_rate</th>\n",
              "      <th>grade</th>\n",
              "      <th>sub_grade</th>\n",
              "      <th>emp_length</th>\n",
              "      <th>home_ownership</th>\n",
              "      <th>annual_inc</th>\n",
              "      <th>verification_status</th>\n",
              "      <th>loan_status</th>\n",
              "      <th>...</th>\n",
              "      <th>total_acc</th>\n",
              "      <th>initial_list_status</th>\n",
              "      <th>application_type</th>\n",
              "      <th>mort_acc</th>\n",
              "      <th>pub_rec_bankruptcies</th>\n",
              "      <th>zipcode</th>\n",
              "      <th>issue_year</th>\n",
              "      <th>issue_month</th>\n",
              "      <th>earliest_cr_year</th>\n",
              "      <th>earliest_cr_month</th>\n",
              "    </tr>\n",
              "  </thead>\n",
              "  <tbody>\n",
              "    <tr>\n",
              "      <th>0</th>\n",
              "      <td>10000.0</td>\n",
              "      <td>36</td>\n",
              "      <td>11.44</td>\n",
              "      <td>B</td>\n",
              "      <td>B4</td>\n",
              "      <td>10.0</td>\n",
              "      <td>RENT</td>\n",
              "      <td>117000.0</td>\n",
              "      <td>Not Verified</td>\n",
              "      <td>0</td>\n",
              "      <td>...</td>\n",
              "      <td>25.0</td>\n",
              "      <td>0</td>\n",
              "      <td>INDIVIDUAL</td>\n",
              "      <td>0.0</td>\n",
              "      <td>0.0</td>\n",
              "      <td>22690</td>\n",
              "      <td>2015</td>\n",
              "      <td>1</td>\n",
              "      <td>1990</td>\n",
              "      <td>6</td>\n",
              "    </tr>\n",
              "    <tr>\n",
              "      <th>1</th>\n",
              "      <td>8000.0</td>\n",
              "      <td>36</td>\n",
              "      <td>11.99</td>\n",
              "      <td>B</td>\n",
              "      <td>B5</td>\n",
              "      <td>4.0</td>\n",
              "      <td>MORTGAGE</td>\n",
              "      <td>65000.0</td>\n",
              "      <td>Not Verified</td>\n",
              "      <td>0</td>\n",
              "      <td>...</td>\n",
              "      <td>27.0</td>\n",
              "      <td>1</td>\n",
              "      <td>INDIVIDUAL</td>\n",
              "      <td>3.0</td>\n",
              "      <td>0.0</td>\n",
              "      <td>05113</td>\n",
              "      <td>2015</td>\n",
              "      <td>1</td>\n",
              "      <td>2004</td>\n",
              "      <td>7</td>\n",
              "    </tr>\n",
              "    <tr>\n",
              "      <th>2</th>\n",
              "      <td>15600.0</td>\n",
              "      <td>36</td>\n",
              "      <td>10.49</td>\n",
              "      <td>B</td>\n",
              "      <td>B3</td>\n",
              "      <td>1.0</td>\n",
              "      <td>RENT</td>\n",
              "      <td>43057.0</td>\n",
              "      <td>Source Verified</td>\n",
              "      <td>0</td>\n",
              "      <td>...</td>\n",
              "      <td>26.0</td>\n",
              "      <td>1</td>\n",
              "      <td>INDIVIDUAL</td>\n",
              "      <td>0.0</td>\n",
              "      <td>0.0</td>\n",
              "      <td>05113</td>\n",
              "      <td>2015</td>\n",
              "      <td>1</td>\n",
              "      <td>2007</td>\n",
              "      <td>8</td>\n",
              "    </tr>\n",
              "    <tr>\n",
              "      <th>3</th>\n",
              "      <td>7200.0</td>\n",
              "      <td>36</td>\n",
              "      <td>6.49</td>\n",
              "      <td>A</td>\n",
              "      <td>A2</td>\n",
              "      <td>6.0</td>\n",
              "      <td>RENT</td>\n",
              "      <td>54000.0</td>\n",
              "      <td>Not Verified</td>\n",
              "      <td>0</td>\n",
              "      <td>...</td>\n",
              "      <td>13.0</td>\n",
              "      <td>1</td>\n",
              "      <td>INDIVIDUAL</td>\n",
              "      <td>0.0</td>\n",
              "      <td>0.0</td>\n",
              "      <td>00813</td>\n",
              "      <td>2014</td>\n",
              "      <td>11</td>\n",
              "      <td>2006</td>\n",
              "      <td>9</td>\n",
              "    </tr>\n",
              "    <tr>\n",
              "      <th>4</th>\n",
              "      <td>24375.0</td>\n",
              "      <td>60</td>\n",
              "      <td>17.27</td>\n",
              "      <td>C</td>\n",
              "      <td>C5</td>\n",
              "      <td>9.0</td>\n",
              "      <td>MORTGAGE</td>\n",
              "      <td>55000.0</td>\n",
              "      <td>Verified</td>\n",
              "      <td>1</td>\n",
              "      <td>...</td>\n",
              "      <td>43.0</td>\n",
              "      <td>1</td>\n",
              "      <td>INDIVIDUAL</td>\n",
              "      <td>1.0</td>\n",
              "      <td>0.0</td>\n",
              "      <td>11650</td>\n",
              "      <td>2013</td>\n",
              "      <td>4</td>\n",
              "      <td>1999</td>\n",
              "      <td>3</td>\n",
              "    </tr>\n",
              "    <tr>\n",
              "      <th>...</th>\n",
              "      <td>...</td>\n",
              "      <td>...</td>\n",
              "      <td>...</td>\n",
              "      <td>...</td>\n",
              "      <td>...</td>\n",
              "      <td>...</td>\n",
              "      <td>...</td>\n",
              "      <td>...</td>\n",
              "      <td>...</td>\n",
              "      <td>...</td>\n",
              "      <td>...</td>\n",
              "      <td>...</td>\n",
              "      <td>...</td>\n",
              "      <td>...</td>\n",
              "      <td>...</td>\n",
              "      <td>...</td>\n",
              "      <td>...</td>\n",
              "      <td>...</td>\n",
              "      <td>...</td>\n",
              "      <td>...</td>\n",
              "      <td>...</td>\n",
              "    </tr>\n",
              "    <tr>\n",
              "      <th>355988</th>\n",
              "      <td>6000.0</td>\n",
              "      <td>36</td>\n",
              "      <td>13.11</td>\n",
              "      <td>B</td>\n",
              "      <td>B4</td>\n",
              "      <td>5.0</td>\n",
              "      <td>RENT</td>\n",
              "      <td>64000.0</td>\n",
              "      <td>Not Verified</td>\n",
              "      <td>0</td>\n",
              "      <td>...</td>\n",
              "      <td>9.0</td>\n",
              "      <td>0</td>\n",
              "      <td>INDIVIDUAL</td>\n",
              "      <td>0.0</td>\n",
              "      <td>0.0</td>\n",
              "      <td>05113</td>\n",
              "      <td>2013</td>\n",
              "      <td>3</td>\n",
              "      <td>1991</td>\n",
              "      <td>11</td>\n",
              "    </tr>\n",
              "    <tr>\n",
              "      <th>355989</th>\n",
              "      <td>10000.0</td>\n",
              "      <td>60</td>\n",
              "      <td>10.99</td>\n",
              "      <td>B</td>\n",
              "      <td>B4</td>\n",
              "      <td>2.0</td>\n",
              "      <td>RENT</td>\n",
              "      <td>40000.0</td>\n",
              "      <td>Source Verified</td>\n",
              "      <td>0</td>\n",
              "      <td>...</td>\n",
              "      <td>23.0</td>\n",
              "      <td>0</td>\n",
              "      <td>INDIVIDUAL</td>\n",
              "      <td>0.0</td>\n",
              "      <td>0.0</td>\n",
              "      <td>30723</td>\n",
              "      <td>2015</td>\n",
              "      <td>10</td>\n",
              "      <td>2004</td>\n",
              "      <td>11</td>\n",
              "    </tr>\n",
              "    <tr>\n",
              "      <th>355990</th>\n",
              "      <td>5000.0</td>\n",
              "      <td>36</td>\n",
              "      <td>9.99</td>\n",
              "      <td>B</td>\n",
              "      <td>B1</td>\n",
              "      <td>10.0</td>\n",
              "      <td>RENT</td>\n",
              "      <td>56500.0</td>\n",
              "      <td>Verified</td>\n",
              "      <td>0</td>\n",
              "      <td>...</td>\n",
              "      <td>23.0</td>\n",
              "      <td>1</td>\n",
              "      <td>INDIVIDUAL</td>\n",
              "      <td>0.0</td>\n",
              "      <td>0.0</td>\n",
              "      <td>70466</td>\n",
              "      <td>2013</td>\n",
              "      <td>10</td>\n",
              "      <td>1997</td>\n",
              "      <td>3</td>\n",
              "    </tr>\n",
              "    <tr>\n",
              "      <th>355991</th>\n",
              "      <td>21000.0</td>\n",
              "      <td>60</td>\n",
              "      <td>15.31</td>\n",
              "      <td>C</td>\n",
              "      <td>C2</td>\n",
              "      <td>10.0</td>\n",
              "      <td>MORTGAGE</td>\n",
              "      <td>64000.0</td>\n",
              "      <td>Verified</td>\n",
              "      <td>0</td>\n",
              "      <td>...</td>\n",
              "      <td>20.0</td>\n",
              "      <td>1</td>\n",
              "      <td>INDIVIDUAL</td>\n",
              "      <td>5.0</td>\n",
              "      <td>0.0</td>\n",
              "      <td>29597</td>\n",
              "      <td>2012</td>\n",
              "      <td>8</td>\n",
              "      <td>1990</td>\n",
              "      <td>11</td>\n",
              "    </tr>\n",
              "    <tr>\n",
              "      <th>355992</th>\n",
              "      <td>2000.0</td>\n",
              "      <td>36</td>\n",
              "      <td>13.61</td>\n",
              "      <td>C</td>\n",
              "      <td>C2</td>\n",
              "      <td>10.0</td>\n",
              "      <td>RENT</td>\n",
              "      <td>42996.0</td>\n",
              "      <td>Verified</td>\n",
              "      <td>0</td>\n",
              "      <td>...</td>\n",
              "      <td>19.0</td>\n",
              "      <td>1</td>\n",
              "      <td>INDIVIDUAL</td>\n",
              "      <td>1.0</td>\n",
              "      <td>0.0</td>\n",
              "      <td>48052</td>\n",
              "      <td>2010</td>\n",
              "      <td>6</td>\n",
              "      <td>1998</td>\n",
              "      <td>9</td>\n",
              "    </tr>\n",
              "  </tbody>\n",
              "</table>\n",
              "<p>355993 rows × 26 columns</p>\n",
              "</div>\n",
              "    <div class=\"colab-df-buttons\">\n",
              "\n",
              "  <div class=\"colab-df-container\">\n",
              "    <button class=\"colab-df-convert\" onclick=\"convertToInteractive('df-e4d94cda-4949-46ae-a688-8044ea2d38bc')\"\n",
              "            title=\"Convert this dataframe to an interactive table.\"\n",
              "            style=\"display:none;\">\n",
              "\n",
              "  <svg xmlns=\"http://www.w3.org/2000/svg\" height=\"24px\" viewBox=\"0 -960 960 960\">\n",
              "    <path d=\"M120-120v-720h720v720H120Zm60-500h600v-160H180v160Zm220 220h160v-160H400v160Zm0 220h160v-160H400v160ZM180-400h160v-160H180v160Zm440 0h160v-160H620v160ZM180-180h160v-160H180v160Zm440 0h160v-160H620v160Z\"/>\n",
              "  </svg>\n",
              "    </button>\n",
              "\n",
              "  <style>\n",
              "    .colab-df-container {\n",
              "      display:flex;\n",
              "      gap: 12px;\n",
              "    }\n",
              "\n",
              "    .colab-df-convert {\n",
              "      background-color: #E8F0FE;\n",
              "      border: none;\n",
              "      border-radius: 50%;\n",
              "      cursor: pointer;\n",
              "      display: none;\n",
              "      fill: #1967D2;\n",
              "      height: 32px;\n",
              "      padding: 0 0 0 0;\n",
              "      width: 32px;\n",
              "    }\n",
              "\n",
              "    .colab-df-convert:hover {\n",
              "      background-color: #E2EBFA;\n",
              "      box-shadow: 0px 1px 2px rgba(60, 64, 67, 0.3), 0px 1px 3px 1px rgba(60, 64, 67, 0.15);\n",
              "      fill: #174EA6;\n",
              "    }\n",
              "\n",
              "    .colab-df-buttons div {\n",
              "      margin-bottom: 4px;\n",
              "    }\n",
              "\n",
              "    [theme=dark] .colab-df-convert {\n",
              "      background-color: #3B4455;\n",
              "      fill: #D2E3FC;\n",
              "    }\n",
              "\n",
              "    [theme=dark] .colab-df-convert:hover {\n",
              "      background-color: #434B5C;\n",
              "      box-shadow: 0px 1px 3px 1px rgba(0, 0, 0, 0.15);\n",
              "      filter: drop-shadow(0px 1px 2px rgba(0, 0, 0, 0.3));\n",
              "      fill: #FFFFFF;\n",
              "    }\n",
              "  </style>\n",
              "\n",
              "    <script>\n",
              "      const buttonEl =\n",
              "        document.querySelector('#df-e4d94cda-4949-46ae-a688-8044ea2d38bc button.colab-df-convert');\n",
              "      buttonEl.style.display =\n",
              "        google.colab.kernel.accessAllowed ? 'block' : 'none';\n",
              "\n",
              "      async function convertToInteractive(key) {\n",
              "        const element = document.querySelector('#df-e4d94cda-4949-46ae-a688-8044ea2d38bc');\n",
              "        const dataTable =\n",
              "          await google.colab.kernel.invokeFunction('convertToInteractive',\n",
              "                                                    [key], {});\n",
              "        if (!dataTable) return;\n",
              "\n",
              "        const docLinkHtml = 'Like what you see? Visit the ' +\n",
              "          '<a target=\"_blank\" href=https://colab.research.google.com/notebooks/data_table.ipynb>data table notebook</a>'\n",
              "          + ' to learn more about interactive tables.';\n",
              "        element.innerHTML = '';\n",
              "        dataTable['output_type'] = 'display_data';\n",
              "        await google.colab.output.renderOutput(dataTable, element);\n",
              "        const docLink = document.createElement('div');\n",
              "        docLink.innerHTML = docLinkHtml;\n",
              "        element.appendChild(docLink);\n",
              "      }\n",
              "    </script>\n",
              "  </div>\n",
              "\n",
              "\n",
              "<div id=\"df-2fa19752-a0b2-4dd9-bd51-b903a0b6c245\">\n",
              "  <button class=\"colab-df-quickchart\" onclick=\"quickchart('df-2fa19752-a0b2-4dd9-bd51-b903a0b6c245')\"\n",
              "            title=\"Suggest charts\"\n",
              "            style=\"display:none;\">\n",
              "\n",
              "<svg xmlns=\"http://www.w3.org/2000/svg\" height=\"24px\"viewBox=\"0 0 24 24\"\n",
              "     width=\"24px\">\n",
              "    <g>\n",
              "        <path d=\"M19 3H5c-1.1 0-2 .9-2 2v14c0 1.1.9 2 2 2h14c1.1 0 2-.9 2-2V5c0-1.1-.9-2-2-2zM9 17H7v-7h2v7zm4 0h-2V7h2v10zm4 0h-2v-4h2v4z\"/>\n",
              "    </g>\n",
              "</svg>\n",
              "  </button>\n",
              "\n",
              "<style>\n",
              "  .colab-df-quickchart {\n",
              "      --bg-color: #E8F0FE;\n",
              "      --fill-color: #1967D2;\n",
              "      --hover-bg-color: #E2EBFA;\n",
              "      --hover-fill-color: #174EA6;\n",
              "      --disabled-fill-color: #AAA;\n",
              "      --disabled-bg-color: #DDD;\n",
              "  }\n",
              "\n",
              "  [theme=dark] .colab-df-quickchart {\n",
              "      --bg-color: #3B4455;\n",
              "      --fill-color: #D2E3FC;\n",
              "      --hover-bg-color: #434B5C;\n",
              "      --hover-fill-color: #FFFFFF;\n",
              "      --disabled-bg-color: #3B4455;\n",
              "      --disabled-fill-color: #666;\n",
              "  }\n",
              "\n",
              "  .colab-df-quickchart {\n",
              "    background-color: var(--bg-color);\n",
              "    border: none;\n",
              "    border-radius: 50%;\n",
              "    cursor: pointer;\n",
              "    display: none;\n",
              "    fill: var(--fill-color);\n",
              "    height: 32px;\n",
              "    padding: 0;\n",
              "    width: 32px;\n",
              "  }\n",
              "\n",
              "  .colab-df-quickchart:hover {\n",
              "    background-color: var(--hover-bg-color);\n",
              "    box-shadow: 0 1px 2px rgba(60, 64, 67, 0.3), 0 1px 3px 1px rgba(60, 64, 67, 0.15);\n",
              "    fill: var(--button-hover-fill-color);\n",
              "  }\n",
              "\n",
              "  .colab-df-quickchart-complete:disabled,\n",
              "  .colab-df-quickchart-complete:disabled:hover {\n",
              "    background-color: var(--disabled-bg-color);\n",
              "    fill: var(--disabled-fill-color);\n",
              "    box-shadow: none;\n",
              "  }\n",
              "\n",
              "  .colab-df-spinner {\n",
              "    border: 2px solid var(--fill-color);\n",
              "    border-color: transparent;\n",
              "    border-bottom-color: var(--fill-color);\n",
              "    animation:\n",
              "      spin 1s steps(1) infinite;\n",
              "  }\n",
              "\n",
              "  @keyframes spin {\n",
              "    0% {\n",
              "      border-color: transparent;\n",
              "      border-bottom-color: var(--fill-color);\n",
              "      border-left-color: var(--fill-color);\n",
              "    }\n",
              "    20% {\n",
              "      border-color: transparent;\n",
              "      border-left-color: var(--fill-color);\n",
              "      border-top-color: var(--fill-color);\n",
              "    }\n",
              "    30% {\n",
              "      border-color: transparent;\n",
              "      border-left-color: var(--fill-color);\n",
              "      border-top-color: var(--fill-color);\n",
              "      border-right-color: var(--fill-color);\n",
              "    }\n",
              "    40% {\n",
              "      border-color: transparent;\n",
              "      border-right-color: var(--fill-color);\n",
              "      border-top-color: var(--fill-color);\n",
              "    }\n",
              "    60% {\n",
              "      border-color: transparent;\n",
              "      border-right-color: var(--fill-color);\n",
              "    }\n",
              "    80% {\n",
              "      border-color: transparent;\n",
              "      border-right-color: var(--fill-color);\n",
              "      border-bottom-color: var(--fill-color);\n",
              "    }\n",
              "    90% {\n",
              "      border-color: transparent;\n",
              "      border-bottom-color: var(--fill-color);\n",
              "    }\n",
              "  }\n",
              "</style>\n",
              "\n",
              "  <script>\n",
              "    async function quickchart(key) {\n",
              "      const quickchartButtonEl =\n",
              "        document.querySelector('#' + key + ' button');\n",
              "      quickchartButtonEl.disabled = true;  // To prevent multiple clicks.\n",
              "      quickchartButtonEl.classList.add('colab-df-spinner');\n",
              "      try {\n",
              "        const charts = await google.colab.kernel.invokeFunction(\n",
              "            'suggestCharts', [key], {});\n",
              "      } catch (error) {\n",
              "        console.error('Error during call to suggestCharts:', error);\n",
              "      }\n",
              "      quickchartButtonEl.classList.remove('colab-df-spinner');\n",
              "      quickchartButtonEl.classList.add('colab-df-quickchart-complete');\n",
              "    }\n",
              "    (() => {\n",
              "      let quickchartButtonEl =\n",
              "        document.querySelector('#df-2fa19752-a0b2-4dd9-bd51-b903a0b6c245 button');\n",
              "      quickchartButtonEl.style.display =\n",
              "        google.colab.kernel.accessAllowed ? 'block' : 'none';\n",
              "    })();\n",
              "  </script>\n",
              "</div>\n",
              "\n",
              "  <div id=\"id_886b9a4b-b863-462f-8ce8-beea91506052\">\n",
              "    <style>\n",
              "      .colab-df-generate {\n",
              "        background-color: #E8F0FE;\n",
              "        border: none;\n",
              "        border-radius: 50%;\n",
              "        cursor: pointer;\n",
              "        display: none;\n",
              "        fill: #1967D2;\n",
              "        height: 32px;\n",
              "        padding: 0 0 0 0;\n",
              "        width: 32px;\n",
              "      }\n",
              "\n",
              "      .colab-df-generate:hover {\n",
              "        background-color: #E2EBFA;\n",
              "        box-shadow: 0px 1px 2px rgba(60, 64, 67, 0.3), 0px 1px 3px 1px rgba(60, 64, 67, 0.15);\n",
              "        fill: #174EA6;\n",
              "      }\n",
              "\n",
              "      [theme=dark] .colab-df-generate {\n",
              "        background-color: #3B4455;\n",
              "        fill: #D2E3FC;\n",
              "      }\n",
              "\n",
              "      [theme=dark] .colab-df-generate:hover {\n",
              "        background-color: #434B5C;\n",
              "        box-shadow: 0px 1px 3px 1px rgba(0, 0, 0, 0.15);\n",
              "        filter: drop-shadow(0px 1px 2px rgba(0, 0, 0, 0.3));\n",
              "        fill: #FFFFFF;\n",
              "      }\n",
              "    </style>\n",
              "    <button class=\"colab-df-generate\" onclick=\"generateWithVariable('df_merged')\"\n",
              "            title=\"Generate code using this dataframe.\"\n",
              "            style=\"display:none;\">\n",
              "\n",
              "  <svg xmlns=\"http://www.w3.org/2000/svg\" height=\"24px\"viewBox=\"0 0 24 24\"\n",
              "       width=\"24px\">\n",
              "    <path d=\"M7,19H8.4L18.45,9,17,7.55,7,17.6ZM5,21V16.75L18.45,3.32a2,2,0,0,1,2.83,0l1.4,1.43a1.91,1.91,0,0,1,.58,1.4,1.91,1.91,0,0,1-.58,1.4L9.25,21ZM18.45,9,17,7.55Zm-12,3A5.31,5.31,0,0,0,4.9,8.1,5.31,5.31,0,0,0,1,6.5,5.31,5.31,0,0,0,4.9,4.9,5.31,5.31,0,0,0,6.5,1,5.31,5.31,0,0,0,8.1,4.9,5.31,5.31,0,0,0,12,6.5,5.46,5.46,0,0,0,6.5,12Z\"/>\n",
              "  </svg>\n",
              "    </button>\n",
              "    <script>\n",
              "      (() => {\n",
              "      const buttonEl =\n",
              "        document.querySelector('#id_886b9a4b-b863-462f-8ce8-beea91506052 button.colab-df-generate');\n",
              "      buttonEl.style.display =\n",
              "        google.colab.kernel.accessAllowed ? 'block' : 'none';\n",
              "\n",
              "      buttonEl.onclick = () => {\n",
              "        google.colab.notebook.generateWithVariable('df_merged');\n",
              "      }\n",
              "      })();\n",
              "    </script>\n",
              "  </div>\n",
              "\n",
              "    </div>\n",
              "  </div>\n"
            ],
            "application/vnd.google.colaboratory.intrinsic+json": {
              "type": "dataframe",
              "variable_name": "df_merged"
            }
          },
          "metadata": {},
          "execution_count": 53
        }
      ]
    },
    {
      "cell_type": "markdown",
      "source": [
        "## Train Test Split"
      ],
      "metadata": {
        "id": "3L-S4EEpKIeT"
      }
    },
    {
      "cell_type": "code",
      "source": [
        "from sklearn.linear_model import LogisticRegression\n",
        "from sklearn.model_selection import train_test_split\n",
        "from sklearn.preprocessing import StandardScaler"
      ],
      "metadata": {
        "id": "dTFuopbMUP7m"
      },
      "execution_count": null,
      "outputs": []
    },
    {
      "cell_type": "code",
      "source": [
        "X = df_merged.drop(columns=['loan_status'])\n",
        "y = df_merged['loan_status']"
      ],
      "metadata": {
        "id": "dnC9mP2uPdOY"
      },
      "execution_count": null,
      "outputs": []
    },
    {
      "cell_type": "code",
      "source": [
        "X_train_cv,X_test,y_train_cv,y_test = train_test_split(X,y,test_size=0.25,random_state=1)\n",
        "X_train,X_test_cv,y_train,y_test_cv = train_test_split(X_train_cv,y_train_cv,test_size=0.25,random_state=1)"
      ],
      "metadata": {
        "id": "yts53nEtXCDY"
      },
      "execution_count": null,
      "outputs": []
    },
    {
      "cell_type": "code",
      "source": [
        "!pip install category_encoders"
      ],
      "metadata": {
        "colab": {
          "base_uri": "https://localhost:8080/"
        },
        "id": "CPAccxCcW4vv",
        "outputId": "fc09854f-3ef6-4d1c-cb2c-1e9f9052f09d"
      },
      "execution_count": null,
      "outputs": [
        {
          "output_type": "stream",
          "name": "stdout",
          "text": [
            "Collecting category_encoders\n",
            "  Downloading category_encoders-2.6.3-py2.py3-none-any.whl (81 kB)\n",
            "\u001b[?25l     \u001b[90m━━━━━━━━━━━━━━━━━━━━━━━━━━━━━━━━━━━━━━━━\u001b[0m \u001b[32m0.0/81.9 kB\u001b[0m \u001b[31m?\u001b[0m eta \u001b[36m-:--:--\u001b[0m\r\u001b[2K     \u001b[90m━━━━━━━━━━━━━━━━━━━━━━━━━━━━━━━━━━━━━━━━\u001b[0m \u001b[32m81.9/81.9 kB\u001b[0m \u001b[31m2.9 MB/s\u001b[0m eta \u001b[36m0:00:00\u001b[0m\n",
            "\u001b[?25hRequirement already satisfied: numpy>=1.14.0 in /usr/local/lib/python3.10/dist-packages (from category_encoders) (1.25.2)\n",
            "Requirement already satisfied: scikit-learn>=0.20.0 in /usr/local/lib/python3.10/dist-packages (from category_encoders) (1.2.2)\n",
            "Requirement already satisfied: scipy>=1.0.0 in /usr/local/lib/python3.10/dist-packages (from category_encoders) (1.11.4)\n",
            "Requirement already satisfied: statsmodels>=0.9.0 in /usr/local/lib/python3.10/dist-packages (from category_encoders) (0.14.2)\n",
            "Requirement already satisfied: pandas>=1.0.5 in /usr/local/lib/python3.10/dist-packages (from category_encoders) (2.0.3)\n",
            "Requirement already satisfied: patsy>=0.5.1 in /usr/local/lib/python3.10/dist-packages (from category_encoders) (0.5.6)\n",
            "Requirement already satisfied: python-dateutil>=2.8.2 in /usr/local/lib/python3.10/dist-packages (from pandas>=1.0.5->category_encoders) (2.8.2)\n",
            "Requirement already satisfied: pytz>=2020.1 in /usr/local/lib/python3.10/dist-packages (from pandas>=1.0.5->category_encoders) (2023.4)\n",
            "Requirement already satisfied: tzdata>=2022.1 in /usr/local/lib/python3.10/dist-packages (from pandas>=1.0.5->category_encoders) (2024.1)\n",
            "Requirement already satisfied: six in /usr/local/lib/python3.10/dist-packages (from patsy>=0.5.1->category_encoders) (1.16.0)\n",
            "Requirement already satisfied: joblib>=1.1.1 in /usr/local/lib/python3.10/dist-packages (from scikit-learn>=0.20.0->category_encoders) (1.4.2)\n",
            "Requirement already satisfied: threadpoolctl>=2.0.0 in /usr/local/lib/python3.10/dist-packages (from scikit-learn>=0.20.0->category_encoders) (3.5.0)\n",
            "Requirement already satisfied: packaging>=21.3 in /usr/local/lib/python3.10/dist-packages (from statsmodels>=0.9.0->category_encoders) (24.1)\n",
            "Installing collected packages: category_encoders\n",
            "Successfully installed category_encoders-2.6.3\n"
          ]
        }
      ]
    },
    {
      "cell_type": "code",
      "source": [
        "from category_encoders import TargetEncoder"
      ],
      "metadata": {
        "id": "0d7k_7AyWnOH"
      },
      "execution_count": null,
      "outputs": []
    },
    {
      "cell_type": "code",
      "source": [
        "encoding_cols = ['grade','sub_grade','home_ownership','verification_status','purpose',\n",
        "                'application_type','zipcode']\n",
        "\n",
        "encoder=TargetEncoder()\n",
        "\n",
        "for i in encoding_cols:\n",
        "    X_train[i]=encoder.fit_transform(X_train[i],y_train)\n",
        "    X_test_cv[i]=encoder.transform(X_test_cv[i])\n",
        "    X_test[i]=encoder.transform(X_test[i])"
      ],
      "metadata": {
        "id": "B99MvRZ2VLUK"
      },
      "execution_count": null,
      "outputs": []
    },
    {
      "cell_type": "code",
      "source": [
        "scaler = StandardScaler()\n",
        "X_train = scaler.fit_transform(X_train)\n",
        "X_test_cv = scaler.transform(X_test_cv)\n",
        "X_test = scaler.transform(X_test)"
      ],
      "metadata": {
        "id": "4Z9__hjZUty6"
      },
      "execution_count": null,
      "outputs": []
    },
    {
      "cell_type": "markdown",
      "source": [
        "## Logistic Regression"
      ],
      "metadata": {
        "id": "p6Fz5kvQKdjM"
      }
    },
    {
      "cell_type": "code",
      "source": [
        "model = LogisticRegression()\n",
        "model.fit(X_train,y_train)"
      ],
      "metadata": {
        "colab": {
          "base_uri": "https://localhost:8080/",
          "height": 74
        },
        "id": "qtauHhulXj9r",
        "outputId": "8f20eeb2-93d3-44cd-be81-aba1b0ac6dec"
      },
      "execution_count": null,
      "outputs": [
        {
          "output_type": "execute_result",
          "data": {
            "text/plain": [
              "LogisticRegression()"
            ],
            "text/html": [
              "<style>#sk-container-id-1 {color: black;background-color: white;}#sk-container-id-1 pre{padding: 0;}#sk-container-id-1 div.sk-toggleable {background-color: white;}#sk-container-id-1 label.sk-toggleable__label {cursor: pointer;display: block;width: 100%;margin-bottom: 0;padding: 0.3em;box-sizing: border-box;text-align: center;}#sk-container-id-1 label.sk-toggleable__label-arrow:before {content: \"▸\";float: left;margin-right: 0.25em;color: #696969;}#sk-container-id-1 label.sk-toggleable__label-arrow:hover:before {color: black;}#sk-container-id-1 div.sk-estimator:hover label.sk-toggleable__label-arrow:before {color: black;}#sk-container-id-1 div.sk-toggleable__content {max-height: 0;max-width: 0;overflow: hidden;text-align: left;background-color: #f0f8ff;}#sk-container-id-1 div.sk-toggleable__content pre {margin: 0.2em;color: black;border-radius: 0.25em;background-color: #f0f8ff;}#sk-container-id-1 input.sk-toggleable__control:checked~div.sk-toggleable__content {max-height: 200px;max-width: 100%;overflow: auto;}#sk-container-id-1 input.sk-toggleable__control:checked~label.sk-toggleable__label-arrow:before {content: \"▾\";}#sk-container-id-1 div.sk-estimator input.sk-toggleable__control:checked~label.sk-toggleable__label {background-color: #d4ebff;}#sk-container-id-1 div.sk-label input.sk-toggleable__control:checked~label.sk-toggleable__label {background-color: #d4ebff;}#sk-container-id-1 input.sk-hidden--visually {border: 0;clip: rect(1px 1px 1px 1px);clip: rect(1px, 1px, 1px, 1px);height: 1px;margin: -1px;overflow: hidden;padding: 0;position: absolute;width: 1px;}#sk-container-id-1 div.sk-estimator {font-family: monospace;background-color: #f0f8ff;border: 1px dotted black;border-radius: 0.25em;box-sizing: border-box;margin-bottom: 0.5em;}#sk-container-id-1 div.sk-estimator:hover {background-color: #d4ebff;}#sk-container-id-1 div.sk-parallel-item::after {content: \"\";width: 100%;border-bottom: 1px solid gray;flex-grow: 1;}#sk-container-id-1 div.sk-label:hover label.sk-toggleable__label {background-color: #d4ebff;}#sk-container-id-1 div.sk-serial::before {content: \"\";position: absolute;border-left: 1px solid gray;box-sizing: border-box;top: 0;bottom: 0;left: 50%;z-index: 0;}#sk-container-id-1 div.sk-serial {display: flex;flex-direction: column;align-items: center;background-color: white;padding-right: 0.2em;padding-left: 0.2em;position: relative;}#sk-container-id-1 div.sk-item {position: relative;z-index: 1;}#sk-container-id-1 div.sk-parallel {display: flex;align-items: stretch;justify-content: center;background-color: white;position: relative;}#sk-container-id-1 div.sk-item::before, #sk-container-id-1 div.sk-parallel-item::before {content: \"\";position: absolute;border-left: 1px solid gray;box-sizing: border-box;top: 0;bottom: 0;left: 50%;z-index: -1;}#sk-container-id-1 div.sk-parallel-item {display: flex;flex-direction: column;z-index: 1;position: relative;background-color: white;}#sk-container-id-1 div.sk-parallel-item:first-child::after {align-self: flex-end;width: 50%;}#sk-container-id-1 div.sk-parallel-item:last-child::after {align-self: flex-start;width: 50%;}#sk-container-id-1 div.sk-parallel-item:only-child::after {width: 0;}#sk-container-id-1 div.sk-dashed-wrapped {border: 1px dashed gray;margin: 0 0.4em 0.5em 0.4em;box-sizing: border-box;padding-bottom: 0.4em;background-color: white;}#sk-container-id-1 div.sk-label label {font-family: monospace;font-weight: bold;display: inline-block;line-height: 1.2em;}#sk-container-id-1 div.sk-label-container {text-align: center;}#sk-container-id-1 div.sk-container {/* jupyter's `normalize.less` sets `[hidden] { display: none; }` but bootstrap.min.css set `[hidden] { display: none !important; }` so we also need the `!important` here to be able to override the default hidden behavior on the sphinx rendered scikit-learn.org. See: https://github.com/scikit-learn/scikit-learn/issues/21755 */display: inline-block !important;position: relative;}#sk-container-id-1 div.sk-text-repr-fallback {display: none;}</style><div id=\"sk-container-id-1\" class=\"sk-top-container\"><div class=\"sk-text-repr-fallback\"><pre>LogisticRegression()</pre><b>In a Jupyter environment, please rerun this cell to show the HTML representation or trust the notebook. <br />On GitHub, the HTML representation is unable to render, please try loading this page with nbviewer.org.</b></div><div class=\"sk-container\" hidden><div class=\"sk-item\"><div class=\"sk-estimator sk-toggleable\"><input class=\"sk-toggleable__control sk-hidden--visually\" id=\"sk-estimator-id-1\" type=\"checkbox\" checked><label for=\"sk-estimator-id-1\" class=\"sk-toggleable__label sk-toggleable__label-arrow\">LogisticRegression</label><div class=\"sk-toggleable__content\"><pre>LogisticRegression()</pre></div></div></div></div></div>"
            ]
          },
          "metadata": {},
          "execution_count": 63
        }
      ]
    },
    {
      "cell_type": "code",
      "source": [
        "y_pred=model.predict(X_test)"
      ],
      "metadata": {
        "id": "QyXiLnd2XzCN"
      },
      "execution_count": null,
      "outputs": []
    },
    {
      "cell_type": "markdown",
      "source": [
        "Accuracy Score of the model"
      ],
      "metadata": {
        "id": "pW7nXvihYBdC"
      }
    },
    {
      "cell_type": "code",
      "source": [
        "round(model.score(X_test,y_test)*100,2)"
      ],
      "metadata": {
        "colab": {
          "base_uri": "https://localhost:8080/"
        },
        "id": "cMqoxGFDX8h8",
        "outputId": "394701db-7fe1-40ff-8816-53403b80a7d7"
      },
      "execution_count": null,
      "outputs": [
        {
          "output_type": "execute_result",
          "data": {
            "text/plain": [
              "88.68"
            ]
          },
          "metadata": {},
          "execution_count": 65
        }
      ]
    },
    {
      "cell_type": "markdown",
      "source": [
        "* Accuracy of our initial model is 88.68% which seems to be decent, but  accuracy is not the best score when you have imbalanced dataset. Since ours is an imbalanced dataset accuracy can be sometime misleading so we will check some more evaulation metric to see whether we have a good model or not."
      ],
      "metadata": {
        "id": "ysDgUxh7YJgA"
      }
    },
    {
      "cell_type": "code",
      "source": [
        "from sklearn.metrics import classification_report, roc_auc_score, precision_recall_curve, auc, roc_curve,confusion_matrix"
      ],
      "metadata": {
        "id": "dmsLCjAbK5Pv"
      },
      "execution_count": null,
      "outputs": []
    },
    {
      "cell_type": "markdown",
      "source": [
        "#### Classification Report"
      ],
      "metadata": {
        "id": "oOT4GSgcTToG"
      }
    },
    {
      "cell_type": "code",
      "source": [
        "print(\"Classification Report:\")\n",
        "print(classification_report(y_test, y_pred))"
      ],
      "metadata": {
        "colab": {
          "base_uri": "https://localhost:8080/"
        },
        "id": "m27U8R0XNR1_",
        "outputId": "f7ed8c54-986d-434c-b456-915348fe9f3b"
      },
      "execution_count": null,
      "outputs": [
        {
          "output_type": "stream",
          "name": "stdout",
          "text": [
            "Classification Report:\n",
            "              precision    recall  f1-score   support\n",
            "\n",
            "           0       0.88      0.99      0.93     71438\n",
            "           1       0.92      0.47      0.62     17561\n",
            "\n",
            "    accuracy                           0.89     88999\n",
            "   macro avg       0.90      0.73      0.78     88999\n",
            "weighted avg       0.89      0.89      0.87     88999\n",
            "\n"
          ]
        }
      ]
    },
    {
      "cell_type": "code",
      "source": [
        "confusion_matrix(y_test,y_pred)"
      ],
      "metadata": {
        "colab": {
          "base_uri": "https://localhost:8080/"
        },
        "id": "qFjHqiTQNgZr",
        "outputId": "2f23284f-a943-474a-cf36-936dc40eb9c6"
      },
      "execution_count": null,
      "outputs": [
        {
          "output_type": "execute_result",
          "data": {
            "text/plain": [
              "array([[70710,   728],\n",
              "       [ 9343,  8218]])"
            ]
          },
          "metadata": {},
          "execution_count": 71
        }
      ]
    },
    {
      "cell_type": "markdown",
      "source": [
        "From the above observations we can say that\n",
        "\n",
        "* Precision for debtor (class 0) is high.\n",
        "* Precision for defaulter (class 1)is also high, which means the model predicts a customer a defaulter then there is chance that 92% the customer is a defaulter.\n",
        "* Sensitivity for Debtor class is high\n",
        "* Sensitivity for Defaulter class is low which means there are more False Negatives which is confirmed by the confusion matrix\n",
        "\n",
        "There are 2 possible reasons of low sensitivity of defaulter class\n",
        "* Data imbalance as there is more records in class 0\n",
        "* The threshold for classsification is 0.5\n"
      ],
      "metadata": {
        "id": "XKkCrl4kOHCp"
      }
    },
    {
      "cell_type": "markdown",
      "source": [
        "#### ROC Curve"
      ],
      "metadata": {
        "id": "fzzG-T6GTR2D"
      }
    },
    {
      "cell_type": "code",
      "source": [
        "fpr,tpr,threshold = roc_curve(y_test,y_pred)\n",
        "plt.plot(fpr, tpr, color='red')\n",
        "plt.plot([0, 1], [0, 1], color='blue', linestyle='--')\n",
        "plt.xlabel('False Positive Rate')\n",
        "plt.ylabel('True Positive Rate')\n",
        "plt.title('ROC Curve')\n",
        "plt.show()"
      ],
      "metadata": {
        "colab": {
          "base_uri": "https://localhost:8080/",
          "height": 472
        },
        "id": "QsLnVmPZR1Du",
        "outputId": "d9d2624b-8853-4092-b992-a52268174be7"
      },
      "execution_count": null,
      "outputs": [
        {
          "output_type": "display_data",
          "data": {
            "text/plain": [
              "<Figure size 640x480 with 1 Axes>"
            ],
            "image/png": "[encoded data removed]"
          },
          "metadata": {}
        }
      ]
    },
    {
      "cell_type": "code",
      "source": [
        "roc_auc_score(y_test,y_pred)"
      ],
      "metadata": {
        "colab": {
          "base_uri": "https://localhost:8080/"
        },
        "id": "nuS9cjUIZrgN",
        "outputId": "efd4f899-aa3a-4e87-a582-2afa0c5dd4e1"
      },
      "execution_count": null,
      "outputs": [
        {
          "output_type": "execute_result",
          "data": {
            "text/plain": [
              "0.9027110874527822"
            ]
          },
          "metadata": {},
          "execution_count": 92
        }
      ]
    },
    {
      "cell_type": "markdown",
      "source": [
        "#### Precision-Recall Curve"
      ],
      "metadata": {
        "id": "K2PbNxOnVRwH"
      }
    },
    {
      "cell_type": "code",
      "source": [
        "precision,recall,thresholds = precision_recall_curve(y_test,model.predict_proba(X_test)[:,1])\n",
        "plt.plot(recall,precision)\n",
        "plt.xlabel('Recall')\n",
        "plt.ylabel('Precision')\n",
        "plt.title('Precision-Recall Curve')\n",
        "plt.show()"
      ],
      "metadata": {
        "colab": {
          "base_uri": "https://localhost:8080/",
          "height": 472
        },
        "id": "iRhmowajUmpl",
        "outputId": "27a2d42a-f328-4b7e-e09a-4fe81d6a8823"
      },
      "execution_count": null,
      "outputs": [
        {
          "output_type": "display_data",
          "data": {
            "text/plain": [
              "<Figure size 640x480 with 1 Axes>"
            ],
            "image/png": "[encoded data removed]"
          },
          "metadata": {}
        }
      ]
    },
    {
      "cell_type": "code",
      "source": [
        "plt.figure()\n",
        "plt.plot(thresholds,precision[0:len(thresholds)],linestyle='--',label='precision',color='blue')\n",
        "plt.plot(thresholds,recall[0:len(thresholds)],label='recall',color='orange')\n",
        "plt.title(\"Precision-recall curve at different thresholds\")\n",
        "plt.xlabel(\"Threshold values\")\n",
        "plt.ylabel(\"Precision and Recall values\")\n",
        "plt.grid()\n",
        "plt.show()"
      ],
      "metadata": {
        "colab": {
          "base_uri": "https://localhost:8080/",
          "height": 472
        },
        "id": "8DhsuUDtVmPR",
        "outputId": "d33e09a5-6885-4248-d996-c8f005e0186a"
      },
      "execution_count": null,
      "outputs": [
        {
          "output_type": "display_data",
          "data": {
            "text/plain": [
              "<Figure size 640x480 with 1 Axes>"
            ],
            "image/png": "[encoded data removed]"
          },
          "metadata": {}
        }
      ]
    },
    {
      "cell_type": "markdown",
      "source": [
        "* Since precision and recall both are important to our business problem we take the threshold to be 0.3"
      ],
      "metadata": {
        "id": "1liMrJJIXDsK"
      }
    },
    {
      "cell_type": "code",
      "source": [
        "y_pred = model.predict_proba(X_test)[:,1]\n",
        "\n",
        "threshold_considered = 0.3\n",
        "\n",
        "y_pred_custom = (y_pred>threshold_considered).astype('int')\n",
        "y_pred_custom"
      ],
      "metadata": {
        "colab": {
          "base_uri": "https://localhost:8080/"
        },
        "id": "IgQyQ8NZXcp8",
        "outputId": "c06611c8-c075-4f3f-f5a0-af6c718cbef8"
      },
      "execution_count": null,
      "outputs": [
        {
          "output_type": "execute_result",
          "data": {
            "text/plain": [
              "array([0, 1, 1, ..., 0, 0, 0])"
            ]
          },
          "metadata": {},
          "execution_count": 87
        }
      ]
    },
    {
      "cell_type": "code",
      "source": [
        "print(classification_report(y_test,y_pred_custom))"
      ],
      "metadata": {
        "colab": {
          "base_uri": "https://localhost:8080/"
        },
        "id": "VQCQrWrAYM5w",
        "outputId": "8fadb868-2f1c-4d8a-d802-808e4d51fe49"
      },
      "execution_count": null,
      "outputs": [
        {
          "output_type": "stream",
          "name": "stdout",
          "text": [
            "              precision    recall  f1-score   support\n",
            "\n",
            "           0       0.91      0.92      0.92     71438\n",
            "           1       0.67      0.63      0.65     17561\n",
            "\n",
            "    accuracy                           0.87     88999\n",
            "   macro avg       0.79      0.78      0.78     88999\n",
            "weighted avg       0.86      0.87      0.86     88999\n",
            "\n"
          ]
        }
      ]
    },
    {
      "cell_type": "code",
      "source": [
        "fpr,tpr,threshold = roc_curve(y_test,y_pred_custom)\n",
        "plt.plot(fpr, tpr, color='red')\n",
        "plt.plot([0, 1], [0, 1], color='blue', linestyle='--')\n",
        "plt.xlabel('False Positive Rate')\n",
        "plt.ylabel('True Positive Rate')\n",
        "plt.title('ROC Curve')\n",
        "plt.show()"
      ],
      "metadata": {
        "colab": {
          "base_uri": "https://localhost:8080/",
          "height": 472
        },
        "id": "bBUUhFUSZV0-",
        "outputId": "ecd34903-410e-47d3-da8f-27ae097ae657"
      },
      "execution_count": null,
      "outputs": [
        {
          "output_type": "display_data",
          "data": {
            "text/plain": [
              "<Figure size 640x480 with 1 Axes>"
            ],
            "image/png": "[encoded data removed]"
          },
          "metadata": {}
        }
      ]
    },
    {
      "cell_type": "code",
      "source": [
        "roc_auc_score(y_test,y_pred_custom)"
      ],
      "metadata": {
        "colab": {
          "base_uri": "https://localhost:8080/"
        },
        "id": "xChaeE4LZjw5",
        "outputId": "d377136e-eb32-4a4f-8ed4-61ab677e31fc"
      },
      "execution_count": null,
      "outputs": [
        {
          "output_type": "execute_result",
          "data": {
            "text/plain": [
              "0.7771014211318571"
            ]
          },
          "metadata": {},
          "execution_count": 90
        }
      ]
    },
    {
      "cell_type": "markdown",
      "source": [
        "From the above plots we see that\n",
        "* By reducing the threshold from 0.5 to 0.3 the au-roc value decreased\n",
        "* There was improvement in recall score of defaulters and the f1 score also increased a little bit ."
      ],
      "metadata": {
        "id": "WvB7SpDuaVXr"
      }
    },
    {
      "cell_type": "markdown",
      "source": [
        "##### Applying SMOTE to balance the data and see if there is improvement in model performance"
      ],
      "metadata": {
        "id": "hrcHsqB1bxrY"
      }
    },
    {
      "cell_type": "code",
      "source": [
        "from imblearn.over_sampling import SMOTE"
      ],
      "metadata": {
        "id": "NxB2EmAjbdEX"
      },
      "execution_count": null,
      "outputs": []
    },
    {
      "cell_type": "code",
      "source": [
        "smt = SMOTE()\n",
        "X_sm, y_sm = smt.fit_resample(X_train, y_train)\n",
        "model = LogisticRegression(C= 5, penalty= 'l1', solver = 'liblinear')"
      ],
      "metadata": {
        "id": "1-c6Aa_Bc9Ni"
      },
      "execution_count": null,
      "outputs": []
    },
    {
      "cell_type": "code",
      "source": [
        "model.fit(X_sm, y_sm)"
      ],
      "metadata": {
        "colab": {
          "base_uri": "https://localhost:8080/",
          "height": 74
        },
        "id": "9Rl4nDOYewQj",
        "outputId": "9a948eb1-d9e8-46de-a692-9b1b9d0b645d"
      },
      "execution_count": null,
      "outputs": [
        {
          "output_type": "execute_result",
          "data": {
            "text/plain": [
              "LogisticRegression(C=5, penalty='l1', solver='liblinear')"
            ],
            "text/html": [
              "<style>#sk-container-id-2 {color: black;background-color: white;}#sk-container-id-2 pre{padding: 0;}#sk-container-id-2 div.sk-toggleable {background-color: white;}#sk-container-id-2 label.sk-toggleable__label {cursor: pointer;display: block;width: 100%;margin-bottom: 0;padding: 0.3em;box-sizing: border-box;text-align: center;}#sk-container-id-2 label.sk-toggleable__label-arrow:before {content: \"▸\";float: left;margin-right: 0.25em;color: #696969;}#sk-container-id-2 label.sk-toggleable__label-arrow:hover:before {color: black;}#sk-container-id-2 div.sk-estimator:hover label.sk-toggleable__label-arrow:before {color: black;}#sk-container-id-2 div.sk-toggleable__content {max-height: 0;max-width: 0;overflow: hidden;text-align: left;background-color: #f0f8ff;}#sk-container-id-2 div.sk-toggleable__content pre {margin: 0.2em;color: black;border-radius: 0.25em;background-color: #f0f8ff;}#sk-container-id-2 input.sk-toggleable__control:checked~div.sk-toggleable__content {max-height: 200px;max-width: 100%;overflow: auto;}#sk-container-id-2 input.sk-toggleable__control:checked~label.sk-toggleable__label-arrow:before {content: \"▾\";}#sk-container-id-2 div.sk-estimator input.sk-toggleable__control:checked~label.sk-toggleable__label {background-color: #d4ebff;}#sk-container-id-2 div.sk-label input.sk-toggleable__control:checked~label.sk-toggleable__label {background-color: #d4ebff;}#sk-container-id-2 input.sk-hidden--visually {border: 0;clip: rect(1px 1px 1px 1px);clip: rect(1px, 1px, 1px, 1px);height: 1px;margin: -1px;overflow: hidden;padding: 0;position: absolute;width: 1px;}#sk-container-id-2 div.sk-estimator {font-family: monospace;background-color: #f0f8ff;border: 1px dotted black;border-radius: 0.25em;box-sizing: border-box;margin-bottom: 0.5em;}#sk-container-id-2 div.sk-estimator:hover {background-color: #d4ebff;}#sk-container-id-2 div.sk-parallel-item::after {content: \"\";width: 100%;border-bottom: 1px solid gray;flex-grow: 1;}#sk-container-id-2 div.sk-label:hover label.sk-toggleable__label {background-color: #d4ebff;}#sk-container-id-2 div.sk-serial::before {content: \"\";position: absolute;border-left: 1px solid gray;box-sizing: border-box;top: 0;bottom: 0;left: 50%;z-index: 0;}#sk-container-id-2 div.sk-serial {display: flex;flex-direction: column;align-items: center;background-color: white;padding-right: 0.2em;padding-left: 0.2em;position: relative;}#sk-container-id-2 div.sk-item {position: relative;z-index: 1;}#sk-container-id-2 div.sk-parallel {display: flex;align-items: stretch;justify-content: center;background-color: white;position: relative;}#sk-container-id-2 div.sk-item::before, #sk-container-id-2 div.sk-parallel-item::before {content: \"\";position: absolute;border-left: 1px solid gray;box-sizing: border-box;top: 0;bottom: 0;left: 50%;z-index: -1;}#sk-container-id-2 div.sk-parallel-item {display: flex;flex-direction: column;z-index: 1;position: relative;background-color: white;}#sk-container-id-2 div.sk-parallel-item:first-child::after {align-self: flex-end;width: 50%;}#sk-container-id-2 div.sk-parallel-item:last-child::after {align-self: flex-start;width: 50%;}#sk-container-id-2 div.sk-parallel-item:only-child::after {width: 0;}#sk-container-id-2 div.sk-dashed-wrapped {border: 1px dashed gray;margin: 0 0.4em 0.5em 0.4em;box-sizing: border-box;padding-bottom: 0.4em;background-color: white;}#sk-container-id-2 div.sk-label label {font-family: monospace;font-weight: bold;display: inline-block;line-height: 1.2em;}#sk-container-id-2 div.sk-label-container {text-align: center;}#sk-container-id-2 div.sk-container {/* jupyter's `normalize.less` sets `[hidden] { display: none; }` but bootstrap.min.css set `[hidden] { display: none !important; }` so we also need the `!important` here to be able to override the default hidden behavior on the sphinx rendered scikit-learn.org. See: https://github.com/scikit-learn/scikit-learn/issues/21755 */display: inline-block !important;position: relative;}#sk-container-id-2 div.sk-text-repr-fallback {display: none;}</style><div id=\"sk-container-id-2\" class=\"sk-top-container\"><div class=\"sk-text-repr-fallback\"><pre>LogisticRegression(C=5, penalty=&#x27;l1&#x27;, solver=&#x27;liblinear&#x27;)</pre><b>In a Jupyter environment, please rerun this cell to show the HTML representation or trust the notebook. <br />On GitHub, the HTML representation is unable to render, please try loading this page with nbviewer.org.</b></div><div class=\"sk-container\" hidden><div class=\"sk-item\"><div class=\"sk-estimator sk-toggleable\"><input class=\"sk-toggleable__control sk-hidden--visually\" id=\"sk-estimator-id-2\" type=\"checkbox\" checked><label for=\"sk-estimator-id-2\" class=\"sk-toggleable__label sk-toggleable__label-arrow\">LogisticRegression</label><div class=\"sk-toggleable__content\"><pre>LogisticRegression(C=5, penalty=&#x27;l1&#x27;, solver=&#x27;liblinear&#x27;)</pre></div></div></div></div></div>"
            ]
          },
          "metadata": {},
          "execution_count": 99
        }
      ]
    },
    {
      "cell_type": "code",
      "source": [
        "model.score(X_sm, y_sm)"
      ],
      "metadata": {
        "colab": {
          "base_uri": "https://localhost:8080/"
        },
        "id": "OAihw4SQfNfy",
        "outputId": "13ad275d-5122-4ed6-bce8-6ae0de9d6ece"
      },
      "execution_count": null,
      "outputs": [
        {
          "output_type": "execute_result",
          "data": {
            "text/plain": [
              "0.8055745405291216"
            ]
          },
          "metadata": {},
          "execution_count": 101
        }
      ]
    },
    {
      "cell_type": "code",
      "source": [
        "train_score = model.predict(X_sm)\n",
        "test_score = model.predict(X_test)\n",
        "from sklearn.metrics import f1_score\n",
        "\n",
        "f1_train = f1_score(y_sm,train_score)\n",
        "f1_test = f1_score(y_test,test_score)\n",
        "\n",
        "print(f'Training F1 Score: {f1_train}')\n",
        "print(f'Test F1 Score: {f1_test}')"
      ],
      "metadata": {
        "colab": {
          "base_uri": "https://localhost:8080/"
        },
        "id": "I-nLOOiRdOkb",
        "outputId": "d9ad471d-9f25-402a-be5c-f0a396ec12fd"
      },
      "execution_count": null,
      "outputs": [
        {
          "output_type": "stream",
          "name": "stdout",
          "text": [
            "Training F1 Score: 0.8048287605017121\n",
            "Test F1 Score: 0.6152001066050726\n"
          ]
        }
      ]
    },
    {
      "cell_type": "markdown",
      "source": [
        "### How can we make sure that our model can detect real defaulters and there are less false positives?"
      ],
      "metadata": {
        "id": "_wbfZkLk2sCA"
      }
    },
    {
      "cell_type": "markdown",
      "source": [
        "Reducing false positives and giving loans only to non-defaulters is crucial in credit / loan industry.Here are some points that might help to achieve it\n",
        "\n",
        "* Use features that shows a customers credit worthiness like credit score , debt to income ratio , annual income , employement etc\n",
        "* Create features that might help in prediction such as no of active loans, loan history,repayment pattern\n",
        "* Usage of other ML algorithms that might handle imbalanced data well like RandomForest , AdaBoost and XGBoost .\n",
        "* Optimizing the hyperparameters to correctly determine the class.By using Random Search or Grid Search method to determine the best value of hyperparameter.\n",
        "* Consider metrics like pr-curve , au-roc , f1 score for model evaluation. Focus on maintaining a higher precision value and also a good recall value to reduce false negatives.\n",
        "* Moniter the model performance , update and retrain to improve model scores."
      ],
      "metadata": {
        "id": "jsb47Iuo29mA"
      }
    },
    {
      "cell_type": "markdown",
      "source": [
        "### Given that NPA (non-performing asset) is a real problem in this industry, How play it safe and avoid disbursing loans to anyone?"
      ],
      "metadata": {
        "id": "POfQDyQw7NnN"
      }
    },
    {
      "cell_type": "markdown",
      "source": [
        "1. Adhere to regulatory guidelines and disburse loans responsibly and legally.\n",
        "2. Conduct a thorough review of the customer's past loan repayment history and establish strict approval criteria.\n",
        "3. Avoid lending to customers with a history of defaulting or bankruptcy.\n",
        "4. Stay updated with credit regulations issued by the government and regulatory departments.\n",
        "5. Monitor the borrower's financial behavior even after disbursing the loan.\n",
        "6. Utilize alternative sources like utility payments and spending behavior to assess creditworthiness.\n",
        "7. Establish parameters to identify potential financial distress in customers early.\n",
        "8. Collaborate with credit bureaus for accurate assessments of creditworthiness."
      ],
      "metadata": {
        "id": "fvOiBABn8JGG"
      }
    },
    {
      "cell_type": "markdown",
      "source": [
        "## **Insights**"
      ],
      "metadata": {
        "id": "RXzEAQm9_02-"
      }
    },
    {
      "cell_type": "markdown",
      "source": [
        "1. The number of people taking loans for **36 months** is higher compared to **60 months**.\n",
        "2. Loan distribution by house ownership is **MORTGAGE > RENT > OWN**, with minimal numbers in other categories.\n",
        "3. Verification status shows an **equal distribution** of customers across almost all categories.\n",
        "4. In loan application types, the **individual** category **dominates**.\n",
        "5. Most people in **Grade B** have paid off their loans.\n",
        "6. Within **Grade B**, sub-grade **B3** has the highest number of people who have paid off their loans.\n",
        "7. A **small number** of people are categorized in **G grade**.\n",
        "8. The number of **defaulters in sub-grade A1** is the least, indicating genuine borrowers.\n",
        "9. **Precision for debtors (class 0)** is high.\n",
        "10. **Precision for defaulters (class 1)** is also high, meaning there's a **92% chance** that a predicted defaulter is indeed a defaulter.\n",
        "11. **Sensitivity for debtors** is high, but sensitivity for defaulters is low, indicating more false negatives, as confirmed by the confusion matrix.\n",
        "12. **Teachers, managers, nurses, and supervisors** are the job roles with the most loans taken."
      ],
      "metadata": {
        "id": "D18ANC76_9iv"
      }
    },
    {
      "cell_type": "markdown",
      "source": [
        "## **Recommendations**"
      ],
      "metadata": {
        "id": "r-XNOvmVVw52"
      }
    },
    {
      "cell_type": "markdown",
      "source": [
        "* Keep a close track of high-interest loans, as there is a 40% chance of default. Implement stricter monitoring and risk management for these loans.\n",
        "Promote low-interest loans more aggressively, as the probability of repayment exceeds 90%.\n",
        "* Encourage joint loans, as they have the highest probability of being fully paid among all categories.\n",
        "* Offer more term period options, allowing customers to choose payment schedules that align with their income levels.\n",
        "* Equalize loan distribution among high-paying job title customers, where the expectation for full repayment is higher.\n",
        "* Maintain a strict approval process for EDUCATION, MEDICAL, and other essential purposes to build customer loyalty.\n",
        "* Leverage alternative sources like utility payments and spending behavior to assess creditworthiness and reduce defaults.\n",
        "* Collaborate closely with credit bureaus to ensure accurate assessments of creditworthiness and reduce risk.\n",
        "* Continuously update and align with regulatory credit rules to maintain compliance and enhance loan disbursement strategies."
      ],
      "metadata": {
        "id": "vplrU-0DV0vi"
      }
    }
  ]
}